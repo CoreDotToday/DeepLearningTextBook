{
 "cells": [
  {
   "cell_type": "code",
   "execution_count": 1,
   "metadata": {
    "id": "S3xFeOmuvMMq"
   },
   "outputs": [],
   "source": [
    "%matplotlib inline"
   ]
  },
  {
   "cell_type": "markdown",
   "metadata": {
    "id": "GIcqbClVvMMt"
   },
   "source": [
    "# MNIST 실습"
   ]
  },
  {
   "cell_type": "markdown",
   "metadata": {
    "id": "-WtAi7VmvMMt"
   },
   "source": [
    "## DNN\n",
    "- Step 1. MNIST 데이터셋 가져오기\n",
    "- Step 2. Keras로 DNN 구성하기\n",
    "- Step 3. Train 데이터로 학습하기\n",
    "- Step 4. Test 데이터로 성능평가\n",
    "\n",
    "## CNN\n",
    "- Step 1. MNIST 데이터셋 가져오기\n",
    "- Step 2. Keras로 CNN 구성하기\n",
    "- Step 3. Train 데이터로 학습하기\n",
    "- Step 4. Test 데이터로 성능평가"
   ]
  },
  {
   "cell_type": "markdown",
   "metadata": {},
   "source": [
    "MNIST 데이터셋은 얀 르쿤 교수님의 홈페이지에서 받을 수 있습니다.   \n",
    "http://yann.lecun.com/exdb/mnist/"
   ]
  },
  {
   "cell_type": "markdown",
   "metadata": {},
   "source": [
    "<img src=\"https://raw.githubusercontent.com/CoreDotToday/DeepLearningTextBook/main/MNIST/static/MNIST_1.png\" >"
   ]
  },
  {
   "cell_type": "markdown",
   "metadata": {},
   "source": [
    "이 MNIST 데이터셋을 사용한 분류기(Classifier)들의 성능도 게시되어 있습니다.   \n",
    "DNN으로는 `0.35`까지, CNN으로는 `0.23`까지 오류를 줄일 수 있었네요"
   ]
  },
  {
   "cell_type": "markdown",
   "metadata": {},
   "source": [
    "<img src=\"https://raw.githubusercontent.com/CoreDotToday/DeepLearningTextBook/main/MNIST/static/MNIST_2.png\" >"
   ]
  },
  {
   "cell_type": "markdown",
   "metadata": {},
   "source": [
    "MNIST 데이터셋은 총 6만 개의 학습(Train) 셋과 1만 개의 테스트(Test) 셋으로 구성되어 있습니다."
   ]
  },
  {
   "cell_type": "markdown",
   "metadata": {
    "id": "hCuTstZqvMMu"
   },
   "source": [
    "<img src=\"https://raw.githubusercontent.com/CoreDotToday/DeepLearningTextBook/main/MNIST/static/MNIST_3.png\" >"
   ]
  },
  {
   "cell_type": "markdown",
   "metadata": {},
   "source": [
    "데이터셋의 내부에는 아래와 같은 포맷으로 작성되어 있습니다."
   ]
  },
  {
   "cell_type": "markdown",
   "metadata": {},
   "source": [
    "<img src=\"https://raw.githubusercontent.com/CoreDotToday/DeepLearningTextBook/main/MNIST/static/MNIST_4.png\" >"
   ]
  },
  {
   "cell_type": "markdown",
   "metadata": {},
   "source": [
    "하지만 우리는 Keras의 데이터셋 함수를 이용해서 더 쉽게 이용해 보겠습니다! ^^"
   ]
  },
  {
   "cell_type": "markdown",
   "metadata": {
    "id": "39pbFNrxvMMu"
   },
   "source": [
    "## 파이썬 라이브러리 불러오기\n",
    "\n",
    "사용할 라이브러리들을 불러옵니다."
   ]
  },
  {
   "cell_type": "code",
   "execution_count": 2,
   "metadata": {
    "id": "20Q5cME3vMMu"
   },
   "outputs": [],
   "source": [
    "import numpy as np                   # 수치 연산 라이브러리\n",
    "import matplotlib.pyplot as plt      # 그림 그리는 라이브러리\n",
    "import random                        # 무작위 숫자 생성을 위해 임포트\n",
    "\n",
    "from keras.datasets import mnist     # MNIST 데이터셋을 불러오기 위한 보조 함수\n",
    "from keras.models import Sequential  # Keras의 시퀀셜 모델\n",
    "\n",
    "from keras.layers.core import Dense, Dropout, Activation # 모델에서 사용할 레이어 형태\n",
    "from keras.utils import np_utils                         # 넘파이 관련한 도구들"
   ]
  },
  {
   "cell_type": "markdown",
   "metadata": {
    "id": "vdv1vbogvMMv"
   },
   "source": [
    "## 데이터셋 불러오기\n",
    "\n",
    "Keras의 datasets를 이용해 MNIST 데이터셋을 불러오겠습니다."
   ]
  },
  {
   "cell_type": "code",
   "execution_count": 3,
   "metadata": {
    "colab": {
     "base_uri": "https://localhost:8080/"
    },
    "id": "Uxgnh4LIvMMv",
    "outputId": "3a423184-f8a0-4906-c04f-09edfc379ed7"
   },
   "outputs": [
    {
     "name": "stdout",
     "output_type": "stream",
     "text": [
      "X_train shape (60000, 28, 28)\n",
      "y_train shape (60000,)\n",
      "X_test shape (10000, 28, 28)\n",
      "y_test shape (10000,)\n"
     ]
    }
   ],
   "source": [
    "# MNIST 데이터는 60,000개(28x28 pixel)의 학습 이미지와 10,000개(28x28pixel)의 테스트 이미지로 구성되어 있습니다\n",
    "(X_train, y_train), (X_test, y_test) = mnist.load_data()\n",
    "\n",
    "# Train 데이터\n",
    "print(\"X_train shape\", X_train.shape)  # 이미지 데이터\n",
    "print(\"y_train shape\", y_train.shape)  # 레이블 데이터\n",
    "# Test 데이터\n",
    "print(\"X_test shape\", X_test.shape)  # 이미지 데이터\n",
    "print(\"y_test shape\", y_test.shape)  # 레이블 데이터"
   ]
  },
  {
   "cell_type": "markdown",
   "metadata": {},
   "source": [
    "불러온 데이터를 그림으로 한 번 그려보겠습니다.   \n",
    "데이터가 많으니 무작위로 몇 개를 골라서 그려보겠습니다.   \n",
    "셀을 다시 실행하면 또 다른 무작위 그림이 출력됩니다."
   ]
  },
  {
   "cell_type": "code",
   "execution_count": 4,
   "metadata": {
    "colab": {
     "base_uri": "https://localhost:8080/",
     "height": 657
    },
    "id": "XNODqLLDvMMv",
    "outputId": "3ab919b4-4d07-4bbe-dcd1-e906b5f40a58"
   },
   "outputs": [
    {
     "data": {
      "image/png": "[encoded data removed]",
      "text/plain": [
       "<Figure size 648x648 with 9 Axes>"
      ]
     },
     "metadata": {
      "needs_background": "light"
     },
     "output_type": "display_data"
    }
   ],
   "source": [
    "plt.rcParams['figure.figsize'] = (9,9)  # 그림의 사이즈를 정합니다\n",
    "\n",
    "for i in range(9):\n",
    "    plt.subplot(3,3,i+1)  # 그림이 그려질 위치를 정합니다\n",
    "    num = random.randint(0, len(X_train))  # 그림을 그릴 대상 데이터셋을 무작위로 정합니다\n",
    "    plt.imshow(X_train[num], cmap='gray', interpolation='none')  # 이미지를 그립니다\n",
    "    plt.title(\"Class {}\".format(y_train[num]))  # 이미지에 제목을 글자로 표시합니다\n",
    "    \n",
    "plt.tight_layout()  # 간격을 좁혀서 그림을 그립니다"
   ]
  },
  {
   "cell_type": "markdown",
   "metadata": {
    "id": "Gou9HyURvMMw"
   },
   "source": [
    "이미지 말고 배열로도 그려보겠습니다"
   ]
  },
  {
   "cell_type": "code",
   "execution_count": 5,
   "metadata": {
    "id": "7-1PMQB2wK4K"
   },
   "outputs": [],
   "source": [
    "# 행렬을 출력할 함수를 만듭니다\n",
    "def matprint(mat, fmt=\"g\"):\n",
    "    col_maxes = [max([len((\"{:\"+fmt+\"}\").format(x)) for x in col]) for col in mat.T]\n",
    "    for x in mat:\n",
    "        for i, y in enumerate(x):\n",
    "            print((\"{:\"+str(col_maxes[i])+fmt+\"}\").format(y), end=\"  \")\n",
    "        print(\"\")"
   ]
  },
  {
   "cell_type": "code",
   "execution_count": 6,
   "metadata": {
    "colab": {
     "base_uri": "https://localhost:8080/"
    },
    "id": "Q2Pn_kfGvMMw",
    "outputId": "59ae1e47-5961-454e-9819-43bbb271fb9d"
   },
   "outputs": [
    {
     "name": "stdout",
     "output_type": "stream",
     "text": [
      "0  0  0  0  0  0  0  0   0    0    0    0    0    0    0    0    0    0    0    0    0   0  0  0  0  0  0  0  \n",
      "0  0  0  0  0  0  0  0   0    0    0    0    0    0    0    0    0    0    0    0    0   0  0  0  0  0  0  0  \n",
      "0  0  0  0  0  0  0  0   0    0    0    0    0    0    0    0    0    0    0    0    0   0  0  0  0  0  0  0  \n",
      "0  0  0  0  0  0  0  0   0    0    0    0    0    0    0    0    0    0    0    0    0   0  0  0  0  0  0  0  \n",
      "0  0  0  0  0  0  0  0   0    0    0    0    0    0    0    0    0    0    0    0    0   0  0  0  0  0  0  0  \n",
      "0  0  0  0  0  0  0  0   0    0    0    0    0    0   36  146  254  255  251   95    6   0  0  0  0  0  0  0  \n",
      "0  0  0  0  0  0  0  0   0    0    0    0    3   97  234  254  254  232  254  254   35   0  0  0  0  0  0  0  \n",
      "0  0  0  0  0  0  0  0   0    0    0   89  140  254  254  174   67   33  200  254  190   0  0  0  0  0  0  0  \n",
      "0  0  0  0  0  0  0  0   0    0  108  253  254  235   51    1    0    0   12  254  253  56  0  0  0  0  0  0  \n",
      "0  0  0  0  0  0  0  0   0   12  216  254  244   55    0    0    0    0    6  213  254  57  0  0  0  0  0  0  \n",
      "0  0  0  0  0  0  0  0   0   25  254  254  132    0    0    0    0    0    0  168  254  57  0  0  0  0  0  0  \n",
      "0  0  0  0  0  0  0  0   0   45  254  243   34    0    0    0    0    0    0  168  254  57  0  0  0  0  0  0  \n",
      "0  0  0  0  0  0  0  0   0  128  254  157    0    0    0    0    0    0    0  168  254  57  0  0  0  0  0  0  \n",
      "0  0  0  0  0  0  0  0  19  228  254  105    0    0    0    0    0    0    7  228  254  57  0  0  0  0  0  0  \n",
      "0  0  0  0  0  0  0  0  58  254  254   87    0    0    0    0    0    0   10  254  246  47  0  0  0  0  0  0  \n",
      "0  0  0  0  0  0  0  0  58  254  254    9    0    0    0    0    0    0   10  254  210   0  0  0  0  0  0  0  \n",
      "0  0  0  0  0  0  0  0  58  254  254    9    0    0    0    0    0    0  105  254   91   0  0  0  0  0  0  0  \n",
      "0  0  0  0  0  0  0  0   5  219  254    9    0    0    0    0    0   24  230  254   24   0  0  0  0  0  0  0  \n",
      "0  0  0  0  0  0  0  0   0  216  254    9    0    0    0    0    0   84  254  251   23   0  0  0  0  0  0  0  \n",
      "0  0  0  0  0  0  0  0   0  216  254   36    0    0    0    0   22  208  251   94    0   0  0  0  0  0  0  0  \n",
      "0  0  0  0  0  0  0  0   0  129  254  120    0    0    0    3  140  254  229    0    0   0  0  0  0  0  0  0  \n",
      "0  0  0  0  0  0  0  0   0   83  254  222   17    0    0   91  254  236   53    0    0   0  0  0  0  0  0  0  \n",
      "0  0  0  0  0  0  0  0   0   18  235  254  134   21  119  237  254  124    0    0    0   0  0  0  0  0  0  0  \n",
      "0  0  0  0  0  0  0  0   0    0   53  249  254  234  252  254  172    3    0    0    0   0  0  0  0  0  0  0  \n",
      "0  0  0  0  0  0  0  0   0    0    0  116  237  254  254  133   20    0    0    0    0   0  0  0  0  0  0  0  \n",
      "0  0  0  0  0  0  0  0   0    0    0    0    0    0    0    0    0    0    0    0    0   0  0  0  0  0  0  0  \n",
      "0  0  0  0  0  0  0  0   0    0    0    0    0    0    0    0    0    0    0    0    0   0  0  0  0  0  0  0  \n",
      "0  0  0  0  0  0  0  0   0    0    0    0    0    0    0    0    0    0    0    0    0   0  0  0  0  0  0  0  \n",
      "==========\n",
      "정답 : 0\n"
     ]
    }
   ],
   "source": [
    "num = 1000  # 그림을 그릴 데이터셋 번호를 지정합니다\n",
    "matprint(X_train[num])  # 행렬을 출력 합니다\n",
    "print(\"==========\\n정답 :\", y_train[num])"
   ]
  },
  {
   "cell_type": "markdown",
   "metadata": {},
   "source": [
    "각 픽셀은 8bit 정수이며, 0부터 255 사이의 값을 갖습니다.   \n",
    "이미지에서 숫자 `0`은 검정, 숫자 `255`는 하양을 표현합니다.\n",
    "\n",
    "이것을 싱글-채널 픽셀이라고 부르며, 단색(monochrome)이라고 합니다."
   ]
  },
  {
   "cell_type": "markdown",
   "metadata": {
    "id": "9hw-M47JvMMx"
   },
   "source": [
    "## 입력층의 형태로 데이터 전처리\n",
    "\n",
    "이미지는 28x28 행렬의 형태로 데이터가 존재하지만, DNN의 입력층은 한 줄로 죽 늘어선 벡터 형태여야 합니다. 그래서 우리는 28x28을 784 길이를 가진 벡터로 바꿔보겠습니다(reshape or flatten).\n",
    "\n",
    "그리고 [0-255]의 값을 [0-1]로 정규화(nomalize)하겠습니다."
   ]
  },
  {
   "cell_type": "markdown",
   "metadata": {
    "id": "QF1arWcdvMMx"
   },
   "source": [
    "<img src='https://raw.githubusercontent.com/CoreDotToday/DeepLearningTextBook/main/MNIST/static/flatten.png' >"
   ]
  },
  {
   "cell_type": "code",
   "execution_count": 7,
   "metadata": {
    "colab": {
     "base_uri": "https://localhost:8080/"
    },
    "id": "aZXsGxDMvMMx",
    "outputId": "29aacc0c-1da2-4900-acac-3703b827b189"
   },
   "outputs": [
    {
     "name": "stdout",
     "output_type": "stream",
     "text": [
      "학습 행렬 모양 : (60000, 784)\n",
      "테스트 행렬 모양 (10000, 784)\n"
     ]
    }
   ],
   "source": [
    "X_train = X_train.reshape(60000, 784) # 60,000개(28x28) 행렬을 60,000개의 784 길이의 벡터로 변환\n",
    "X_test = X_test.reshape(10000, 784)   # 10,000개(28x28) 행렬을 10,000개의 784 길이의 벡터로 변환\n",
    "\n",
    "X_train = X_train.astype('float32')   # 손쉬운 정규화를 위해서 integer 형태를 float32로 변환\n",
    "X_test = X_test.astype('float32')\n",
    "\n",
    "X_train /= 255                        # 각 픽셀의 값을 255로 나누어 [0-1] 값으로 정규화\n",
    "X_test /= 255\n",
    "\n",
    "print(\"학습 행렬 모양 :\", X_train.shape)\n",
    "print(\"테스트 행렬 모양\", X_test.shape)"
   ]
  },
  {
   "cell_type": "markdown",
   "metadata": {
    "id": "o8NF2NhwvMMx"
   },
   "source": [
    "이미지 뿐만 아니라 레이블 값도 아래와 같이 벡터의 형태로 바꾸어야 합니다.   \n",
    "레이블 벡터는 총 10개의 공간을 갖고 있고, 앞에서부터 `0~9`를 표현한다고 가정합니다.   \n",
    "만약 숫자 `0`이라면, `[1, 0, 0, 0, 0, 0, 0, 0, 0, 0]`으로 숫자 `0`을 표현합니다.\n",
    "\n",
    "\n",
    "```\n",
    "0 -> [1, 0, 0, 0, 0, 0, 0, 0, 0]\n",
    "1 -> [0, 1, 0, 0, 0, 0, 0, 0, 0]\n",
    "2 -> [0, 0, 1, 0, 0, 0, 0, 0, 0]\n",
    "...\n",
    "```\n",
    "\n",
    "이러한 정답 데이터로 학습을 했을 때, 모델로부터 도출된 결과값은 1에 가까운 숫자의 위치일수록 그 숫자를 표현한다고 말할 수 있습니다.   \n",
    "예를 들어 다음의 결과값은  숫자 1일 확률이 크다고 표현할 수 있습니다.\n",
    "\n",
    "```\n",
    "[0, 0.94, 0, 0, 0, 0, 0.06, 0, 0]\n",
    "```"
   ]
  },
  {
   "cell_type": "markdown",
   "metadata": {},
   "source": [
    "이런 라벨링은 np_utils를 통해 손쉽게 만들 수 있습니다.   \n",
    "to_categorical 함수를 이용하면 바로 정답 데이터를 만들 수 있습니다."
   ]
  },
  {
   "cell_type": "code",
   "execution_count": 8,
   "metadata": {
    "id": "u20WF_sgvMMy"
   },
   "outputs": [],
   "source": [
    "nb_classes = 10  # 숫자의 총 개수\n",
    "\n",
    "Y_train = np_utils.to_categorical(y_train, nb_classes)\n",
    "Y_test = np_utils.to_categorical(y_test, nb_classes)"
   ]
  },
  {
   "cell_type": "code",
   "execution_count": 9,
   "metadata": {},
   "outputs": [
    {
     "data": {
      "text/plain": [
       "5"
      ]
     },
     "execution_count": 9,
     "metadata": {},
     "output_type": "execute_result"
    }
   ],
   "source": [
    "y_train[0]"
   ]
  },
  {
   "cell_type": "code",
   "execution_count": 10,
   "metadata": {},
   "outputs": [
    {
     "data": {
      "text/plain": [
       "array([0., 0., 0., 0., 0., 1., 0., 0., 0., 0.], dtype=float32)"
      ]
     },
     "execution_count": 10,
     "metadata": {},
     "output_type": "execute_result"
    }
   ],
   "source": [
    "Y_train[0]"
   ]
  },
  {
   "cell_type": "markdown",
   "metadata": {
    "id": "AIn322LWvMMy"
   },
   "source": [
    "# 3층 Fully Connected Network\n",
    "\n",
    "<img src=\"https://raw.githubusercontent.com/CoreDotToday/DeepLearningTextBook/main/MNIST/static/figure.png\" />"
   ]
  },
  {
   "cell_type": "code",
   "execution_count": 11,
   "metadata": {
    "id": "L7YJJgMqvMMy"
   },
   "outputs": [],
   "source": [
    "# Keras의 시퀀셜 모델을 사용합니다.\n",
    "\n",
    "model = Sequential()"
   ]
  },
  {
   "cell_type": "markdown",
   "metadata": {
    "id": "SgCUbdopvMMy"
   },
   "source": [
    "## 첫 번째 은닉 층"
   ]
  },
  {
   "cell_type": "code",
   "execution_count": 12,
   "metadata": {
    "id": "tyyRTIWuvMMy"
   },
   "outputs": [],
   "source": [
    "# 첫 번째 은닉 층은 512개의 노드를 갖도록 해보겠습니다.\n",
    "# 각 노드는 각 입력 벡터와 가중치 그리고 편향을 받습니다.\n",
    "\n",
    "model.add(Dense(512, input_shape=(784,))) #(784,)에서 ,는 오타가 아니라 784 길이 벡터를 표현합니다"
   ]
  },
  {
   "cell_type": "code",
   "execution_count": 13,
   "metadata": {
    "id": "oG-5xNdTvMMz"
   },
   "outputs": [],
   "source": [
    "# 활성화 함수는 relu를 써보겠습니다.\n",
    "# 얼마든지 다른 활성화 함수로도 변경해 보세요!\n",
    "# 활성화 함수의 종류 : https://keras.io/api/layers/activations/\n",
    "\n",
    "model.add(Activation('relu'))"
   ]
  },
  {
   "cell_type": "markdown",
   "metadata": {
    "id": "naf-kyRevMMz"
   },
   "source": [
    "$$f(x) = max (0,x)$$\n",
    "<img src = 'https://raw.githubusercontent.com/CoreDotToday/DeepLearningTextBook/main/MNIST/static/relu.jpg' >"
   ]
  },
  {
   "cell_type": "code",
   "execution_count": 14,
   "metadata": {
    "id": "2vzffldsvMMz"
   },
   "outputs": [],
   "source": [
    "# 성능을 높이기 위해 드랍아웃을 추가하겠습니다.\n",
    "# 드랍아웃은 학습 데이터의 오버피팅을 막는데 도움을 줍니다.\n",
    "model.add(Dropout(0.2))"
   ]
  },
  {
   "cell_type": "markdown",
   "metadata": {
    "id": "RSXrc0UbvMMz"
   },
   "source": [
    "## 두 번째 은닉 층"
   ]
  },
  {
   "cell_type": "code",
   "execution_count": 15,
   "metadata": {
    "id": "WKLDOBzkvMMz"
   },
   "outputs": [],
   "source": [
    "# 두 번째 은닉 층도 52개의 노드를 갖도록 설정해 보겠습니다.\n",
    "# 활성화 함수와 드랍아웃은 첫 번째 은닉 층과 동일하게 설정하겠습니다.\n",
    "\n",
    "model.add(Dense(512))\n",
    "model.add(Activation('relu'))\n",
    "model.add(Dropout(0.2))"
   ]
  },
  {
   "cell_type": "markdown",
   "metadata": {
    "id": "XRTNhcEjvMM0"
   },
   "source": [
    "## The Final Output Layer"
   ]
  },
  {
   "cell_type": "code",
   "execution_count": 16,
   "metadata": {
    "id": "9Ndv51hSvMM0"
   },
   "outputs": [],
   "source": [
    "# 출력 층은 정답 데이터의 길이와 같게 설정합니다.\n",
    "# 출력 층의 벡터는 숫자 10개를 표현하므로 뉴런의 개수도 10개로 설정합니다.\n",
    "model.add(Dense(10))"
   ]
  },
  {
   "cell_type": "code",
   "execution_count": 17,
   "metadata": {
    "id": "Qowg7cIfvMM0"
   },
   "outputs": [],
   "source": [
    "# 출력 층의 합이 1이 될 수 있도록 소프트맥스 활성화 함수를 사용합니다.\n",
    "# 이것은 확률 분포로 해석될 수 있습니다.\n",
    "\n",
    "model.add(Activation('softmax'))"
   ]
  },
  {
   "cell_type": "markdown",
   "metadata": {},
   "source": [
    "이제 구성한 모델을 확인해 봅니다!"
   ]
  },
  {
   "cell_type": "code",
   "execution_count": 18,
   "metadata": {
    "colab": {
     "base_uri": "https://localhost:8080/"
    },
    "id": "aSjXFMFovMM0",
    "outputId": "617479ea-8723-4eb5-aab5-0e16aa23ea3c"
   },
   "outputs": [
    {
     "name": "stdout",
     "output_type": "stream",
     "text": [
      "Model: \"sequential\"\n",
      "_________________________________________________________________\n",
      "Layer (type)                 Output Shape              Param #   \n",
      "=================================================================\n",
      "dense (Dense)                (None, 512)               401920    \n",
      "_________________________________________________________________\n",
      "activation (Activation)      (None, 512)               0         \n",
      "_________________________________________________________________\n",
      "dropout (Dropout)            (None, 512)               0         \n",
      "_________________________________________________________________\n",
      "dense_1 (Dense)              (None, 512)               262656    \n",
      "_________________________________________________________________\n",
      "activation_1 (Activation)    (None, 512)               0         \n",
      "_________________________________________________________________\n",
      "dropout_1 (Dropout)          (None, 512)               0         \n",
      "_________________________________________________________________\n",
      "dense_2 (Dense)              (None, 10)                5130      \n",
      "_________________________________________________________________\n",
      "activation_2 (Activation)    (None, 10)                0         \n",
      "=================================================================\n",
      "Total params: 669,706\n",
      "Trainable params: 669,706\n",
      "Non-trainable params: 0\n",
      "_________________________________________________________________\n"
     ]
    }
   ],
   "source": [
    "model.summary()"
   ]
  },
  {
   "cell_type": "markdown",
   "metadata": {},
   "source": [
    "파라미터의 개수가 67만개나 되네요!"
   ]
  },
  {
   "cell_type": "markdown",
   "metadata": {
    "id": "XJLdhZsevMM0"
   },
   "source": [
    "## 모델 컴파일\n",
    "\n",
    "Keras는 TensorFlow를 베이스로 구축된 라이브러리입니다. Python에서 계산 그래프(Computational Graph)를 정의한 다음, Python 인터프리터의 오버 헤드없이 CPU 또는 GPU에서 효율적으로 실행되는 특징이 있습니다.\n",
    "\n",
    "모델을 비교할 때 Keras는 **손실 함수**(loss function)와 **최적화 함수**(optimizer)를 지정하도록 요청합니다. 여기서 사용할 손실 함수는 *Categorical Cross-entropy*라고 하며 두 확률 분포를 비교하는 데 적합한 손실 함수입니다.\n",
    "\n",
    "모델의 예측 값은 10개의 숫자에 대한 확률 분포입니다. 정답인 카테고리는 1, 나머지는 0입니다. 교차 엔트로피는 예측 분포가 정답 분포와 얼마나 다른지 측정합니다. [자세한 내용은 Wikipedia 참조](https://en.wikipedia.org/wiki/Cross_entropy)\n",
    "\n",
    "옵티마이저는 **경사 하강법**(Gradient descent)을 통해 모델이 학습하는 속도를 결정하는 데 도움이 됩니다. 기울기가 하강하는 속도를 **학습률**(learning rate)라고 합니다."
   ]
  },
  {
   "cell_type": "markdown",
   "metadata": {
    "id": "3MSaVtiEvMM0"
   },
   "source": [
    "<img src = \"https://raw.githubusercontent.com/CoreDotToday/DeepLearningTextBook/main/MNIST/static/gradient_descent.png\" >"
   ]
  },
  {
   "cell_type": "markdown",
   "metadata": {
    "id": "0DBUbBOVvMM1"
   },
   "source": [
    "<img src = \"https://raw.githubusercontent.com/CoreDotToday/DeepLearningTextBook/main/MNIST/static/learning_rate.png\" >"
   ]
  },
  {
   "cell_type": "markdown",
   "metadata": {
    "id": "RmFPcHhTvMM1"
   },
   "source": [
    "그렇다고 작은 학습률이 좋지는 않습니다. 자칫하면 지역 최소값에서 벗어날 수 없게 됩니다. 따라서 더 큰 학습률을 시도하는 것이 필요할 수 있습니다."
   ]
  },
  {
   "cell_type": "markdown",
   "metadata": {
    "id": "DvCUl3envMM1"
   },
   "source": [
    "<img src = 'https://raw.githubusercontent.com/CoreDotToday/DeepLearningTextBook/main/MNIST/static/complicated_loss_function.png' >"
   ]
  },
  {
   "cell_type": "code",
   "execution_count": 19,
   "metadata": {
    "id": "MJDezDryvMM1"
   },
   "outputs": [],
   "source": [
    "# Adam Optimizer를 사용해서 컴파일 하겠습니다\n",
    "model.compile(loss='categorical_crossentropy', optimizer='adam', metrics=['accuracy'])"
   ]
  },
  {
   "cell_type": "markdown",
   "metadata": {
    "id": "5RlNABBzvMM1"
   },
   "source": [
    "## 모델 학습\n",
    "이제 모델 학습을 시작합니다!"
   ]
  },
  {
   "cell_type": "markdown",
   "metadata": {
    "id": "Da2cwO53vMM1"
   },
   "source": [
    "모델 학습을 시작할 때 배치 사이즈, 에폭 등을 정해야 합니다.\n",
    "\n",
    "배치 크기(batch_size)는 손실 함수, 기울기 및 역전파를 계산하는 데 사용되는 단계 당 데이터 양을 결정합니다. 배치 크기가 크면 네트워크가 더 빠르게 훈련을 완료할 수 있습니다. 그러나 훈련 속도 외에 고려해야 할 다른 요소가 있습니다.\n",
    "\n",
    "배치 크기가 너무 크면 손실 함수의 지역 최소값(local minima)이 평활화(smoothing)되어 옵티마이저가 전역 최소값(global minimum)을 찾았다고 생각하기 때문에 거기에 정착하게 됩니다.\n",
    "\n",
    "하지만 배치 크기가 너무 작으면 잡음이 많은 손실 함수가 생성되고 옵티마이저가 전역 최소값을 찾지 못할 수 있습니다.\n",
    "\n",
    "따라서 좋은 배치 크기를 찾으려면 많은 시행 착오가 필요합니다!"
   ]
  },
  {
   "cell_type": "code",
   "execution_count": 20,
   "metadata": {},
   "outputs": [
    {
     "name": "stdout",
     "output_type": "stream",
     "text": [
      "Epoch 1/5\n",
      "469/469 [==============================] - 12s 5ms/step - loss: 0.4451 - accuracy: 0.8657\n",
      "Epoch 2/5\n",
      "469/469 [==============================] - 2s 5ms/step - loss: 0.1064 - accuracy: 0.9675\n",
      "Epoch 3/5\n",
      "469/469 [==============================] - 2s 5ms/step - loss: 0.0663 - accuracy: 0.9785\n",
      "Epoch 4/5\n",
      "469/469 [==============================] - 2s 5ms/step - loss: 0.0547 - accuracy: 0.9816\n",
      "Epoch 5/5\n",
      "469/469 [==============================] - 2s 5ms/step - loss: 0.0437 - accuracy: 0.9855\n"
     ]
    },
    {
     "data": {
      "text/plain": [
       "<keras.callbacks.History at 0x7fde099d9460>"
      ]
     },
     "execution_count": 20,
     "metadata": {},
     "output_type": "execute_result"
    }
   ],
   "source": [
    "model.fit(X_train, Y_train,\n",
    "          batch_size=128, epochs=5,\n",
    "          verbose=1)"
   ]
  },
  {
   "cell_type": "markdown",
   "metadata": {
    "id": "xFPoZGgKvMM2"
   },
   "source": [
    "결과의 두 숫자는 순서대로 훈련 데이터셋에 대한 네트워크의 손실 함수 값(loss)과 훈련 데이터셋에 대한 네트워크의 전체 정확도(accuracy)를 나타냅니다. 그럼 학습하지 않은 데이터에 대해 어떻게 평가할까요?"
   ]
  },
  {
   "cell_type": "markdown",
   "metadata": {
    "id": "3yNU7A6vvMM2"
   },
   "source": [
    "## 테스트 데이터로 모델의 정확도 평가하기"
   ]
  },
  {
   "cell_type": "markdown",
   "metadata": {},
   "source": [
    "model의 evaluate 함수를 사용합니다. 이 함수에 테스트 데이터셋을 넣어보죠!"
   ]
  },
  {
   "cell_type": "code",
   "execution_count": 21,
   "metadata": {
    "id": "IMJM7Ml3vMM2"
   },
   "outputs": [
    {
     "name": "stdout",
     "output_type": "stream",
     "text": [
      "313/313 [==============================] - 1s 1ms/step - loss: 0.0653 - accuracy: 0.9805\n",
      "Test score: 0.06531374156475067\n",
      "Test accuracy: 0.9804999828338623\n"
     ]
    }
   ],
   "source": [
    "score = model.evaluate(X_test, Y_test)\n",
    "print('Test score:', score[0])\n",
    "print('Test accuracy:', score[1])"
   ]
  },
  {
   "cell_type": "markdown",
   "metadata": {},
   "source": [
    "테스트 정확도가 `98%`가 나왔네요!! 물론 제일 위에서 살펴본 최고 정확도 모델에 가까워지려면 한참 먼 것 같습니다."
   ]
  },
  {
   "cell_type": "markdown",
   "metadata": {
    "id": "76t6gFH4vMM2"
   },
   "source": [
    "### 결과 살펴보기\n",
    "\n",
    "모델 학습에서 evaluate의 결과값만 보고 끝내지 말고, 항상 출력을 검사하고 모든 것이 정상인지 확인하는 것이 좋습니다.   \n",
    "아래에서 정답인 예와 오답인 예를 살펴보겠습니다."
   ]
  },
  {
   "cell_type": "code",
   "execution_count": 22,
   "metadata": {
    "id": "fdrEnOiCvMM3"
   },
   "outputs": [
    {
     "name": "stderr",
     "output_type": "stream",
     "text": [
      "/Users/kyunghoon/anaconda3/envs/jupyter/lib/python3.8/site-packages/keras/engine/sequential.py:450: UserWarning: `model.predict_classes()` is deprecated and will be removed after 2021-01-01. Please use instead:* `np.argmax(model.predict(x), axis=-1)`,   if your model does multi-class classification   (e.g. if it uses a `softmax` last-layer activation).* `(model.predict(x) > 0.5).astype(\"int32\")`,   if your model does binary classification   (e.g. if it uses a `sigmoid` last-layer activation).\n",
      "  warnings.warn('`model.predict_classes()` is deprecated and '\n"
     ]
    }
   ],
   "source": [
    "# predict_classes 함수는 가장 높은 확률 클래스를 출력합니다\n",
    "predicted_classes = model.predict_classes(X_test)\n",
    "\n",
    "# 맞은 경우와 틀린 경우를 구분하여 인덱스(위치)를 저장하겠습니다\n",
    "correct_indices = np.nonzero(predicted_classes == y_test)[0]\n",
    "\n",
    "incorrect_indices = np.nonzero(predicted_classes != y_test)[0]"
   ]
  },
  {
   "cell_type": "markdown",
   "metadata": {},
   "source": [
    "- 정답인 경우"
   ]
  },
  {
   "cell_type": "markdown",
   "metadata": {},
   "source": [
    "5는 애매한데 5라고 잘 구분을 했네요 ㅋㅋ"
   ]
  },
  {
   "cell_type": "code",
   "execution_count": 23,
   "metadata": {
    "id": "ZcBBpebEvMM3"
   },
   "outputs": [
    {
     "data": {
      "image/png": "[encoded data removed]",
      "text/plain": [
       "<Figure size 648x648 with 9 Axes>"
      ]
     },
     "metadata": {
      "needs_background": "light"
     },
     "output_type": "display_data"
    }
   ],
   "source": [
    "plt.figure()\n",
    "for i, correct in enumerate(correct_indices[:9]):\n",
    "    plt.subplot(3,3,i+1)\n",
    "    plt.imshow(X_test[correct].reshape(28,28), cmap='gray', interpolation='none')\n",
    "    plt.title(\"Predicted {}, Class {}\".format(predicted_classes[correct], y_test[correct]))\n",
    "    \n",
    "plt.tight_layout()"
   ]
  },
  {
   "cell_type": "markdown",
   "metadata": {},
   "source": [
    "- 오답인 경우"
   ]
  },
  {
   "cell_type": "markdown",
   "metadata": {},
   "source": [
    "정말 애매한 것들이네요 ^^;   \n",
    "이 예만 봐서는 모델링이 잘 되었다고 생각할 수 있을 것 같습니다."
   ]
  },
  {
   "cell_type": "code",
   "execution_count": 24,
   "metadata": {},
   "outputs": [
    {
     "data": {
      "image/png": "[encoded data removed]",
      "text/plain": [
       "<Figure size 648x648 with 9 Axes>"
      ]
     },
     "metadata": {
      "needs_background": "light"
     },
     "output_type": "display_data"
    }
   ],
   "source": [
    "plt.figure()\n",
    "for i, incorrect in enumerate(incorrect_indices[:9]):\n",
    "    plt.subplot(3,3,i+1)\n",
    "    plt.imshow(X_test[incorrect].reshape(28,28), cmap='gray', interpolation='none')\n",
    "    plt.title(\"Predicted {}, Class {}\".format(predicted_classes[incorrect], y_test[incorrect]))\n",
    "    \n",
    "plt.tight_layout()"
   ]
  },
  {
   "cell_type": "markdown",
   "metadata": {},
   "source": [
    "## 더 많은 시행착오를 겪으세요!\n",
    "배치사이즈 등을 바꾸어서 더 많은 실험을 해보세요!\n",
    "- 배치 사이즈를 조절했을 때 걸리는 학습 시간과 테스트 정확도에 얼마나 영향을 미칠까요?\n",
    "- 배치 사이즈가 32이면 어떤가요?"
   ]
  },
  {
   "cell_type": "markdown",
   "metadata": {
    "id": "rYXBPdrHvvzc"
   },
   "source": [
    "### 참고 자료\n",
    "- https://github.com/wxs/keras-mnist-tutorial\n",
    "- https://github.com/yashk2810/MNIST-Keras\n",
    "- https://github.com/AviatorMoser/keras-mnist-tutorial"
   ]
  }
 ],
 "metadata": {
  "colab": {
   "collapsed_sections": [
    "5RlNABBzvMM1",
    "3yNU7A6vvMM2",
    "76t6gFH4vMM2",
    "mFW0BDnHvMM5"
   ],
   "name": "MNIST in Keras.ipynb",
   "provenance": []
  },
  "kernelspec": {
   "display_name": "Python 3",
   "language": "python",
   "name": "python3"
  },
  "language_info": {
   "codemirror_mode": {
    "name": "ipython",
    "version": 3
   },
   "file_extension": ".py",
   "mimetype": "text/x-python",
   "name": "python",
   "nbconvert_exporter": "python",
   "pygments_lexer": "ipython3",
   "version": "3.8.10"
  }
 },
 "nbformat": 4,
 "nbformat_minor": 1
}
