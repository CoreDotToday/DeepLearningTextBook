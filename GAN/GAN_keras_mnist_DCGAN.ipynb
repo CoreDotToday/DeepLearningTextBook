{
  "nbformat": 4,
  "nbformat_minor": 0,
  "metadata": {
    "anaconda-cloud": {},
    "kernelspec": {
      "display_name": "Python 3",
      "language": "python",
      "name": "python3"
    },
    "language_info": {
      "codemirror_mode": {
        "name": "ipython",
        "version": 3
      },
      "file_extension": ".py",
      "mimetype": "text/x-python",
      "name": "python",
      "nbconvert_exporter": "python",
      "pygments_lexer": "ipython3",
      "version": "3.5.3"
    },
    "colab": {
      "name": "GAN-keras-mnist-DCGAN.ipynb",
      "provenance": [],
      "collapsed_sections": []
    },
    "accelerator": "GPU",
    "widgets": {
      "application/vnd.jupyter.widget-state+json": {
        "01001cbaf4b54b99aca66c6842f40bf9": {
          "model_module": "@jupyter-widgets/controls",
          "model_name": "HBoxModel",
          "state": {
            "_view_name": "HBoxView",
            "_dom_classes": [],
            "_model_name": "HBoxModel",
            "_view_module": "@jupyter-widgets/controls",
            "_model_module_version": "1.5.0",
            "_view_count": null,
            "_view_module_version": "1.5.0",
            "box_style": "",
            "layout": "IPY_MODEL_ba11e5ea595143749c4032ff4460a854",
            "_model_module": "@jupyter-widgets/controls",
            "children": [
              "IPY_MODEL_3d035ed48a224a47a50268ee0160707e",
              "IPY_MODEL_2f61cf0040b042e5a5dabbffe0648eee"
            ]
          }
        },
        "ba11e5ea595143749c4032ff4460a854": {
          "model_module": "@jupyter-widgets/base",
          "model_name": "LayoutModel",
          "state": {
            "_view_name": "LayoutView",
            "grid_template_rows": null,
            "right": null,
            "justify_content": null,
            "_view_module": "@jupyter-widgets/base",
            "overflow": null,
            "_model_module_version": "1.2.0",
            "_view_count": null,
            "flex_flow": null,
            "width": null,
            "min_width": null,
            "border": null,
            "align_items": null,
            "bottom": null,
            "_model_module": "@jupyter-widgets/base",
            "top": null,
            "grid_column": null,
            "overflow_y": null,
            "overflow_x": null,
            "grid_auto_flow": null,
            "grid_area": null,
            "grid_template_columns": null,
            "flex": null,
            "_model_name": "LayoutModel",
            "justify_items": null,
            "grid_row": null,
            "max_height": null,
            "align_content": null,
            "visibility": null,
            "align_self": null,
            "height": null,
            "min_height": null,
            "padding": null,
            "grid_auto_rows": null,
            "grid_gap": null,
            "max_width": null,
            "order": null,
            "_view_module_version": "1.2.0",
            "grid_template_areas": null,
            "object_position": null,
            "object_fit": null,
            "grid_auto_columns": null,
            "margin": null,
            "display": null,
            "left": null
          }
        },
        "3d035ed48a224a47a50268ee0160707e": {
          "model_module": "@jupyter-widgets/controls",
          "model_name": "FloatProgressModel",
          "state": {
            "_view_name": "ProgressView",
            "style": "IPY_MODEL_5c50cd75873b48aab284f30c5fd08f27",
            "_dom_classes": [],
            "description": " 27%",
            "_model_name": "FloatProgressModel",
            "bar_style": "",
            "max": 200,
            "_view_module": "@jupyter-widgets/controls",
            "_model_module_version": "1.5.0",
            "value": 54,
            "_view_count": null,
            "_view_module_version": "1.5.0",
            "orientation": "horizontal",
            "min": 0,
            "description_tooltip": null,
            "_model_module": "@jupyter-widgets/controls",
            "layout": "IPY_MODEL_7437303da5154f9abc4692ecb182e1c3"
          }
        },
        "2f61cf0040b042e5a5dabbffe0648eee": {
          "model_module": "@jupyter-widgets/controls",
          "model_name": "HTMLModel",
          "state": {
            "_view_name": "HTMLView",
            "style": "IPY_MODEL_b3405dce7e694993bf23e931f7fc01e0",
            "_dom_classes": [],
            "description": "",
            "_model_name": "HTMLModel",
            "placeholder": "​",
            "_view_module": "@jupyter-widgets/controls",
            "_model_module_version": "1.5.0",
            "value": " 54/200 [26:52&lt;1:10:09, 28.83s/it]",
            "_view_count": null,
            "_view_module_version": "1.5.0",
            "description_tooltip": null,
            "_model_module": "@jupyter-widgets/controls",
            "layout": "IPY_MODEL_f42529d30f074e0681e239b6b5a1e509"
          }
        },
        "5c50cd75873b48aab284f30c5fd08f27": {
          "model_module": "@jupyter-widgets/controls",
          "model_name": "ProgressStyleModel",
          "state": {
            "_view_name": "StyleView",
            "_model_name": "ProgressStyleModel",
            "description_width": "initial",
            "_view_module": "@jupyter-widgets/base",
            "_model_module_version": "1.5.0",
            "_view_count": null,
            "_view_module_version": "1.2.0",
            "bar_color": null,
            "_model_module": "@jupyter-widgets/controls"
          }
        },
        "7437303da5154f9abc4692ecb182e1c3": {
          "model_module": "@jupyter-widgets/base",
          "model_name": "LayoutModel",
          "state": {
            "_view_name": "LayoutView",
            "grid_template_rows": null,
            "right": null,
            "justify_content": null,
            "_view_module": "@jupyter-widgets/base",
            "overflow": null,
            "_model_module_version": "1.2.0",
            "_view_count": null,
            "flex_flow": null,
            "width": null,
            "min_width": null,
            "border": null,
            "align_items": null,
            "bottom": null,
            "_model_module": "@jupyter-widgets/base",
            "top": null,
            "grid_column": null,
            "overflow_y": null,
            "overflow_x": null,
            "grid_auto_flow": null,
            "grid_area": null,
            "grid_template_columns": null,
            "flex": null,
            "_model_name": "LayoutModel",
            "justify_items": null,
            "grid_row": null,
            "max_height": null,
            "align_content": null,
            "visibility": null,
            "align_self": null,
            "height": null,
            "min_height": null,
            "padding": null,
            "grid_auto_rows": null,
            "grid_gap": null,
            "max_width": null,
            "order": null,
            "_view_module_version": "1.2.0",
            "grid_template_areas": null,
            "object_position": null,
            "object_fit": null,
            "grid_auto_columns": null,
            "margin": null,
            "display": null,
            "left": null
          }
        },
        "b3405dce7e694993bf23e931f7fc01e0": {
          "model_module": "@jupyter-widgets/controls",
          "model_name": "DescriptionStyleModel",
          "state": {
            "_view_name": "StyleView",
            "_model_name": "DescriptionStyleModel",
            "description_width": "",
            "_view_module": "@jupyter-widgets/base",
            "_model_module_version": "1.5.0",
            "_view_count": null,
            "_view_module_version": "1.2.0",
            "_model_module": "@jupyter-widgets/controls"
          }
        },
        "f42529d30f074e0681e239b6b5a1e509": {
          "model_module": "@jupyter-widgets/base",
          "model_name": "LayoutModel",
          "state": {
            "_view_name": "LayoutView",
            "grid_template_rows": null,
            "right": null,
            "justify_content": null,
            "_view_module": "@jupyter-widgets/base",
            "overflow": null,
            "_model_module_version": "1.2.0",
            "_view_count": null,
            "flex_flow": null,
            "width": null,
            "min_width": null,
            "border": null,
            "align_items": null,
            "bottom": null,
            "_model_module": "@jupyter-widgets/base",
            "top": null,
            "grid_column": null,
            "overflow_y": null,
            "overflow_x": null,
            "grid_auto_flow": null,
            "grid_area": null,
            "grid_template_columns": null,
            "flex": null,
            "_model_name": "LayoutModel",
            "justify_items": null,
            "grid_row": null,
            "max_height": null,
            "align_content": null,
            "visibility": null,
            "align_self": null,
            "height": null,
            "min_height": null,
            "padding": null,
            "grid_auto_rows": null,
            "grid_gap": null,
            "max_width": null,
            "order": null,
            "_view_module_version": "1.2.0",
            "grid_template_areas": null,
            "object_position": null,
            "object_fit": null,
            "grid_auto_columns": null,
            "margin": null,
            "display": null,
            "left": null
          }
        }
      }
    }
  },
  "cells": [
    {
      "cell_type": "markdown",
      "metadata": {
        "id": "TR8XRZK_8XAL"
      },
      "source": [
        "# GAN in keras on mnist with DCGAN"
      ]
    },
    {
      "cell_type": "markdown",
      "metadata": {
        "id": "13X4bs7V8dmb"
      },
      "source": [
        "본 튜토리얼은 Keras로 작성된 심층 합성곱 생성적 적대 신경망 (Deep Convolutional Generative Adversarial Networks, DCGAN)으로 손으로 쓴 숫자를 생성하기 위한 자료 입니다.\n",
        "\n",
        "GAN(Generative Adversarial Network)은 손으로 쓴 숫자의 고유한 이미지를 생성하기 위해 사용됩니다. 생성된 이미지는 데이터 셋(즉, 목적)에서 가져온 것처럼 보이지만 처음부터(실제로는 노이즈에서) 생성되고 모두 고유합니다."
      ]
    },
    {
      "cell_type": "markdown",
      "metadata": {
        "id": "Ebtasboe82MU"
      },
      "source": [
        "- 참고\n",
        "  - https://github.com/kroosen/GAN-in-keras-on-mnist\n",
        "  - https://www.tensorflow.org/tutorials/generative/dcgan?hl=ko\n",
        "- 번역 : 코어닷투데이 http://github.com/coredottoday/DeepLearningTextBook/"
      ]
    },
    {
      "cell_type": "markdown",
      "metadata": {
        "id": "SXrHExX79Bo5"
      },
      "source": [
        "생성적 적대 신경망 (Generative Adversarial Networks, GANs)은 요즘 컴퓨터 과학에서 가장 흥미로운 아이디어 중 하나입니다. 두개의 모델이 적대적인 과정을 통해 동시에 훈련됩니다. 생성자 (\"예술가\")는 진짜처럼 보이는 이미지를 생성하도록 배우는 와중에, 감별자 (\"예술비평가\")는 가짜의 이미지로부터 진짜를 구별하게 되는 것을 배우게 됩니다."
      ]
    },
    {
      "cell_type": "markdown",
      "metadata": {
        "id": "Zud7zidX9Jdn"
      },
      "source": [
        "<img src=\"https://raw.githubusercontent.com/CoreDotToday/DeepLearningTextBook/main/GAN/static/gan1.png\" >"
      ]
    },
    {
      "cell_type": "markdown",
      "metadata": {
        "id": "7A6MwKud9PGQ"
      },
      "source": [
        "훈련과정 동안 생성자는 점차 실제같은 이미지를 더 잘 생성하게 되고, 감별자는 점차 진짜와 가짜를 더 잘 구별하게됩니다. 이 과정은 감별자가 가짜 이미지에서 진짜 이미지를 더이상 구별하지 못하게 될때, 평형상태에 도달하게 됩니다."
      ]
    },
    {
      "cell_type": "markdown",
      "metadata": {
        "id": "eAuncbg39JuW"
      },
      "source": [
        "<img src=\"https://raw.githubusercontent.com/CoreDotToday/DeepLearningTextBook/main/GAN/static/gan2.png\" >"
      ]
    },
    {
      "cell_type": "markdown",
      "metadata": {
        "id": "yJOw2y4D9TtF"
      },
      "source": [
        "이 노트북은 이 과정을 MNIST 데이터를 이용하여 보여줍니다. 아래의 애니메이션은 50 에포크(epoch)동안 훈련한 생성자가 생성해낸 연속된 이미지들을 보여줍니다. 이미지들은 랜덤한 잡음으로 부터 시작되었고, 점차 시간이 지남에 따라 손으로 쓴 숫자들을 닮아가게 됩니다."
      ]
    },
    {
      "cell_type": "markdown",
      "metadata": {
        "id": "zXk5-wyl9ZEw"
      },
      "source": [
        "<img src=\"https://raw.githubusercontent.com/CoreDotToday/DeepLearningTextBook/main/GAN/static/dcgan.gif\" >"
      ]
    },
    {
      "cell_type": "markdown",
      "metadata": {
        "id": "MXb_VEOv8-gF"
      },
      "source": [
        "<img src=\"https://raw.githubusercontent.com/CoreDotToday/DeepLearningTextBook/main/GAN/static/intro.png\" >"
      ]
    },
    {
      "cell_type": "code",
      "metadata": {
        "deletable": true,
        "editable": true,
        "id": "RZHKa-rB8S4b",
        "colab": {
          "base_uri": "https://localhost:8080/"
        },
        "outputId": "d47fd3de-960a-4d03-fe2b-e0e1f1374e2f"
      },
      "source": [
        "from keras.datasets import mnist\n",
        "from keras.utils import np_utils\n",
        "from keras.models import Sequential, Model\n",
        "from keras.layers import Input, Dense, Activation, Flatten, Reshape\n",
        "from keras.layers.convolutional import Conv2D, Conv2DTranspose, UpSampling2D, Convolution2D\n",
        "from keras.layers.normalization import BatchNormalization\n",
        "from keras.layers.advanced_activations import LeakyReLU\n",
        "from keras.optimizers import Adam\n",
        "import numpy as np\n",
        "import matplotlib.pyplot as plt\n",
        "import random\n",
        "from tqdm import tqdm_notebook\n",
        "\n",
        "# Dataset of 60,000 28x28 grayscale images of the 10 digits, along with a test set of 10,000 images.\n",
        "(X_train, Y_train), (X_test, Y_test) = mnist.load_data()\n",
        "print(X_train.shape)"
      ],
      "execution_count": 1,
      "outputs": [
        {
          "output_type": "stream",
          "text": [
            "Downloading data from https://storage.googleapis.com/tensorflow/tf-keras-datasets/mnist.npz\n",
            "11493376/11490434 [==============================] - 0s 0us/step\n",
            "11501568/11490434 [==============================] - 0s 0us/step\n",
            "(60000, 28, 28)\n"
          ],
          "name": "stdout"
        }
      ]
    },
    {
      "cell_type": "code",
      "metadata": {
        "colab": {
          "base_uri": "https://localhost:8080/",
          "height": 35
        },
        "id": "HSAaD48c9tMN",
        "outputId": "1b4a03c6-be0c-4529-e730-97a370222918"
      },
      "source": [
        "import keras\n",
        "keras.__version__"
      ],
      "execution_count": 6,
      "outputs": [
        {
          "output_type": "execute_result",
          "data": {
            "application/vnd.google.colaboratory.intrinsic+json": {
              "type": "string"
            },
            "text/plain": [
              "'2.5.0'"
            ]
          },
          "metadata": {
            "tags": []
          },
          "execution_count": 6
        }
      ]
    },
    {
      "cell_type": "code",
      "metadata": {
        "deletable": true,
        "editable": true,
        "id": "_IxqKtY_8S4e"
      },
      "source": [
        "# Preprocessing\n",
        "\n",
        "X_train = X_train.reshape(60000, 28, 28, 1)\n",
        "X_test = X_test.reshape(10000, 28, 28, 1)\n",
        "X_train = X_train.astype('float32')/255\n",
        "X_test = X_test.astype('float32')/255"
      ],
      "execution_count": 2,
      "outputs": []
    },
    {
      "cell_type": "code",
      "metadata": {
        "deletable": true,
        "editable": true,
        "id": "ColCZ4FH8S4f"
      },
      "source": [
        "# Set the dimensions of the noise\n",
        "z_dim = 100"
      ],
      "execution_count": 3,
      "outputs": []
    },
    {
      "cell_type": "code",
      "metadata": {
        "id": "0JuK1ZCq8S4f",
        "colab": {
          "base_uri": "https://localhost:8080/"
        },
        "outputId": "7a049bff-7b3e-48d7-f241-2781243efb89"
      },
      "source": [
        "nch = 200\n",
        "g_input = Input(shape=[100])\n",
        "H = Dense(nch*14*14, kernel_initializer='glorot_normal')(g_input)\n",
        "H = BatchNormalization()(H)\n",
        "H = Activation('relu')(H)\n",
        "H = Reshape( [nch, 14, 14] )(H)\n",
        "H = UpSampling2D(size=(2, 2))(H)\n",
        "H = Convolution2D(int(nch/2), 3, 3, padding='same', kernel_initializer='glorot_uniform')(H)\n",
        "H = BatchNormalization()(H)\n",
        "H = Activation('relu')(H)\n",
        "H = Convolution2D(int(nch/4), 3, 3, padding='same', kernel_initializer='glorot_uniform')(H)\n",
        "H = BatchNormalization()(H)\n",
        "H = Activation('relu')(H)\n",
        "H = Convolution2D(1, 1, 1, padding='same', kernel_initializer='glorot_uniform')(H)\n",
        "g_V = Activation('sigmoid')(H)\n",
        "generator = Model(g_input,g_V)\n",
        "generator.compile(loss='binary_crossentropy', optimizer=Adam(lr=0.0002, beta_1=0.5))\n",
        "generator.summary()"
      ],
      "execution_count": 10,
      "outputs": [
        {
          "output_type": "stream",
          "text": [
            "Model: \"model\"\n",
            "_________________________________________________________________\n",
            "Layer (type)                 Output Shape              Param #   \n",
            "=================================================================\n",
            "input_5 (InputLayer)         [(None, 100)]             0         \n",
            "_________________________________________________________________\n",
            "dense_3 (Dense)              (None, 39200)             3959200   \n",
            "_________________________________________________________________\n",
            "batch_normalization_3 (Batch (None, 39200)             156800    \n",
            "_________________________________________________________________\n",
            "activation_3 (Activation)    (None, 39200)             0         \n",
            "_________________________________________________________________\n",
            "reshape_3 (Reshape)          (None, 200, 14, 14)       0         \n",
            "_________________________________________________________________\n",
            "up_sampling2d_3 (UpSampling2 (None, 400, 28, 14)       0         \n",
            "_________________________________________________________________\n",
            "conv2d (Conv2D)              (None, 134, 10, 100)      12700     \n",
            "_________________________________________________________________\n",
            "batch_normalization_4 (Batch (None, 134, 10, 100)      400       \n",
            "_________________________________________________________________\n",
            "activation_4 (Activation)    (None, 134, 10, 100)      0         \n",
            "_________________________________________________________________\n",
            "conv2d_1 (Conv2D)            (None, 45, 4, 50)         45050     \n",
            "_________________________________________________________________\n",
            "batch_normalization_5 (Batch (None, 45, 4, 50)         200       \n",
            "_________________________________________________________________\n",
            "activation_5 (Activation)    (None, 45, 4, 50)         0         \n",
            "_________________________________________________________________\n",
            "conv2d_2 (Conv2D)            (None, 45, 4, 1)          51        \n",
            "_________________________________________________________________\n",
            "activation_6 (Activation)    (None, 45, 4, 1)          0         \n",
            "=================================================================\n",
            "Total params: 4,174,401\n",
            "Trainable params: 4,095,701\n",
            "Non-trainable params: 78,700\n",
            "_________________________________________________________________\n"
          ],
          "name": "stdout"
        },
        {
          "output_type": "stream",
          "text": [
            "/usr/local/lib/python3.7/dist-packages/tensorflow/python/keras/optimizer_v2/optimizer_v2.py:375: UserWarning: The `lr` argument is deprecated, use `learning_rate` instead.\n",
            "  \"The `lr` argument is deprecated, use `learning_rate` instead.\")\n"
          ],
          "name": "stderr"
        }
      ]
    },
    {
      "cell_type": "code",
      "metadata": {
        "deletable": true,
        "editable": true,
        "id": "ZjCNnc_08S4f",
        "colab": {
          "base_uri": "https://localhost:8080/"
        },
        "outputId": "b07053b1-eed8-41ca-a583-6bb882003a88"
      },
      "source": [
        "# Generator\n",
        "adam = Adam(lr=0.0002, beta_1=0.5)\n",
        "\n",
        "g = Sequential()\n",
        "g.add(Dense(7*7*112, input_dim=z_dim))\n",
        "g.add(Reshape((7, 7, 112)))\n",
        "g.add(BatchNormalization())\n",
        "g.add(Activation(LeakyReLU(alpha=0.2)))\n",
        "g.add(Conv2DTranspose(56, 5, strides=2, padding='same'))\n",
        "g.add(BatchNormalization())\n",
        "g.add(Activation(LeakyReLU(alpha=0.2)))\n",
        "g.add(Conv2DTranspose(1, 5, strides=2, padding='same', activation='sigmoid'))\n",
        "g.compile(loss='binary_crossentropy', optimizer=adam, metrics=['accuracy'])\n",
        "g.summary()\n",
        "\n",
        "d = Sequential()\n",
        "d.add(Conv2D(56, 5, strides=2, padding='same', input_shape=(28, 28, 1), activation=LeakyReLU(alpha=0.2)))\n",
        "d.add(Conv2D(112, 5, strides=2, padding='same'))\n",
        "g.add(BatchNormalization())\n",
        "g.add(Activation(LeakyReLU(alpha=0.2)))\n",
        "d.add(Conv2D(224, 5, strides=2, padding='same'))\n",
        "g.add(Activation(LeakyReLU(alpha=0.2)))\n",
        "d.add(Flatten())\n",
        "d.add(Dense(112, activation=LeakyReLU(alpha=0.2)))\n",
        "d.add(Dense(1, activation='sigmoid'))\n",
        "d.compile(loss='binary_crossentropy', optimizer=adam, metrics=['accuracy'])\n",
        "d.summary()\n",
        "\n",
        "d.trainable = False\n",
        "inputs = Input(shape=(z_dim, ))\n",
        "hidden = g(inputs)\n",
        "output = d(hidden)\n",
        "gan = Model(inputs, output)\n",
        "gan.compile(loss='binary_crossentropy', optimizer=adam, metrics=['accuracy'])\n",
        "gan.summary()"
      ],
      "execution_count": 11,
      "outputs": [
        {
          "output_type": "stream",
          "text": [
            "Model: \"sequential\"\n",
            "_________________________________________________________________\n",
            "Layer (type)                 Output Shape              Param #   \n",
            "=================================================================\n",
            "dense_4 (Dense)              (None, 5488)              554288    \n",
            "_________________________________________________________________\n",
            "reshape_4 (Reshape)          (None, 7, 7, 112)         0         \n",
            "_________________________________________________________________\n",
            "batch_normalization_6 (Batch (None, 7, 7, 112)         448       \n",
            "_________________________________________________________________\n",
            "activation_7 (Activation)    (None, 7, 7, 112)         0         \n",
            "_________________________________________________________________\n",
            "conv2d_transpose (Conv2DTran (None, 14, 14, 56)        156856    \n",
            "_________________________________________________________________\n",
            "batch_normalization_7 (Batch (None, 14, 14, 56)        224       \n",
            "_________________________________________________________________\n",
            "activation_8 (Activation)    (None, 14, 14, 56)        0         \n",
            "_________________________________________________________________\n",
            "conv2d_transpose_1 (Conv2DTr (None, 28, 28, 1)         1401      \n",
            "=================================================================\n",
            "Total params: 713,217\n",
            "Trainable params: 712,881\n",
            "Non-trainable params: 336\n",
            "_________________________________________________________________\n",
            "Model: \"sequential_1\"\n",
            "_________________________________________________________________\n",
            "Layer (type)                 Output Shape              Param #   \n",
            "=================================================================\n",
            "conv2d_3 (Conv2D)            (None, 14, 14, 56)        1456      \n",
            "_________________________________________________________________\n",
            "conv2d_4 (Conv2D)            (None, 7, 7, 112)         156912    \n",
            "_________________________________________________________________\n",
            "conv2d_5 (Conv2D)            (None, 4, 4, 224)         627424    \n",
            "_________________________________________________________________\n",
            "flatten (Flatten)            (None, 3584)              0         \n",
            "_________________________________________________________________\n",
            "dense_5 (Dense)              (None, 112)               401520    \n",
            "_________________________________________________________________\n",
            "dense_6 (Dense)              (None, 1)                 113       \n",
            "=================================================================\n",
            "Total params: 1,187,425\n",
            "Trainable params: 1,187,425\n",
            "Non-trainable params: 0\n",
            "_________________________________________________________________\n",
            "Model: \"model_1\"\n",
            "_________________________________________________________________\n",
            "Layer (type)                 Output Shape              Param #   \n",
            "=================================================================\n",
            "input_6 (InputLayer)         [(None, 100)]             0         \n",
            "_________________________________________________________________\n",
            "sequential (Sequential)      (None, 28, 28, 1)         713221    \n",
            "_________________________________________________________________\n",
            "sequential_1 (Sequential)    (None, 1)                 1187425   \n",
            "=================================================================\n",
            "Total params: 1,900,646\n",
            "Trainable params: 712,883\n",
            "Non-trainable params: 1,187,763\n",
            "_________________________________________________________________\n"
          ],
          "name": "stdout"
        },
        {
          "output_type": "stream",
          "text": [
            "/usr/local/lib/python3.7/dist-packages/tensorflow/python/keras/optimizer_v2/optimizer_v2.py:375: UserWarning: The `lr` argument is deprecated, use `learning_rate` instead.\n",
            "  \"The `lr` argument is deprecated, use `learning_rate` instead.\")\n"
          ],
          "name": "stderr"
        }
      ]
    },
    {
      "cell_type": "code",
      "metadata": {
        "deletable": true,
        "editable": true,
        "id": "Y9IfvvNW8S4g"
      },
      "source": [
        "def plot_loss(losses):\n",
        "    \"\"\"\n",
        "    @losses.keys():\n",
        "        0: loss\n",
        "        1: accuracy\n",
        "    \"\"\"\n",
        "    d_loss = [v[0] for v in losses[\"D\"]]\n",
        "    g_loss = [v[0] for v in losses[\"G\"]]\n",
        "    \n",
        "    plt.figure(figsize=(10,8))\n",
        "    plt.plot(d_loss, label=\"Discriminator loss\")\n",
        "    plt.plot(g_loss, label=\"Generator loss\")\n",
        "\n",
        "    plt.xlabel('Epochs')\n",
        "    plt.ylabel('Loss')\n",
        "    plt.legend()\n",
        "    plt.show()\n",
        "    \n",
        "def plot_generated(n_ex=10, dim=(1, 10), figsize=(12, 2)):\n",
        "    noise = np.random.normal(0, 1, size=(n_ex, z_dim))\n",
        "    generated_images = g.predict(noise)\n",
        "    generated_images = generated_images.reshape(generated_images.shape[0], 28, 28)\n",
        "    plt.figure(figsize=figsize)\n",
        "    for i in range(generated_images.shape[0]):\n",
        "        plt.subplot(dim[0], dim[1], i+1)\n",
        "        plt.imshow(generated_images[i, :, :], interpolation='nearest', cmap='gray_r')\n",
        "        plt.axis('off')\n",
        "    plt.tight_layout()\n",
        "    plt.show()"
      ],
      "execution_count": 12,
      "outputs": []
    },
    {
      "cell_type": "code",
      "metadata": {
        "deletable": true,
        "editable": true,
        "id": "ZV_OXBob8S4g"
      },
      "source": [
        "# Set up a vector (dict) to store the losses\n",
        "losses = {\"D\":[], \"G\":[]}\n",
        "samples = []\n",
        "\n",
        "def train(epochs=1, plt_frq=1, BATCH_SIZE=128):\n",
        "    batchCount = int(X_train.shape[0] / BATCH_SIZE)\n",
        "    print('Epochs:', epochs)\n",
        "    print('Batch size:', BATCH_SIZE)\n",
        "    print('Batches per epoch:', batchCount)\n",
        "    \n",
        "    for e in tqdm_notebook(range(1, epochs+1)):\n",
        "        if e == 1 or e%plt_frq == 0:\n",
        "            print('-'*15, 'Epoch %d' % e, '-'*15)\n",
        "        for _ in range(batchCount):  # tqdm_notebook(range(batchCount), leave=False):\n",
        "            # Create a batch by drawing random index numbers from the training set\n",
        "            image_batch = X_train[np.random.randint(0, X_train.shape[0], size=BATCH_SIZE)]\n",
        "            image_batch = image_batch.reshape(image_batch.shape[0], image_batch.shape[1], image_batch.shape[2], 1)\n",
        "            # Create noise vectors for the generator\n",
        "            noise = np.random.normal(0, 1, size=(BATCH_SIZE, z_dim))\n",
        "            \n",
        "            # Generate the images from the noise\n",
        "            generated_images = g.predict(noise)\n",
        "            samples.append(generated_images)\n",
        "            X = np.concatenate((image_batch, generated_images))\n",
        "            # Create labels\n",
        "            y = np.zeros(2*BATCH_SIZE)\n",
        "            y[:BATCH_SIZE] = 0.9  # One-sided label smoothing\n",
        "\n",
        "            # Train discriminator on generated images\n",
        "            d.trainable = True\n",
        "            d_loss = d.train_on_batch(X, y)\n",
        "\n",
        "            # Train generator\n",
        "            noise = np.random.normal(0, 1, size=(BATCH_SIZE, z_dim))\n",
        "            y2 = np.ones(BATCH_SIZE)\n",
        "            d.trainable = False\n",
        "            g_loss = gan.train_on_batch(noise, y2)\n",
        "\n",
        "        # Only store losses from final batch of epoch\n",
        "        losses[\"D\"].append(d_loss)\n",
        "        losses[\"G\"].append(g_loss)\n",
        "\n",
        "        # Update the plots\n",
        "        if e == 1 or e%plt_frq == 0:\n",
        "            plot_generated()\n",
        "    plot_loss(losses)"
      ],
      "execution_count": 13,
      "outputs": []
    },
    {
      "cell_type": "code",
      "metadata": {
        "deletable": true,
        "editable": true,
        "id": "VXW3g2WG8S4h",
        "colab": {
          "base_uri": "https://localhost:8080/",
          "height": 466,
          "referenced_widgets": [
            "01001cbaf4b54b99aca66c6842f40bf9",
            "ba11e5ea595143749c4032ff4460a854",
            "3d035ed48a224a47a50268ee0160707e",
            "2f61cf0040b042e5a5dabbffe0648eee",
            "5c50cd75873b48aab284f30c5fd08f27",
            "7437303da5154f9abc4692ecb182e1c3",
            "b3405dce7e694993bf23e931f7fc01e0",
            "f42529d30f074e0681e239b6b5a1e509"
          ]
        },
        "outputId": "f9ab5c0a-5736-4756-df42-e5b0b1f4f3ec"
      },
      "source": [
        "train(epochs=200, plt_frq=20, BATCH_SIZE=128)"
      ],
      "execution_count": null,
      "outputs": [
        {
          "output_type": "stream",
          "text": [
            "Epochs: 200\n",
            "Batch size: 128\n",
            "Batches per epoch: 468\n"
          ],
          "name": "stdout"
        },
        {
          "output_type": "stream",
          "text": [
            "/usr/local/lib/python3.7/dist-packages/ipykernel_launcher.py:11: TqdmDeprecationWarning: This function will be removed in tqdm==5.0.0\n",
            "Please use `tqdm.notebook.tqdm` instead of `tqdm.tqdm_notebook`\n",
            "  # This is added back by InteractiveShellApp.init_path()\n"
          ],
          "name": "stderr"
        },
        {
          "output_type": "display_data",
          "data": {
            "application/vnd.jupyter.widget-view+json": {
              "model_id": "01001cbaf4b54b99aca66c6842f40bf9",
              "version_minor": 0,
              "version_major": 2
            },
            "text/plain": [
              "HBox(children=(FloatProgress(value=0.0, max=200.0), HTML(value='')))"
            ]
          },
          "metadata": {
            "tags": []
          }
        },
        {
          "output_type": "stream",
          "text": [
            "--------------- Epoch 1 ---------------\n"
          ],
          "name": "stdout"
        },
        {
          "output_type": "display_data",
          "data": {
            "image/png": "[encoded data removed]",
            "text/plain": [
              "<Figure size 864x144 with 10 Axes>"
            ]
          },
          "metadata": {
            "tags": [],
            "needs_background": "light"
          }
        },
        {
          "output_type": "stream",
          "text": [
            "--------------- Epoch 20 ---------------\n"
          ],
          "name": "stdout"
        },
        {
          "output_type": "display_data",
          "data": {
            "image/png": "[encoded data removed]",
            "text/plain": [
              "<Figure size 864x144 with 10 Axes>"
            ]
          },
          "metadata": {
            "tags": [],
            "needs_background": "light"
          }
        },
        {
          "output_type": "stream",
          "text": [
            "--------------- Epoch 40 ---------------\n"
          ],
          "name": "stdout"
        },
        {
          "output_type": "display_data",
          "data": {
            "image/png": "[encoded data removed]",
            "text/plain": [
              "<Figure size 864x144 with 10 Axes>"
            ]
          },
          "metadata": {
            "tags": [],
            "needs_background": "light"
          }
        }
      ]
    },
    {
      "cell_type": "code",
      "metadata": {
        "id": "3FYffn0K8S4i"
      },
      "source": [
        "plot_generated()"
      ],
      "execution_count": null,
      "outputs": []
    },
    {
      "cell_type": "code",
      "metadata": {
        "collapsed": true,
        "id": "EmvcU9mV8S4i"
      },
      "source": [
        ""
      ],
      "execution_count": null,
      "outputs": []
    }
  ]
}