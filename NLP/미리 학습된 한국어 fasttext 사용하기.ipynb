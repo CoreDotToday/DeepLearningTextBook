{
  "nbformat": 4,
  "nbformat_minor": 0,
  "metadata": {
    "colab": {
      "provenance": []
    },
    "kernelspec": {
      "name": "python3",
      "display_name": "Python 3"
    },
    "language_info": {
      "name": "python"
    }
  },
  "cells": [
    {
      "cell_type": "markdown",
      "source": [
        "# FastText 한국어 사용하기\n",
        "\n",
        "코어닷투데이 김경훈 20230914"
      ],
      "metadata": {
        "id": "vYgmLBBUPfg4"
      }
    },
    {
      "cell_type": "markdown",
      "source": [
        "# 그림 작성을 위한 한글 폰트 설치\n",
        "설치하고 런타임 다시 시작을 해주세요"
      ],
      "metadata": {
        "id": "-mbIEyNdRHEv"
      }
    },
    {
      "cell_type": "code",
      "source": [
        "!sudo apt-get install -y fonts-nanum\n",
        "!sudo fc-cache -fv\n",
        "!rm ~/.cache/matplotlib -rf"
      ],
      "metadata": {
        "colab": {
          "base_uri": "https://localhost:8080/"
        },
        "id": "qEmuIJnWRFVq",
        "outputId": "18f1c426-b57c-4031-cd9e-5e9dd5dc99ab"
      },
      "execution_count": null,
      "outputs": [
        {
          "output_type": "stream",
          "name": "stdout",
          "text": [
            "Reading package lists... Done\n",
            "Building dependency tree... Done\n",
            "Reading state information... Done\n",
            "The following NEW packages will be installed:\n",
            "  fonts-nanum\n",
            "0 upgraded, 1 newly installed, 0 to remove and 16 not upgraded.\n",
            "Need to get 10.3 MB of archives.\n",
            "After this operation, 34.1 MB of additional disk space will be used.\n",
            "Get:1 http://archive.ubuntu.com/ubuntu jammy/universe amd64 fonts-nanum all 20200506-1 [10.3 MB]\n",
            "Fetched 10.3 MB in 1s (9,720 kB/s)\n",
            "debconf: unable to initialize frontend: Dialog\n",
            "debconf: (No usable dialog-like program is installed, so the dialog based frontend cannot be used. at /usr/share/perl5/Debconf/FrontEnd/Dialog.pm line 78, <> line 1.)\n",
            "debconf: falling back to frontend: Readline\n",
            "debconf: unable to initialize frontend: Readline\n",
            "debconf: (This frontend requires a controlling tty.)\n",
            "debconf: falling back to frontend: Teletype\n",
            "dpkg-preconfigure: unable to re-open stdin: \n",
            "Selecting previously unselected package fonts-nanum.\n",
            "(Reading database ... 120901 files and directories currently installed.)\n",
            "Preparing to unpack .../fonts-nanum_20200506-1_all.deb ...\n",
            "Unpacking fonts-nanum (20200506-1) ...\n",
            "Setting up fonts-nanum (20200506-1) ...\n",
            "Processing triggers for fontconfig (2.13.1-4.2ubuntu5) ...\n",
            "/usr/share/fonts: caching, new cache contents: 0 fonts, 1 dirs\n",
            "/usr/share/fonts/truetype: caching, new cache contents: 0 fonts, 3 dirs\n",
            "/usr/share/fonts/truetype/humor-sans: caching, new cache contents: 1 fonts, 0 dirs\n",
            "/usr/share/fonts/truetype/liberation: caching, new cache contents: 16 fonts, 0 dirs\n",
            "/usr/share/fonts/truetype/nanum: caching, new cache contents: 12 fonts, 0 dirs\n",
            "/usr/local/share/fonts: caching, new cache contents: 0 fonts, 0 dirs\n",
            "/root/.local/share/fonts: skipping, no such directory\n",
            "/root/.fonts: skipping, no such directory\n",
            "/usr/share/fonts/truetype: skipping, looped directory detected\n",
            "/usr/share/fonts/truetype/humor-sans: skipping, looped directory detected\n",
            "/usr/share/fonts/truetype/liberation: skipping, looped directory detected\n",
            "/usr/share/fonts/truetype/nanum: skipping, looped directory detected\n",
            "/var/cache/fontconfig: cleaning cache directory\n",
            "/root/.cache/fontconfig: not cleaning non-existent cache directory\n",
            "/root/.fontconfig: not cleaning non-existent cache directory\n",
            "fc-cache: succeeded\n"
          ]
        }
      ]
    },
    {
      "cell_type": "code",
      "source": [
        "%matplotlib inline"
      ],
      "metadata": {
        "id": "PuxqM5HlQwUy"
      },
      "execution_count": null,
      "outputs": []
    },
    {
      "cell_type": "code",
      "execution_count": null,
      "metadata": {
        "id": "3cVKBy39I9dx"
      },
      "outputs": [],
      "source": [
        "import os\n",
        "import gensim\n",
        "\n",
        "import warnings\n",
        "warnings.filterwarnings(action='ignore', category=UserWarning, module='gensim')\n",
        "\n",
        "import matplotlib.pyplot as plt\n",
        "plt.rc('font', family='NanumBarunGothic')"
      ]
    },
    {
      "cell_type": "markdown",
      "source": [
        "아래 url에서 모델을 다운받으세요.\n",
        "\n",
        "- https://fasttext.cc/docs/en/crawl-vectors.html"
      ],
      "metadata": {
        "id": "L_EJ5rpzJuB3"
      }
    },
    {
      "cell_type": "markdown",
      "source": [
        "- `.vec` 파일은 라인마다 단어에 대한 vector가 있는 형태\n",
        "- `.bin` 파일은 벡터 뿐만 아니라 dictionary와 모델의 하이퍼 파라미터와 같은 정보들이 모두 들어있는 형태"
      ],
      "metadata": {
        "id": "3gbFR_rLJ82D"
      }
    },
    {
      "cell_type": "code",
      "source": [
        "url = \"https://dl.fbaipublicfiles.com/fasttext/vectors-crawl/cc.ko.300.bin.gz\""
      ],
      "metadata": {
        "id": "2etegi6QI-MB"
      },
      "execution_count": null,
      "outputs": []
    },
    {
      "cell_type": "code",
      "source": [
        "!wget $url"
      ],
      "metadata": {
        "colab": {
          "base_uri": "https://localhost:8080/"
        },
        "id": "PI-s_d5xJFT2",
        "outputId": "24b1a9b4-c520-40d7-f951-0cce7ec91e67"
      },
      "execution_count": null,
      "outputs": [
        {
          "output_type": "stream",
          "name": "stdout",
          "text": [
            "--2023-09-14 05:23:37--  https://dl.fbaipublicfiles.com/fasttext/vectors-crawl/cc.ko.300.bin.gz\n",
            "Resolving dl.fbaipublicfiles.com (dl.fbaipublicfiles.com)... 99.84.208.60, 99.84.208.90, 99.84.208.25, ...\n",
            "Connecting to dl.fbaipublicfiles.com (dl.fbaipublicfiles.com)|99.84.208.60|:443... connected.\n",
            "HTTP request sent, awaiting response... 200 OK\n",
            "Length: 4486458164 (4.2G) [application/octet-stream]\n",
            "Saving to: ‘cc.ko.300.bin.gz’\n",
            "\n",
            "cc.ko.300.bin.gz    100%[===================>]   4.18G  19.9MB/s    in 3m 20s  \n",
            "\n",
            "2023-09-14 05:26:58 (21.4 MB/s) - ‘cc.ko.300.bin.gz’ saved [4486458164/4486458164]\n",
            "\n"
          ]
        }
      ]
    },
    {
      "cell_type": "markdown",
      "source": [
        "gz 압축을 풀어줍시다. 일반 압축프로그램으로 압축을 풀어서 별개의 bin 파일을 사용하셔도 되요!"
      ],
      "metadata": {
        "id": "54ZCvzq3KFum"
      }
    },
    {
      "cell_type": "code",
      "source": [
        "!gzip -d cc.ko.300.bin.gz"
      ],
      "metadata": {
        "id": "endW_6TKJdnJ"
      },
      "execution_count": null,
      "outputs": []
    },
    {
      "cell_type": "code",
      "source": [
        "from gensim import models\n",
        "\n",
        "ko_model = models.fasttext.load_facebook_model('cc.ko.300.bin')"
      ],
      "metadata": {
        "colab": {
          "base_uri": "https://localhost:8080/"
        },
        "id": "Ej3lqetEJOs_",
        "outputId": "8a937830-5225-48c3-95d8-d0d6c205678a"
      },
      "execution_count": null,
      "outputs": [
        {
          "output_type": "stream",
          "name": "stderr",
          "text": [
            "ERROR:gensim.models._fasttext_bin:failed to decode invalid unicode bytes b'\\xed\\xa1\\x9c'; replacing invalid characters, using '\\\\xed\\\\xa1\\\\x9c'\n",
            "ERROR:gensim.models._fasttext_bin:failed to decode invalid unicode bytes b'\\xed\\xb0\\x80'; replacing invalid characters, using '\\\\xed\\\\xb0\\\\x80'\n",
            "ERROR:gensim.models._fasttext_bin:failed to decode invalid unicode bytes b'\\xed\\xa7\\x80'; replacing invalid characters, using '\\\\xed\\\\xa7\\\\x80'\n",
            "ERROR:gensim.models._fasttext_bin:failed to decode invalid unicode bytes b'\\xed\\xb8\\xb0'; replacing invalid characters, using '\\\\xed\\\\xb8\\\\xb0'\n",
            "ERROR:gensim.models._fasttext_bin:failed to decode invalid unicode bytes b'\\xed\\xa0\\x9c'; replacing invalid characters, using '\\\\xed\\\\xa0\\\\x9c'\n",
            "ERROR:gensim.models._fasttext_bin:failed to decode invalid unicode bytes b'\\xed\\xa6\\xac'; replacing invalid characters, using '\\\\xed\\\\xa6\\\\xac'\n",
            "ERROR:gensim.models._fasttext_bin:failed to decode invalid unicode bytes b'\\xed\\xb3\\xb5'; replacing invalid characters, using '\\\\xed\\\\xb3\\\\xb5'\n",
            "ERROR:gensim.models._fasttext_bin:failed to decode invalid unicode bytes b'\\xed\\xb3\\xb4'; replacing invalid characters, using '\\\\xed\\\\xb3\\\\xb4'\n",
            "ERROR:gensim.models._fasttext_bin:failed to decode invalid unicode bytes b'\\xed\\xa5\\xbc'; replacing invalid characters, using '\\\\xed\\\\xa5\\\\xbc'\n",
            "ERROR:gensim.models._fasttext_bin:failed to decode invalid unicode bytes b'\\xed\\xb3\\xa0'; replacing invalid characters, using '\\\\xed\\\\xb3\\\\xa0'\n",
            "ERROR:gensim.models._fasttext_bin:failed to decode invalid unicode bytes b'\\xed\\xa0\\x84'; replacing invalid characters, using '\\\\xed\\\\xa0\\\\x84'\n",
            "ERROR:gensim.models._fasttext_bin:failed to decode invalid unicode bytes b'\\xed\\xa0\\x95'; replacing invalid characters, using '\\\\xed\\\\xa0\\\\x95'\n"
          ]
        }
      ]
    },
    {
      "cell_type": "markdown",
      "source": [
        "# 메모리 사이즈가 작다면 wikipedia 한국어 모델을 써봅시다\n",
        "\n",
        "- https://fasttext.cc/docs/en/pretrained-vectors.html"
      ],
      "metadata": {
        "id": "wD27YfuUM2QI"
      }
    },
    {
      "cell_type": "code",
      "source": [],
      "metadata": {
        "id": "g5vGVpifM1-B"
      },
      "execution_count": null,
      "outputs": []
    },
    {
      "cell_type": "code",
      "source": [
        "!wget https://dl.fbaipublicfiles.com/fasttext/vectors-wiki/wiki.ko.zip"
      ],
      "metadata": {
        "colab": {
          "base_uri": "https://localhost:8080/"
        },
        "id": "RqR8L79UMwKv",
        "outputId": "d6e31d7f-f10d-40ac-e481-056240050466"
      },
      "execution_count": null,
      "outputs": [
        {
          "output_type": "stream",
          "name": "stdout",
          "text": [
            "--2023-09-14 05:38:55--  https://dl.fbaipublicfiles.com/fasttext/vectors-wiki/wiki.ko.zip\n",
            "Resolving dl.fbaipublicfiles.com (dl.fbaipublicfiles.com)... 99.84.208.60, 99.84.208.25, 99.84.208.36, ...\n",
            "Connecting to dl.fbaipublicfiles.com (dl.fbaipublicfiles.com)|99.84.208.60|:443... connected.\n",
            "HTTP request sent, awaiting response... 200 OK\n",
            "Length: 5095072144 (4.7G) [application/zip]\n",
            "Saving to: ‘wiki.ko.zip’\n",
            "\n",
            "wiki.ko.zip         100%[===================>]   4.75G  21.4MB/s    in 3m 32s  \n",
            "\n",
            "2023-09-14 05:42:28 (22.9 MB/s) - ‘wiki.ko.zip’ saved [5095072144/5095072144]\n",
            "\n"
          ]
        }
      ]
    },
    {
      "cell_type": "code",
      "source": [
        "!unzip wiki.ko.zip"
      ],
      "metadata": {
        "colab": {
          "base_uri": "https://localhost:8080/"
        },
        "id": "e9gX4I8TMz0Z",
        "outputId": "314c4265-35e3-40ef-db99-a9d1fe2fb148"
      },
      "execution_count": null,
      "outputs": [
        {
          "output_type": "stream",
          "name": "stdout",
          "text": [
            "Archive:  wiki.ko.zip\n",
            "  inflating: wiki.ko.bin             \n",
            "  inflating: wiki.ko.vec             \n"
          ]
        }
      ]
    },
    {
      "cell_type": "code",
      "source": [
        "from gensim import models\n",
        "\n",
        "ko_model = models.fasttext.load_facebook_model('wiki.ko.bin')"
      ],
      "metadata": {
        "id": "oGZMadowNo9D"
      },
      "execution_count": null,
      "outputs": []
    },
    {
      "cell_type": "code",
      "source": [
        "ko_model"
      ],
      "metadata": {
        "colab": {
          "base_uri": "https://localhost:8080/"
        },
        "id": "3MdxJaTGOgCE",
        "outputId": "356d8361-7c30-4a5d-fdf5-88ce18f914ee"
      },
      "execution_count": null,
      "outputs": [
        {
          "output_type": "execute_result",
          "data": {
            "text/plain": [
              "<gensim.models.fasttext.FastText at 0x78ff99d4cd00>"
            ]
          },
          "metadata": {},
          "execution_count": 4
        }
      ]
    },
    {
      "cell_type": "code",
      "source": [
        "for w, sim in ko_model.wv.similar_by_word('파이썬', 10):\n",
        "    print(f'{w}: {sim}')"
      ],
      "metadata": {
        "colab": {
          "base_uri": "https://localhost:8080/"
        },
        "id": "9WYt64FAKhFY",
        "outputId": "09b63fa2-a050-4e94-e827-17b155d4c54e"
      },
      "execution_count": null,
      "outputs": [
        {
          "output_type": "stream",
          "name": "stdout",
          "text": [
            "파이썬이: 0.8981545567512512\n",
            "파이썬은: 0.8964813351631165\n",
            "파이썬과: 0.8900295495986938\n",
            "파이썬을: 0.8891832828521729\n",
            "파이썬에: 0.8743370771408081\n",
            "파이썬의: 0.8634340167045593\n",
            "파이썬에서: 0.8615654110908508\n",
            "파이썬으로: 0.8568466901779175\n",
            "사이썬: 0.8504716753959656\n",
            "파이썬에서는: 0.8454942107200623\n"
          ]
        }
      ]
    },
    {
      "cell_type": "code",
      "source": [
        "for w, sim in ko_model.wv.similar_by_word('고구마', 10):\n",
        "    print(f'{w}: {sim}')"
      ],
      "metadata": {
        "colab": {
          "base_uri": "https://localhost:8080/"
        },
        "id": "kp0uRXDpOdV5",
        "outputId": "e3a04123-c90d-41ef-85b4-000e34151dd3"
      },
      "execution_count": null,
      "outputs": [
        {
          "output_type": "stream",
          "name": "stdout",
          "text": [
            "고구마와: 0.8452924489974976\n",
            "군고구마: 0.8450864553451538\n",
            "고구마의: 0.8381970524787903\n",
            "고구마가: 0.8230379819869995\n",
            "고구마를: 0.8121134042739868\n",
            "고구마는: 0.8101942539215088\n",
            "시금치: 0.7505736947059631\n",
            "고추나물: 0.7393064498901367\n",
            "참깨: 0.7359969019889832\n",
            "고추냉이: 0.7313038110733032\n"
          ]
        }
      ]
    },
    {
      "cell_type": "code",
      "source": [
        "for w, sim in ko_model.wv.similar_by_word('감자', 10):\n",
        "    print(f'{w}: {sim}')"
      ],
      "metadata": {
        "colab": {
          "base_uri": "https://localhost:8080/"
        },
        "id": "aP5ujkFgOrYy",
        "outputId": "cdca17df-ac4d-4280-e499-bf670cda8365"
      },
      "execution_count": null,
      "outputs": [
        {
          "output_type": "stream",
          "name": "stdout",
          "text": [
            "감자와: 0.8474608659744263\n",
            "돼지감자: 0.8091248869895935\n",
            "감자전: 0.8062297701835632\n",
            "감자빵은: 0.7996994853019714\n",
            "감자칩: 0.7983944416046143\n",
            "감자나: 0.7977982759475708\n",
            "감자튀김: 0.7921280860900879\n",
            "감자가: 0.7898270487785339\n",
            "감자전분: 0.7892451882362366\n",
            "설탕당근: 0.7861435413360596\n"
          ]
        }
      ]
    },
    {
      "cell_type": "code",
      "source": [
        "for w, sim in ko_model.wv.similar_by_word('보온병', 10):\n",
        "    print(f'{w}: {sim}')"
      ],
      "metadata": {
        "colab": {
          "base_uri": "https://localhost:8080/"
        },
        "id": "4G3EiBN1OtQ4",
        "outputId": "5739b500-1613-46dc-c6d1-f8087c12c563"
      },
      "execution_count": null,
      "outputs": [
        {
          "output_type": "stream",
          "name": "stdout",
          "text": [
            "보온병을: 0.7607376575469971\n",
            "보온성: 0.6730151176452637\n",
            "보온: 0.6653570532798767\n",
            "용접용: 0.6342130303382874\n",
            "제조원: 0.6312565803527832\n",
            "식기세척기: 0.6279789805412292\n",
            "세탁세제: 0.6245207786560059\n",
            "커피메이커: 0.6233428120613098\n",
            "유리병: 0.6222872138023376\n",
            "세탁용: 0.6219345927238464\n"
          ]
        }
      ]
    },
    {
      "cell_type": "markdown",
      "source": [
        "# 두 단어 사이의 유사성을 계산해 보겠습니다"
      ],
      "metadata": {
        "id": "Uimbm9FGQUgL"
      }
    },
    {
      "cell_type": "code",
      "source": [
        "ko_model.wv.similarity(\"보온병\", \"고구마\")"
      ],
      "metadata": {
        "colab": {
          "base_uri": "https://localhost:8080/"
        },
        "id": "msioxRpDPLyh",
        "outputId": "15d3cb1a-443e-47d2-f9f4-828b049687ea"
      },
      "execution_count": null,
      "outputs": [
        {
          "output_type": "execute_result",
          "data": {
            "text/plain": [
              "0.47313565"
            ]
          },
          "metadata": {},
          "execution_count": 9
        }
      ]
    },
    {
      "cell_type": "code",
      "source": [
        "ko_model.wv.similarity(\"감자\", \"고구마\")"
      ],
      "metadata": {
        "colab": {
          "base_uri": "https://localhost:8080/"
        },
        "id": "rzGNJ9YhP8St",
        "outputId": "5641b3d5-2570-46b3-a64f-07d87bdcd56f"
      },
      "execution_count": null,
      "outputs": [
        {
          "output_type": "execute_result",
          "data": {
            "text/plain": [
              "0.69523424"
            ]
          },
          "metadata": {},
          "execution_count": 10
        }
      ]
    },
    {
      "cell_type": "code",
      "source": [
        "ko_model.wv.similarity(\"고구마깡\", \"고구마\")"
      ],
      "metadata": {
        "colab": {
          "base_uri": "https://localhost:8080/"
        },
        "id": "LUezs7lOP_ca",
        "outputId": "c13ca7ec-8330-4685-df37-b53acab099ad"
      },
      "execution_count": null,
      "outputs": [
        {
          "output_type": "execute_result",
          "data": {
            "text/plain": [
              "0.8201763"
            ]
          },
          "metadata": {},
          "execution_count": 11
        }
      ]
    },
    {
      "cell_type": "code",
      "source": [
        "ko_model.wv.similarity(\"고구마맛탕\", \"고구마\")"
      ],
      "metadata": {
        "colab": {
          "base_uri": "https://localhost:8080/"
        },
        "id": "WmGsrVuuQBPs",
        "outputId": "d7e175f1-dc11-471c-a447-34bb8541c2ac"
      },
      "execution_count": null,
      "outputs": [
        {
          "output_type": "execute_result",
          "data": {
            "text/plain": [
              "0.8624138"
            ]
          },
          "metadata": {},
          "execution_count": 12
        }
      ]
    },
    {
      "cell_type": "code",
      "source": [
        "ko_model.wv.similarity(\"고구마 튀김\", \"고구마\")"
      ],
      "metadata": {
        "colab": {
          "base_uri": "https://localhost:8080/"
        },
        "id": "Bnpav_AAQCgp",
        "outputId": "0d1f850f-c50d-4bc8-f6c1-9b8966286386"
      },
      "execution_count": null,
      "outputs": [
        {
          "output_type": "execute_result",
          "data": {
            "text/plain": [
              "0.8201559"
            ]
          },
          "metadata": {},
          "execution_count": 13
        }
      ]
    },
    {
      "cell_type": "code",
      "source": [
        "ko_model.wv.similarity(\"고구마튀김\", \"고구마\")"
      ],
      "metadata": {
        "colab": {
          "base_uri": "https://localhost:8080/"
        },
        "id": "XJdGcN1BQFY_",
        "outputId": "ac0570a1-92e2-4cb3-e63b-87afa6119a62"
      },
      "execution_count": null,
      "outputs": [
        {
          "output_type": "execute_result",
          "data": {
            "text/plain": [
              "0.829859"
            ]
          },
          "metadata": {},
          "execution_count": 14
        }
      ]
    },
    {
      "cell_type": "code",
      "source": [
        "ko_model.wv.similarity(\"튀김고구마\", \"고구마\")"
      ],
      "metadata": {
        "colab": {
          "base_uri": "https://localhost:8080/"
        },
        "id": "Vqof_fWkQGek",
        "outputId": "1835e358-bf02-4ea4-ba4d-8c22b94e95d4"
      },
      "execution_count": null,
      "outputs": [
        {
          "output_type": "execute_result",
          "data": {
            "text/plain": [
              "0.8403498"
            ]
          },
          "metadata": {},
          "execution_count": 15
        }
      ]
    },
    {
      "cell_type": "code",
      "source": [
        "ko_model.wv.similarity(\"뿌리채소\", \"고구마\")"
      ],
      "metadata": {
        "colab": {
          "base_uri": "https://localhost:8080/"
        },
        "id": "pdzN5vVKQIpJ",
        "outputId": "82d8e547-7cc0-4ede-c10c-d7c2816bb225"
      },
      "execution_count": null,
      "outputs": [
        {
          "output_type": "execute_result",
          "data": {
            "text/plain": [
              "0.68144065"
            ]
          },
          "metadata": {},
          "execution_count": 16
        }
      ]
    },
    {
      "cell_type": "markdown",
      "source": [
        "# 벡터 시각화"
      ],
      "metadata": {
        "id": "VUwIqVO-QbQQ"
      }
    },
    {
      "cell_type": "code",
      "source": [
        "from sklearn.decomposition import PCA"
      ],
      "metadata": {
        "id": "sKwH6eUZQLn0"
      },
      "execution_count": null,
      "outputs": []
    },
    {
      "cell_type": "code",
      "source": [
        "words = [\n",
        "    '파이썬',\n",
        "    '고구마',\n",
        "    '감자',\n",
        "    '보온병',\n",
        "    '고구마튀김',\n",
        "    '고구마맛탕',\n",
        "    '뿌리채소',\n",
        "    '고구마 튀김',\n",
        "    '튀김고구마',\n",
        "    '고구마깡'\n",
        "]"
      ],
      "metadata": {
        "id": "bbNjzXj5QdNy"
      },
      "execution_count": null,
      "outputs": []
    },
    {
      "cell_type": "code",
      "source": [
        "pca = PCA(n_components=2)\n",
        "xys = pca.fit_transform([ko_model.wv.word_vec(w) for w in words])\n",
        "xs = xys[:,0]\n",
        "ys = xys[:,1]\n",
        "plt.figure(figsize=(14, 10));\n",
        "plt.scatter(xs, ys, marker='o');\n",
        "for i, v in enumerate(words):\n",
        "    plt.annotate(v, xy=(xs[i], ys[i]));"
      ],
      "metadata": {
        "colab": {
          "base_uri": "https://localhost:8080/",
          "height": 954
        },
        "id": "iqdU3ryiQqIw",
        "outputId": "2e963029-bead-467b-88cb-10a76cd9aec7"
      },
      "execution_count": null,
      "outputs": [
        {
          "output_type": "stream",
          "name": "stderr",
          "text": [
            "<ipython-input-21-b627d0500443>:2: DeprecationWarning: Call to deprecated `word_vec` (Use get_vector instead).\n",
            "  xys = pca.fit_transform([ko_model.wv.word_vec(w) for w in words])\n",
            "/usr/local/lib/python3.10/dist-packages/IPython/core/events.py:89: UserWarning: Glyph 8722 (\\N{MINUS SIGN}) missing from current font.\n",
            "  func(*args, **kwargs)\n",
            "/usr/local/lib/python3.10/dist-packages/IPython/core/pylabtools.py:151: UserWarning: Glyph 8722 (\\N{MINUS SIGN}) missing from current font.\n",
            "  fig.canvas.print_figure(bytes_io, **kw)\n"
          ]
        },
        {
          "output_type": "display_data",
          "data": {
            "text/plain": [
              "<Figure size 1400x1000 with 1 Axes>"
            ],
            "image/png": "[encoded data removed]"
          },
          "metadata": {}
        }
      ]
    },
    {
      "cell_type": "code",
      "source": [],
      "metadata": {
        "id": "fcxQdP9lQsdT"
      },
      "execution_count": null,
      "outputs": []
    }
  ]
}