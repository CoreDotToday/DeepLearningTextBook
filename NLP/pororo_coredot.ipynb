{
  "nbformat": 4,
  "nbformat_minor": 0,
  "metadata": {
    "colab": {
      "name": "pororo - coredot",
      "provenance": [],
      "collapsed_sections": []
    },
    "kernelspec": {
      "name": "python3",
      "display_name": "Python 3"
    },
    "language_info": {
      "name": "python"
    },
    "widgets": {
      "application/vnd.jupyter.widget-state+json": {
        "12849f8fd1ca47e3a5e5a4e8bfc46bd9": {
          "model_module": "@jupyter-widgets/controls",
          "model_name": "HBoxModel",
          "state": {
            "_view_name": "HBoxView",
            "_dom_classes": [],
            "_model_name": "HBoxModel",
            "_view_module": "@jupyter-widgets/controls",
            "_model_module_version": "1.5.0",
            "_view_count": null,
            "_view_module_version": "1.5.0",
            "box_style": "",
            "layout": "IPY_MODEL_7c8f9bdad12a4c14a44eebc5d4bbcdf7",
            "_model_module": "@jupyter-widgets/controls",
            "children": [
              "IPY_MODEL_a44b57ce6a2145ab8bc3982b67871497",
              "IPY_MODEL_8277ac7423c94eaaa9d8e07dc7d9f030"
            ]
          }
        },
        "7c8f9bdad12a4c14a44eebc5d4bbcdf7": {
          "model_module": "@jupyter-widgets/base",
          "model_name": "LayoutModel",
          "state": {
            "_view_name": "LayoutView",
            "grid_template_rows": null,
            "right": null,
            "justify_content": null,
            "_view_module": "@jupyter-widgets/base",
            "overflow": null,
            "_model_module_version": "1.2.0",
            "_view_count": null,
            "flex_flow": null,
            "width": null,
            "min_width": null,
            "border": null,
            "align_items": null,
            "bottom": null,
            "_model_module": "@jupyter-widgets/base",
            "top": null,
            "grid_column": null,
            "overflow_y": null,
            "overflow_x": null,
            "grid_auto_flow": null,
            "grid_area": null,
            "grid_template_columns": null,
            "flex": null,
            "_model_name": "LayoutModel",
            "justify_items": null,
            "grid_row": null,
            "max_height": null,
            "align_content": null,
            "visibility": null,
            "align_self": null,
            "height": null,
            "min_height": null,
            "padding": null,
            "grid_auto_rows": null,
            "grid_gap": null,
            "max_width": null,
            "order": null,
            "_view_module_version": "1.2.0",
            "grid_template_areas": null,
            "object_position": null,
            "object_fit": null,
            "grid_auto_columns": null,
            "margin": null,
            "display": null,
            "left": null
          }
        },
        "a44b57ce6a2145ab8bc3982b67871497": {
          "model_module": "@jupyter-widgets/controls",
          "model_name": "FloatProgressModel",
          "state": {
            "_view_name": "ProgressView",
            "style": "IPY_MODEL_1e9930f89da645af840e16f7658d0157",
            "_dom_classes": [],
            "description": "Downloading: 100%",
            "_model_name": "FloatProgressModel",
            "bar_style": "success",
            "max": 1110,
            "_view_module": "@jupyter-widgets/controls",
            "_model_module_version": "1.5.0",
            "value": 1110,
            "_view_count": null,
            "_view_module_version": "1.5.0",
            "orientation": "horizontal",
            "min": 0,
            "description_tooltip": null,
            "_model_module": "@jupyter-widgets/controls",
            "layout": "IPY_MODEL_8b969e846817475bb2aa64cf52fd32a8"
          }
        },
        "8277ac7423c94eaaa9d8e07dc7d9f030": {
          "model_module": "@jupyter-widgets/controls",
          "model_name": "HTMLModel",
          "state": {
            "_view_name": "HTMLView",
            "style": "IPY_MODEL_b1646fabdcfb46a2bc36f791c70d5ae1",
            "_dom_classes": [],
            "description": "",
            "_model_name": "HTMLModel",
            "placeholder": "​",
            "_view_module": "@jupyter-widgets/controls",
            "_model_module_version": "1.5.0",
            "value": " 1.11k/1.11k [00:00&lt;00:00, 2.94kB/s]",
            "_view_count": null,
            "_view_module_version": "1.5.0",
            "description_tooltip": null,
            "_model_module": "@jupyter-widgets/controls",
            "layout": "IPY_MODEL_aaf48050aaa34fd79cfc337890d27079"
          }
        },
        "1e9930f89da645af840e16f7658d0157": {
          "model_module": "@jupyter-widgets/controls",
          "model_name": "ProgressStyleModel",
          "state": {
            "_view_name": "StyleView",
            "_model_name": "ProgressStyleModel",
            "description_width": "initial",
            "_view_module": "@jupyter-widgets/base",
            "_model_module_version": "1.5.0",
            "_view_count": null,
            "_view_module_version": "1.2.0",
            "bar_color": null,
            "_model_module": "@jupyter-widgets/controls"
          }
        },
        "8b969e846817475bb2aa64cf52fd32a8": {
          "model_module": "@jupyter-widgets/base",
          "model_name": "LayoutModel",
          "state": {
            "_view_name": "LayoutView",
            "grid_template_rows": null,
            "right": null,
            "justify_content": null,
            "_view_module": "@jupyter-widgets/base",
            "overflow": null,
            "_model_module_version": "1.2.0",
            "_view_count": null,
            "flex_flow": null,
            "width": null,
            "min_width": null,
            "border": null,
            "align_items": null,
            "bottom": null,
            "_model_module": "@jupyter-widgets/base",
            "top": null,
            "grid_column": null,
            "overflow_y": null,
            "overflow_x": null,
            "grid_auto_flow": null,
            "grid_area": null,
            "grid_template_columns": null,
            "flex": null,
            "_model_name": "LayoutModel",
            "justify_items": null,
            "grid_row": null,
            "max_height": null,
            "align_content": null,
            "visibility": null,
            "align_self": null,
            "height": null,
            "min_height": null,
            "padding": null,
            "grid_auto_rows": null,
            "grid_gap": null,
            "max_width": null,
            "order": null,
            "_view_module_version": "1.2.0",
            "grid_template_areas": null,
            "object_position": null,
            "object_fit": null,
            "grid_auto_columns": null,
            "margin": null,
            "display": null,
            "left": null
          }
        },
        "b1646fabdcfb46a2bc36f791c70d5ae1": {
          "model_module": "@jupyter-widgets/controls",
          "model_name": "DescriptionStyleModel",
          "state": {
            "_view_name": "StyleView",
            "_model_name": "DescriptionStyleModel",
            "description_width": "",
            "_view_module": "@jupyter-widgets/base",
            "_model_module_version": "1.5.0",
            "_view_count": null,
            "_view_module_version": "1.2.0",
            "_model_module": "@jupyter-widgets/controls"
          }
        },
        "aaf48050aaa34fd79cfc337890d27079": {
          "model_module": "@jupyter-widgets/base",
          "model_name": "LayoutModel",
          "state": {
            "_view_name": "LayoutView",
            "grid_template_rows": null,
            "right": null,
            "justify_content": null,
            "_view_module": "@jupyter-widgets/base",
            "overflow": null,
            "_model_module_version": "1.2.0",
            "_view_count": null,
            "flex_flow": null,
            "width": null,
            "min_width": null,
            "border": null,
            "align_items": null,
            "bottom": null,
            "_model_module": "@jupyter-widgets/base",
            "top": null,
            "grid_column": null,
            "overflow_y": null,
            "overflow_x": null,
            "grid_auto_flow": null,
            "grid_area": null,
            "grid_template_columns": null,
            "flex": null,
            "_model_name": "LayoutModel",
            "justify_items": null,
            "grid_row": null,
            "max_height": null,
            "align_content": null,
            "visibility": null,
            "align_self": null,
            "height": null,
            "min_height": null,
            "padding": null,
            "grid_auto_rows": null,
            "grid_gap": null,
            "max_width": null,
            "order": null,
            "_view_module_version": "1.2.0",
            "grid_template_areas": null,
            "object_position": null,
            "object_fit": null,
            "grid_auto_columns": null,
            "margin": null,
            "display": null,
            "left": null
          }
        },
        "b31d7303ebf74c74ba7607449c8e8546": {
          "model_module": "@jupyter-widgets/controls",
          "model_name": "HBoxModel",
          "state": {
            "_view_name": "HBoxView",
            "_dom_classes": [],
            "_model_name": "HBoxModel",
            "_view_module": "@jupyter-widgets/controls",
            "_model_module_version": "1.5.0",
            "_view_count": null,
            "_view_module_version": "1.5.0",
            "box_style": "",
            "layout": "IPY_MODEL_55452547ccd04a61a4afb4aad31813d1",
            "_model_module": "@jupyter-widgets/controls",
            "children": [
              "IPY_MODEL_d8f94f14fc6b4e5e9dbe3c0c6f4a3c00",
              "IPY_MODEL_1409cc86ebc545e38343b1cf34384721"
            ]
          }
        },
        "55452547ccd04a61a4afb4aad31813d1": {
          "model_module": "@jupyter-widgets/base",
          "model_name": "LayoutModel",
          "state": {
            "_view_name": "LayoutView",
            "grid_template_rows": null,
            "right": null,
            "justify_content": null,
            "_view_module": "@jupyter-widgets/base",
            "overflow": null,
            "_model_module_version": "1.2.0",
            "_view_count": null,
            "flex_flow": null,
            "width": null,
            "min_width": null,
            "border": null,
            "align_items": null,
            "bottom": null,
            "_model_module": "@jupyter-widgets/base",
            "top": null,
            "grid_column": null,
            "overflow_y": null,
            "overflow_x": null,
            "grid_auto_flow": null,
            "grid_area": null,
            "grid_template_columns": null,
            "flex": null,
            "_model_name": "LayoutModel",
            "justify_items": null,
            "grid_row": null,
            "max_height": null,
            "align_content": null,
            "visibility": null,
            "align_self": null,
            "height": null,
            "min_height": null,
            "padding": null,
            "grid_auto_rows": null,
            "grid_gap": null,
            "max_width": null,
            "order": null,
            "_view_module_version": "1.2.0",
            "grid_template_areas": null,
            "object_position": null,
            "object_fit": null,
            "grid_auto_columns": null,
            "margin": null,
            "display": null,
            "left": null
          }
        },
        "d8f94f14fc6b4e5e9dbe3c0c6f4a3c00": {
          "model_module": "@jupyter-widgets/controls",
          "model_name": "FloatProgressModel",
          "state": {
            "_view_name": "ProgressView",
            "style": "IPY_MODEL_96bb69117cf64f31858bcfcb097217f2",
            "_dom_classes": [],
            "description": "Downloading: 100%",
            "_model_name": "FloatProgressModel",
            "bar_style": "success",
            "max": 2,
            "_view_module": "@jupyter-widgets/controls",
            "_model_module_version": "1.5.0",
            "value": 2,
            "_view_count": null,
            "_view_module_version": "1.5.0",
            "orientation": "horizontal",
            "min": 0,
            "description_tooltip": null,
            "_model_module": "@jupyter-widgets/controls",
            "layout": "IPY_MODEL_a2024a4a29d2494c90e9cae2525eccbf"
          }
        },
        "1409cc86ebc545e38343b1cf34384721": {
          "model_module": "@jupyter-widgets/controls",
          "model_name": "HTMLModel",
          "state": {
            "_view_name": "HTMLView",
            "style": "IPY_MODEL_3c4ee4497a864a61a4414b1af1fce5bc",
            "_dom_classes": [],
            "description": "",
            "_model_name": "HTMLModel",
            "placeholder": "​",
            "_view_module": "@jupyter-widgets/controls",
            "_model_module_version": "1.5.0",
            "value": " 2.00/2.00 [00:02&lt;00:00, 1.41s/B]",
            "_view_count": null,
            "_view_module_version": "1.5.0",
            "description_tooltip": null,
            "_model_module": "@jupyter-widgets/controls",
            "layout": "IPY_MODEL_5572f698dece46cd86253e35cc6dcd38"
          }
        },
        "96bb69117cf64f31858bcfcb097217f2": {
          "model_module": "@jupyter-widgets/controls",
          "model_name": "ProgressStyleModel",
          "state": {
            "_view_name": "StyleView",
            "_model_name": "ProgressStyleModel",
            "description_width": "initial",
            "_view_module": "@jupyter-widgets/base",
            "_model_module_version": "1.5.0",
            "_view_count": null,
            "_view_module_version": "1.2.0",
            "bar_color": null,
            "_model_module": "@jupyter-widgets/controls"
          }
        },
        "a2024a4a29d2494c90e9cae2525eccbf": {
          "model_module": "@jupyter-widgets/base",
          "model_name": "LayoutModel",
          "state": {
            "_view_name": "LayoutView",
            "grid_template_rows": null,
            "right": null,
            "justify_content": null,
            "_view_module": "@jupyter-widgets/base",
            "overflow": null,
            "_model_module_version": "1.2.0",
            "_view_count": null,
            "flex_flow": null,
            "width": null,
            "min_width": null,
            "border": null,
            "align_items": null,
            "bottom": null,
            "_model_module": "@jupyter-widgets/base",
            "top": null,
            "grid_column": null,
            "overflow_y": null,
            "overflow_x": null,
            "grid_auto_flow": null,
            "grid_area": null,
            "grid_template_columns": null,
            "flex": null,
            "_model_name": "LayoutModel",
            "justify_items": null,
            "grid_row": null,
            "max_height": null,
            "align_content": null,
            "visibility": null,
            "align_self": null,
            "height": null,
            "min_height": null,
            "padding": null,
            "grid_auto_rows": null,
            "grid_gap": null,
            "max_width": null,
            "order": null,
            "_view_module_version": "1.2.0",
            "grid_template_areas": null,
            "object_position": null,
            "object_fit": null,
            "grid_auto_columns": null,
            "margin": null,
            "display": null,
            "left": null
          }
        },
        "3c4ee4497a864a61a4414b1af1fce5bc": {
          "model_module": "@jupyter-widgets/controls",
          "model_name": "DescriptionStyleModel",
          "state": {
            "_view_name": "StyleView",
            "_model_name": "DescriptionStyleModel",
            "description_width": "",
            "_view_module": "@jupyter-widgets/base",
            "_model_module_version": "1.5.0",
            "_view_count": null,
            "_view_module_version": "1.2.0",
            "_model_module": "@jupyter-widgets/controls"
          }
        },
        "5572f698dece46cd86253e35cc6dcd38": {
          "model_module": "@jupyter-widgets/base",
          "model_name": "LayoutModel",
          "state": {
            "_view_name": "LayoutView",
            "grid_template_rows": null,
            "right": null,
            "justify_content": null,
            "_view_module": "@jupyter-widgets/base",
            "overflow": null,
            "_model_module_version": "1.2.0",
            "_view_count": null,
            "flex_flow": null,
            "width": null,
            "min_width": null,
            "border": null,
            "align_items": null,
            "bottom": null,
            "_model_module": "@jupyter-widgets/base",
            "top": null,
            "grid_column": null,
            "overflow_y": null,
            "overflow_x": null,
            "grid_auto_flow": null,
            "grid_area": null,
            "grid_template_columns": null,
            "flex": null,
            "_model_name": "LayoutModel",
            "justify_items": null,
            "grid_row": null,
            "max_height": null,
            "align_content": null,
            "visibility": null,
            "align_self": null,
            "height": null,
            "min_height": null,
            "padding": null,
            "grid_auto_rows": null,
            "grid_gap": null,
            "max_width": null,
            "order": null,
            "_view_module_version": "1.2.0",
            "grid_template_areas": null,
            "object_position": null,
            "object_fit": null,
            "grid_auto_columns": null,
            "margin": null,
            "display": null,
            "left": null
          }
        },
        "83130146a5ec46d4958a7c0be441e879": {
          "model_module": "@jupyter-widgets/controls",
          "model_name": "HBoxModel",
          "state": {
            "_view_name": "HBoxView",
            "_dom_classes": [],
            "_model_name": "HBoxModel",
            "_view_module": "@jupyter-widgets/controls",
            "_model_module_version": "1.5.0",
            "_view_count": null,
            "_view_module_version": "1.5.0",
            "box_style": "",
            "layout": "IPY_MODEL_e4a6f2db41e84c19b00b673f8ad84294",
            "_model_module": "@jupyter-widgets/controls",
            "children": [
              "IPY_MODEL_26dd84fe225744ffac07ac52741f8d34",
              "IPY_MODEL_5979f81a328d48fcaf64e8bb334b635a"
            ]
          }
        },
        "e4a6f2db41e84c19b00b673f8ad84294": {
          "model_module": "@jupyter-widgets/base",
          "model_name": "LayoutModel",
          "state": {
            "_view_name": "LayoutView",
            "grid_template_rows": null,
            "right": null,
            "justify_content": null,
            "_view_module": "@jupyter-widgets/base",
            "overflow": null,
            "_model_module_version": "1.2.0",
            "_view_count": null,
            "flex_flow": null,
            "width": null,
            "min_width": null,
            "border": null,
            "align_items": null,
            "bottom": null,
            "_model_module": "@jupyter-widgets/base",
            "top": null,
            "grid_column": null,
            "overflow_y": null,
            "overflow_x": null,
            "grid_auto_flow": null,
            "grid_area": null,
            "grid_template_columns": null,
            "flex": null,
            "_model_name": "LayoutModel",
            "justify_items": null,
            "grid_row": null,
            "max_height": null,
            "align_content": null,
            "visibility": null,
            "align_self": null,
            "height": null,
            "min_height": null,
            "padding": null,
            "grid_auto_rows": null,
            "grid_gap": null,
            "max_width": null,
            "order": null,
            "_view_module_version": "1.2.0",
            "grid_template_areas": null,
            "object_position": null,
            "object_fit": null,
            "grid_auto_columns": null,
            "margin": null,
            "display": null,
            "left": null
          }
        },
        "26dd84fe225744ffac07ac52741f8d34": {
          "model_module": "@jupyter-widgets/controls",
          "model_name": "FloatProgressModel",
          "state": {
            "_view_name": "ProgressView",
            "style": "IPY_MODEL_a820eb849a67437e96e2e4441275c962",
            "_dom_classes": [],
            "description": "Downloading: 100%",
            "_model_name": "FloatProgressModel",
            "bar_style": "success",
            "max": 85,
            "_view_module": "@jupyter-widgets/controls",
            "_model_module_version": "1.5.0",
            "value": 85,
            "_view_count": null,
            "_view_module_version": "1.5.0",
            "orientation": "horizontal",
            "min": 0,
            "description_tooltip": null,
            "_model_module": "@jupyter-widgets/controls",
            "layout": "IPY_MODEL_c0a4783f49b3471f9d97067d28442c65"
          }
        },
        "5979f81a328d48fcaf64e8bb334b635a": {
          "model_module": "@jupyter-widgets/controls",
          "model_name": "HTMLModel",
          "state": {
            "_view_name": "HTMLView",
            "style": "IPY_MODEL_fe487911e1074e01b6ea6bb6756fb8b1",
            "_dom_classes": [],
            "description": "",
            "_model_name": "HTMLModel",
            "placeholder": "​",
            "_view_module": "@jupyter-widgets/controls",
            "_model_module_version": "1.5.0",
            "value": " 85.0/85.0 [00:01&lt;00:00, 64.1B/s]",
            "_view_count": null,
            "_view_module_version": "1.5.0",
            "description_tooltip": null,
            "_model_module": "@jupyter-widgets/controls",
            "layout": "IPY_MODEL_09a96511659d4658b428f011ad5c8d91"
          }
        },
        "a820eb849a67437e96e2e4441275c962": {
          "model_module": "@jupyter-widgets/controls",
          "model_name": "ProgressStyleModel",
          "state": {
            "_view_name": "StyleView",
            "_model_name": "ProgressStyleModel",
            "description_width": "initial",
            "_view_module": "@jupyter-widgets/base",
            "_model_module_version": "1.5.0",
            "_view_count": null,
            "_view_module_version": "1.2.0",
            "bar_color": null,
            "_model_module": "@jupyter-widgets/controls"
          }
        },
        "c0a4783f49b3471f9d97067d28442c65": {
          "model_module": "@jupyter-widgets/base",
          "model_name": "LayoutModel",
          "state": {
            "_view_name": "LayoutView",
            "grid_template_rows": null,
            "right": null,
            "justify_content": null,
            "_view_module": "@jupyter-widgets/base",
            "overflow": null,
            "_model_module_version": "1.2.0",
            "_view_count": null,
            "flex_flow": null,
            "width": null,
            "min_width": null,
            "border": null,
            "align_items": null,
            "bottom": null,
            "_model_module": "@jupyter-widgets/base",
            "top": null,
            "grid_column": null,
            "overflow_y": null,
            "overflow_x": null,
            "grid_auto_flow": null,
            "grid_area": null,
            "grid_template_columns": null,
            "flex": null,
            "_model_name": "LayoutModel",
            "justify_items": null,
            "grid_row": null,
            "max_height": null,
            "align_content": null,
            "visibility": null,
            "align_self": null,
            "height": null,
            "min_height": null,
            "padding": null,
            "grid_auto_rows": null,
            "grid_gap": null,
            "max_width": null,
            "order": null,
            "_view_module_version": "1.2.0",
            "grid_template_areas": null,
            "object_position": null,
            "object_fit": null,
            "grid_auto_columns": null,
            "margin": null,
            "display": null,
            "left": null
          }
        },
        "fe487911e1074e01b6ea6bb6756fb8b1": {
          "model_module": "@jupyter-widgets/controls",
          "model_name": "DescriptionStyleModel",
          "state": {
            "_view_name": "StyleView",
            "_model_name": "DescriptionStyleModel",
            "description_width": "",
            "_view_module": "@jupyter-widgets/base",
            "_model_module_version": "1.5.0",
            "_view_count": null,
            "_view_module_version": "1.2.0",
            "_model_module": "@jupyter-widgets/controls"
          }
        },
        "09a96511659d4658b428f011ad5c8d91": {
          "model_module": "@jupyter-widgets/base",
          "model_name": "LayoutModel",
          "state": {
            "_view_name": "LayoutView",
            "grid_template_rows": null,
            "right": null,
            "justify_content": null,
            "_view_module": "@jupyter-widgets/base",
            "overflow": null,
            "_model_module_version": "1.2.0",
            "_view_count": null,
            "flex_flow": null,
            "width": null,
            "min_width": null,
            "border": null,
            "align_items": null,
            "bottom": null,
            "_model_module": "@jupyter-widgets/base",
            "top": null,
            "grid_column": null,
            "overflow_y": null,
            "overflow_x": null,
            "grid_auto_flow": null,
            "grid_area": null,
            "grid_template_columns": null,
            "flex": null,
            "_model_name": "LayoutModel",
            "justify_items": null,
            "grid_row": null,
            "max_height": null,
            "align_content": null,
            "visibility": null,
            "align_self": null,
            "height": null,
            "min_height": null,
            "padding": null,
            "grid_auto_rows": null,
            "grid_gap": null,
            "max_width": null,
            "order": null,
            "_view_module_version": "1.2.0",
            "grid_template_areas": null,
            "object_position": null,
            "object_fit": null,
            "grid_auto_columns": null,
            "margin": null,
            "display": null,
            "left": null
          }
        },
        "d8bd642b106649c6bce505a3b288d498": {
          "model_module": "@jupyter-widgets/controls",
          "model_name": "HBoxModel",
          "state": {
            "_view_name": "HBoxView",
            "_dom_classes": [],
            "_model_name": "HBoxModel",
            "_view_module": "@jupyter-widgets/controls",
            "_model_module_version": "1.5.0",
            "_view_count": null,
            "_view_module_version": "1.5.0",
            "box_style": "",
            "layout": "IPY_MODEL_dd4a2c052ca84cd1a08f9764b2e0f222",
            "_model_module": "@jupyter-widgets/controls",
            "children": [
              "IPY_MODEL_ba705813bea048819b6f4ae2bff5f6c0",
              "IPY_MODEL_3e9a9f147fd449ebbfa29a5791549543"
            ]
          }
        },
        "dd4a2c052ca84cd1a08f9764b2e0f222": {
          "model_module": "@jupyter-widgets/base",
          "model_name": "LayoutModel",
          "state": {
            "_view_name": "LayoutView",
            "grid_template_rows": null,
            "right": null,
            "justify_content": null,
            "_view_module": "@jupyter-widgets/base",
            "overflow": null,
            "_model_module_version": "1.2.0",
            "_view_count": null,
            "flex_flow": null,
            "width": null,
            "min_width": null,
            "border": null,
            "align_items": null,
            "bottom": null,
            "_model_module": "@jupyter-widgets/base",
            "top": null,
            "grid_column": null,
            "overflow_y": null,
            "overflow_x": null,
            "grid_auto_flow": null,
            "grid_area": null,
            "grid_template_columns": null,
            "flex": null,
            "_model_name": "LayoutModel",
            "justify_items": null,
            "grid_row": null,
            "max_height": null,
            "align_content": null,
            "visibility": null,
            "align_self": null,
            "height": null,
            "min_height": null,
            "padding": null,
            "grid_auto_rows": null,
            "grid_gap": null,
            "max_width": null,
            "order": null,
            "_view_module_version": "1.2.0",
            "grid_template_areas": null,
            "object_position": null,
            "object_fit": null,
            "grid_auto_columns": null,
            "margin": null,
            "display": null,
            "left": null
          }
        },
        "ba705813bea048819b6f4ae2bff5f6c0": {
          "model_module": "@jupyter-widgets/controls",
          "model_name": "FloatProgressModel",
          "state": {
            "_view_name": "ProgressView",
            "style": "IPY_MODEL_69c69977af38465b83e5b00f9b3cac09",
            "_dom_classes": [],
            "description": "Downloading: 100%",
            "_model_name": "FloatProgressModel",
            "bar_style": "success",
            "max": 109,
            "_view_module": "@jupyter-widgets/controls",
            "_model_module_version": "1.5.0",
            "value": 109,
            "_view_count": null,
            "_view_module_version": "1.5.0",
            "orientation": "horizontal",
            "min": 0,
            "description_tooltip": null,
            "_model_module": "@jupyter-widgets/controls",
            "layout": "IPY_MODEL_72275506c6bb4681a979fc38c1cfe2a9"
          }
        },
        "3e9a9f147fd449ebbfa29a5791549543": {
          "model_module": "@jupyter-widgets/controls",
          "model_name": "HTMLModel",
          "state": {
            "_view_name": "HTMLView",
            "style": "IPY_MODEL_bba54199a59246e4a8a2e7afdbf76c9c",
            "_dom_classes": [],
            "description": "",
            "_model_name": "HTMLModel",
            "placeholder": "​",
            "_view_module": "@jupyter-widgets/controls",
            "_model_module_version": "1.5.0",
            "value": " 109/109 [00:03&lt;00:00, 35.8B/s]",
            "_view_count": null,
            "_view_module_version": "1.5.0",
            "description_tooltip": null,
            "_model_module": "@jupyter-widgets/controls",
            "layout": "IPY_MODEL_f02abfc918e6418386311c9d77c7e2ff"
          }
        },
        "69c69977af38465b83e5b00f9b3cac09": {
          "model_module": "@jupyter-widgets/controls",
          "model_name": "ProgressStyleModel",
          "state": {
            "_view_name": "StyleView",
            "_model_name": "ProgressStyleModel",
            "description_width": "initial",
            "_view_module": "@jupyter-widgets/base",
            "_model_module_version": "1.5.0",
            "_view_count": null,
            "_view_module_version": "1.2.0",
            "bar_color": null,
            "_model_module": "@jupyter-widgets/controls"
          }
        },
        "72275506c6bb4681a979fc38c1cfe2a9": {
          "model_module": "@jupyter-widgets/base",
          "model_name": "LayoutModel",
          "state": {
            "_view_name": "LayoutView",
            "grid_template_rows": null,
            "right": null,
            "justify_content": null,
            "_view_module": "@jupyter-widgets/base",
            "overflow": null,
            "_model_module_version": "1.2.0",
            "_view_count": null,
            "flex_flow": null,
            "width": null,
            "min_width": null,
            "border": null,
            "align_items": null,
            "bottom": null,
            "_model_module": "@jupyter-widgets/base",
            "top": null,
            "grid_column": null,
            "overflow_y": null,
            "overflow_x": null,
            "grid_auto_flow": null,
            "grid_area": null,
            "grid_template_columns": null,
            "flex": null,
            "_model_name": "LayoutModel",
            "justify_items": null,
            "grid_row": null,
            "max_height": null,
            "align_content": null,
            "visibility": null,
            "align_self": null,
            "height": null,
            "min_height": null,
            "padding": null,
            "grid_auto_rows": null,
            "grid_gap": null,
            "max_width": null,
            "order": null,
            "_view_module_version": "1.2.0",
            "grid_template_areas": null,
            "object_position": null,
            "object_fit": null,
            "grid_auto_columns": null,
            "margin": null,
            "display": null,
            "left": null
          }
        },
        "bba54199a59246e4a8a2e7afdbf76c9c": {
          "model_module": "@jupyter-widgets/controls",
          "model_name": "DescriptionStyleModel",
          "state": {
            "_view_name": "StyleView",
            "_model_name": "DescriptionStyleModel",
            "description_width": "",
            "_view_module": "@jupyter-widgets/base",
            "_model_module_version": "1.5.0",
            "_view_count": null,
            "_view_module_version": "1.2.0",
            "_model_module": "@jupyter-widgets/controls"
          }
        },
        "f02abfc918e6418386311c9d77c7e2ff": {
          "model_module": "@jupyter-widgets/base",
          "model_name": "LayoutModel",
          "state": {
            "_view_name": "LayoutView",
            "grid_template_rows": null,
            "right": null,
            "justify_content": null,
            "_view_module": "@jupyter-widgets/base",
            "overflow": null,
            "_model_module_version": "1.2.0",
            "_view_count": null,
            "flex_flow": null,
            "width": null,
            "min_width": null,
            "border": null,
            "align_items": null,
            "bottom": null,
            "_model_module": "@jupyter-widgets/base",
            "top": null,
            "grid_column": null,
            "overflow_y": null,
            "overflow_x": null,
            "grid_auto_flow": null,
            "grid_area": null,
            "grid_template_columns": null,
            "flex": null,
            "_model_name": "LayoutModel",
            "justify_items": null,
            "grid_row": null,
            "max_height": null,
            "align_content": null,
            "visibility": null,
            "align_self": null,
            "height": null,
            "min_height": null,
            "padding": null,
            "grid_auto_rows": null,
            "grid_gap": null,
            "max_width": null,
            "order": null,
            "_view_module_version": "1.2.0",
            "grid_template_areas": null,
            "object_position": null,
            "object_fit": null,
            "grid_auto_columns": null,
            "margin": null,
            "display": null,
            "left": null
          }
        },
        "c0225f7af101431e9cb91a2989d57659": {
          "model_module": "@jupyter-widgets/controls",
          "model_name": "HBoxModel",
          "state": {
            "_view_name": "HBoxView",
            "_dom_classes": [],
            "_model_name": "HBoxModel",
            "_view_module": "@jupyter-widgets/controls",
            "_model_module_version": "1.5.0",
            "_view_count": null,
            "_view_module_version": "1.5.0",
            "box_style": "",
            "layout": "IPY_MODEL_dfc052b40ac6492997f2c6d1025cd30f",
            "_model_module": "@jupyter-widgets/controls",
            "children": [
              "IPY_MODEL_6b5d909049be441fa033f9e61e7dc5a8",
              "IPY_MODEL_1d8254df17564355a2417680aef2f74a"
            ]
          }
        },
        "dfc052b40ac6492997f2c6d1025cd30f": {
          "model_module": "@jupyter-widgets/base",
          "model_name": "LayoutModel",
          "state": {
            "_view_name": "LayoutView",
            "grid_template_rows": null,
            "right": null,
            "justify_content": null,
            "_view_module": "@jupyter-widgets/base",
            "overflow": null,
            "_model_module_version": "1.2.0",
            "_view_count": null,
            "flex_flow": null,
            "width": null,
            "min_width": null,
            "border": null,
            "align_items": null,
            "bottom": null,
            "_model_module": "@jupyter-widgets/base",
            "top": null,
            "grid_column": null,
            "overflow_y": null,
            "overflow_x": null,
            "grid_auto_flow": null,
            "grid_area": null,
            "grid_template_columns": null,
            "flex": null,
            "_model_name": "LayoutModel",
            "justify_items": null,
            "grid_row": null,
            "max_height": null,
            "align_content": null,
            "visibility": null,
            "align_self": null,
            "height": null,
            "min_height": null,
            "padding": null,
            "grid_auto_rows": null,
            "grid_gap": null,
            "max_width": null,
            "order": null,
            "_view_module_version": "1.2.0",
            "grid_template_areas": null,
            "object_position": null,
            "object_fit": null,
            "grid_auto_columns": null,
            "margin": null,
            "display": null,
            "left": null
          }
        },
        "6b5d909049be441fa033f9e61e7dc5a8": {
          "model_module": "@jupyter-widgets/controls",
          "model_name": "FloatProgressModel",
          "state": {
            "_view_name": "ProgressView",
            "style": "IPY_MODEL_1f3d9f3ef564480e8251ba7d0e369a21",
            "_dom_classes": [],
            "description": "Downloading: 100%",
            "_model_name": "FloatProgressModel",
            "bar_style": "success",
            "max": 682149,
            "_view_module": "@jupyter-widgets/controls",
            "_model_module_version": "1.5.0",
            "value": 682149,
            "_view_count": null,
            "_view_module_version": "1.5.0",
            "orientation": "horizontal",
            "min": 0,
            "description_tooltip": null,
            "_model_module": "@jupyter-widgets/controls",
            "layout": "IPY_MODEL_a8c0563de791417d818db8c3bec2bdc6"
          }
        },
        "1d8254df17564355a2417680aef2f74a": {
          "model_module": "@jupyter-widgets/controls",
          "model_name": "HTMLModel",
          "state": {
            "_view_name": "HTMLView",
            "style": "IPY_MODEL_7e87fc3807034b80929246dcc9e4818d",
            "_dom_classes": [],
            "description": "",
            "_model_name": "HTMLModel",
            "placeholder": "​",
            "_view_module": "@jupyter-widgets/controls",
            "_model_module_version": "1.5.0",
            "value": " 682k/682k [00:01&lt;00:00, 528kB/s]",
            "_view_count": null,
            "_view_module_version": "1.5.0",
            "description_tooltip": null,
            "_model_module": "@jupyter-widgets/controls",
            "layout": "IPY_MODEL_513cc1aaebb0468e8f74967ef4503dd7"
          }
        },
        "1f3d9f3ef564480e8251ba7d0e369a21": {
          "model_module": "@jupyter-widgets/controls",
          "model_name": "ProgressStyleModel",
          "state": {
            "_view_name": "StyleView",
            "_model_name": "ProgressStyleModel",
            "description_width": "initial",
            "_view_module": "@jupyter-widgets/base",
            "_model_module_version": "1.5.0",
            "_view_count": null,
            "_view_module_version": "1.2.0",
            "bar_color": null,
            "_model_module": "@jupyter-widgets/controls"
          }
        },
        "a8c0563de791417d818db8c3bec2bdc6": {
          "model_module": "@jupyter-widgets/base",
          "model_name": "LayoutModel",
          "state": {
            "_view_name": "LayoutView",
            "grid_template_rows": null,
            "right": null,
            "justify_content": null,
            "_view_module": "@jupyter-widgets/base",
            "overflow": null,
            "_model_module_version": "1.2.0",
            "_view_count": null,
            "flex_flow": null,
            "width": null,
            "min_width": null,
            "border": null,
            "align_items": null,
            "bottom": null,
            "_model_module": "@jupyter-widgets/base",
            "top": null,
            "grid_column": null,
            "overflow_y": null,
            "overflow_x": null,
            "grid_auto_flow": null,
            "grid_area": null,
            "grid_template_columns": null,
            "flex": null,
            "_model_name": "LayoutModel",
            "justify_items": null,
            "grid_row": null,
            "max_height": null,
            "align_content": null,
            "visibility": null,
            "align_self": null,
            "height": null,
            "min_height": null,
            "padding": null,
            "grid_auto_rows": null,
            "grid_gap": null,
            "max_width": null,
            "order": null,
            "_view_module_version": "1.2.0",
            "grid_template_areas": null,
            "object_position": null,
            "object_fit": null,
            "grid_auto_columns": null,
            "margin": null,
            "display": null,
            "left": null
          }
        },
        "7e87fc3807034b80929246dcc9e4818d": {
          "model_module": "@jupyter-widgets/controls",
          "model_name": "DescriptionStyleModel",
          "state": {
            "_view_name": "StyleView",
            "_model_name": "DescriptionStyleModel",
            "description_width": "",
            "_view_module": "@jupyter-widgets/base",
            "_model_module_version": "1.5.0",
            "_view_count": null,
            "_view_module_version": "1.2.0",
            "_model_module": "@jupyter-widgets/controls"
          }
        },
        "513cc1aaebb0468e8f74967ef4503dd7": {
          "model_module": "@jupyter-widgets/base",
          "model_name": "LayoutModel",
          "state": {
            "_view_name": "LayoutView",
            "grid_template_rows": null,
            "right": null,
            "justify_content": null,
            "_view_module": "@jupyter-widgets/base",
            "overflow": null,
            "_model_module_version": "1.2.0",
            "_view_count": null,
            "flex_flow": null,
            "width": null,
            "min_width": null,
            "border": null,
            "align_items": null,
            "bottom": null,
            "_model_module": "@jupyter-widgets/base",
            "top": null,
            "grid_column": null,
            "overflow_y": null,
            "overflow_x": null,
            "grid_auto_flow": null,
            "grid_area": null,
            "grid_template_columns": null,
            "flex": null,
            "_model_name": "LayoutModel",
            "justify_items": null,
            "grid_row": null,
            "max_height": null,
            "align_content": null,
            "visibility": null,
            "align_self": null,
            "height": null,
            "min_height": null,
            "padding": null,
            "grid_auto_rows": null,
            "grid_gap": null,
            "max_width": null,
            "order": null,
            "_view_module_version": "1.2.0",
            "grid_template_areas": null,
            "object_position": null,
            "object_fit": null,
            "grid_auto_columns": null,
            "margin": null,
            "display": null,
            "left": null
          }
        }
      }
    }
  },
  "cells": [
    {
      "cell_type": "markdown",
      "metadata": {
        "id": "z14CFsWi-qsH"
      },
      "source": [
        "카카오브레인이 개발해서 공개한 BrainBERT을 활용하여 여러 자연어 Task를 해결할 수 있는 오픈 라이브러리 pororo를 사용해 보겠습니다."
      ]
    },
    {
      "cell_type": "markdown",
      "metadata": {
        "id": "aERwPG-D-myf"
      },
      "source": [
        "# PORORO: Platform Of neuRal mOdels for natuRal language prOcessing"
      ]
    },
    {
      "cell_type": "markdown",
      "metadata": {
        "id": "TpbwFh3A-3Gt"
      },
      "source": [
        "라이브러리를 설치하겠습니다."
      ]
    },
    {
      "cell_type": "code",
      "metadata": {
        "colab": {
          "base_uri": "https://localhost:8080/",
          "height": 1000
        },
        "id": "J7Fo8E9dpQS_",
        "outputId": "6ae9b635-81aa-4693-ab85-f321db1b5f64"
      },
      "source": [
        "pip install pororo"
      ],
      "execution_count": 1,
      "outputs": [
        {
          "output_type": "stream",
          "text": [
            "Collecting pororo\n",
            "  Downloading pororo-0.4.2-py3-none-any.whl (256 kB)\n",
            "\u001b[K     |████████████████████████████████| 256 kB 9.0 MB/s \n",
            "\u001b[?25hCollecting torch==1.6.0\n",
            "  Downloading torch-1.6.0-cp37-cp37m-manylinux1_x86_64.whl (748.8 MB)\n",
            "\u001b[K     |████████████████████████████████| 748.8 MB 18 kB/s \n",
            "\u001b[?25hCollecting sentence-transformers>=0.4.1.2\n",
            "  Downloading sentence-transformers-2.0.0.tar.gz (85 kB)\n",
            "\u001b[K     |████████████████████████████████| 85 kB 3.7 MB/s \n",
            "\u001b[?25hRequirement already satisfied: joblib in /usr/local/lib/python3.7/dist-packages (from pororo) (1.0.1)\n",
            "Collecting nltk>=3.5\n",
            "  Downloading nltk-3.6.2-py3-none-any.whl (1.5 MB)\n",
            "\u001b[K     |████████████████████████████████| 1.5 MB 35.8 MB/s \n",
            "\u001b[?25hCollecting wget\n",
            "  Downloading wget-3.2.zip (10 kB)\n",
            "Requirement already satisfied: lxml in /usr/local/lib/python3.7/dist-packages (from pororo) (4.2.6)\n",
            "Collecting whoosh\n",
            "  Downloading Whoosh-2.7.4-py2.py3-none-any.whl (468 kB)\n",
            "\u001b[K     |████████████████████████████████| 468 kB 40.1 MB/s \n",
            "\u001b[?25hCollecting transformers>=4.0.0\n",
            "  Downloading transformers-4.8.2-py3-none-any.whl (2.5 MB)\n",
            "\u001b[K     |████████████████████████████████| 2.5 MB 22.9 MB/s \n",
            "\u001b[?25hCollecting g2p-en\n",
            "  Downloading g2p_en-2.1.0-py3-none-any.whl (3.1 MB)\n",
            "\u001b[K     |████████████████████████████████| 3.1 MB 36.1 MB/s \n",
            "\u001b[?25hCollecting torchvision==0.7.0\n",
            "  Downloading torchvision-0.7.0-cp37-cp37m-manylinux1_x86_64.whl (5.9 MB)\n",
            "\u001b[K     |████████████████████████████████| 5.9 MB 10.9 MB/s \n",
            "\u001b[?25hRequirement already satisfied: pillow>=4.1.1 in /usr/local/lib/python3.7/dist-packages (from pororo) (7.1.2)\n",
            "Collecting word2word\n",
            "  Downloading word2word-1.0.0-py3-none-any.whl (31 kB)\n",
            "Collecting kss\n",
            "  Downloading kss-2.5.1-py3-none-any.whl (65 kB)\n",
            "\u001b[K     |████████████████████████████████| 65 kB 4.2 MB/s \n",
            "\u001b[?25hCollecting fairseq>=0.10.2\n",
            "  Downloading fairseq-0.10.2-cp37-cp37m-manylinux1_x86_64.whl (1.7 MB)\n",
            "\u001b[K     |████████████████████████████████| 1.7 MB 45.5 MB/s \n",
            "\u001b[?25hCollecting marisa-trie\n",
            "  Downloading marisa-trie-0.7.5.tar.gz (270 kB)\n",
            "\u001b[K     |████████████████████████████████| 270 kB 77.0 MB/s \n",
            "\u001b[?25hRequirement already satisfied: numpy in /usr/local/lib/python3.7/dist-packages (from torch==1.6.0->pororo) (1.19.5)\n",
            "Requirement already satisfied: future in /usr/local/lib/python3.7/dist-packages (from torch==1.6.0->pororo) (0.16.0)\n",
            "Collecting sacrebleu>=1.4.12\n",
            "  Downloading sacrebleu-1.5.1-py3-none-any.whl (54 kB)\n",
            "\u001b[K     |████████████████████████████████| 54 kB 3.6 MB/s \n",
            "\u001b[?25hRequirement already satisfied: regex in /usr/local/lib/python3.7/dist-packages (from fairseq>=0.10.2->pororo) (2019.12.20)\n",
            "Collecting hydra-core\n",
            "  Downloading hydra_core-1.1.0-py3-none-any.whl (144 kB)\n",
            "\u001b[K     |████████████████████████████████| 144 kB 72.3 MB/s \n",
            "\u001b[?25hCollecting dataclasses\n",
            "  Downloading dataclasses-0.6-py3-none-any.whl (14 kB)\n",
            "Requirement already satisfied: tqdm in /usr/local/lib/python3.7/dist-packages (from fairseq>=0.10.2->pororo) (4.41.1)\n",
            "Requirement already satisfied: cython in /usr/local/lib/python3.7/dist-packages (from fairseq>=0.10.2->pororo) (0.29.23)\n",
            "Requirement already satisfied: cffi in /usr/local/lib/python3.7/dist-packages (from fairseq>=0.10.2->pororo) (1.14.6)\n",
            "Requirement already satisfied: click in /usr/local/lib/python3.7/dist-packages (from nltk>=3.5->pororo) (7.1.2)\n",
            "Collecting portalocker==2.0.0\n",
            "  Downloading portalocker-2.0.0-py2.py3-none-any.whl (11 kB)\n",
            "Requirement already satisfied: scikit-learn in /usr/local/lib/python3.7/dist-packages (from sentence-transformers>=0.4.1.2->pororo) (0.22.2.post1)\n",
            "Requirement already satisfied: scipy in /usr/local/lib/python3.7/dist-packages (from sentence-transformers>=0.4.1.2->pororo) (1.4.1)\n",
            "Collecting sentencepiece\n",
            "  Downloading sentencepiece-0.1.96-cp37-cp37m-manylinux_2_17_x86_64.manylinux2014_x86_64.whl (1.2 MB)\n",
            "\u001b[K     |████████████████████████████████| 1.2 MB 70.1 MB/s \n",
            "\u001b[?25hCollecting huggingface-hub\n",
            "  Downloading huggingface_hub-0.0.14-py3-none-any.whl (43 kB)\n",
            "\u001b[K     |████████████████████████████████| 43 kB 1.9 MB/s \n",
            "\u001b[?25hRequirement already satisfied: packaging in /usr/local/lib/python3.7/dist-packages (from transformers>=4.0.0->pororo) (21.0)\n",
            "Requirement already satisfied: filelock in /usr/local/lib/python3.7/dist-packages (from transformers>=4.0.0->pororo) (3.0.12)\n",
            "Requirement already satisfied: requests in /usr/local/lib/python3.7/dist-packages (from transformers>=4.0.0->pororo) (2.23.0)\n",
            "Requirement already satisfied: pyyaml in /usr/local/lib/python3.7/dist-packages (from transformers>=4.0.0->pororo) (3.13)\n",
            "  Downloading huggingface_hub-0.0.12-py3-none-any.whl (37 kB)\n",
            "Requirement already satisfied: importlib-metadata in /usr/local/lib/python3.7/dist-packages (from transformers>=4.0.0->pororo) (4.6.1)\n",
            "Collecting tokenizers<0.11,>=0.10.1\n",
            "  Downloading tokenizers-0.10.3-cp37-cp37m-manylinux_2_5_x86_64.manylinux1_x86_64.manylinux_2_12_x86_64.manylinux2010_x86_64.whl (3.3 MB)\n",
            "\u001b[K     |████████████████████████████████| 3.3 MB 46.8 MB/s \n",
            "\u001b[?25hCollecting sacremoses\n",
            "  Downloading sacremoses-0.0.45-py3-none-any.whl (895 kB)\n",
            "\u001b[K     |████████████████████████████████| 895 kB 75.0 MB/s \n",
            "\u001b[?25hRequirement already satisfied: typing-extensions in /usr/local/lib/python3.7/dist-packages (from huggingface-hub->sentence-transformers>=0.4.1.2->pororo) (3.7.4.3)\n",
            "Requirement already satisfied: pyparsing>=2.0.2 in /usr/local/lib/python3.7/dist-packages (from packaging->transformers>=4.0.0->pororo) (2.4.7)\n",
            "Requirement already satisfied: pycparser in /usr/local/lib/python3.7/dist-packages (from cffi->fairseq>=0.10.2->pororo) (2.20)\n",
            "Collecting distance>=0.1.3\n",
            "  Downloading Distance-0.1.3.tar.gz (180 kB)\n",
            "\u001b[K     |████████████████████████████████| 180 kB 80.9 MB/s \n",
            "\u001b[?25hRequirement already satisfied: inflect>=0.3.1 in /usr/local/lib/python3.7/dist-packages (from g2p-en->pororo) (2.1.0)\n",
            "Collecting omegaconf==2.1.*\n",
            "  Downloading omegaconf-2.1.0-py3-none-any.whl (74 kB)\n",
            "\u001b[K     |████████████████████████████████| 74 kB 3.5 MB/s \n",
            "\u001b[?25hCollecting antlr4-python3-runtime==4.8\n",
            "  Downloading antlr4-python3-runtime-4.8.tar.gz (112 kB)\n",
            "\u001b[K     |████████████████████████████████| 112 kB 59.8 MB/s \n",
            "\u001b[?25hRequirement already satisfied: importlib-resources in /usr/local/lib/python3.7/dist-packages (from hydra-core->fairseq>=0.10.2->pororo) (5.2.0)\n",
            "Collecting pyyaml\n",
            "  Downloading PyYAML-5.4.1-cp37-cp37m-manylinux1_x86_64.whl (636 kB)\n",
            "\u001b[K     |████████████████████████████████| 636 kB 60.5 MB/s \n",
            "\u001b[?25hRequirement already satisfied: zipp>=0.5 in /usr/local/lib/python3.7/dist-packages (from importlib-metadata->transformers>=4.0.0->pororo) (3.5.0)\n",
            "Requirement already satisfied: certifi>=2017.4.17 in /usr/local/lib/python3.7/dist-packages (from requests->transformers>=4.0.0->pororo) (2021.5.30)\n",
            "Requirement already satisfied: chardet<4,>=3.0.2 in /usr/local/lib/python3.7/dist-packages (from requests->transformers>=4.0.0->pororo) (3.0.4)\n",
            "Requirement already satisfied: idna<3,>=2.5 in /usr/local/lib/python3.7/dist-packages (from requests->transformers>=4.0.0->pororo) (2.10)\n",
            "Requirement already satisfied: urllib3!=1.25.0,!=1.25.1,<1.26,>=1.21.1 in /usr/local/lib/python3.7/dist-packages (from requests->transformers>=4.0.0->pororo) (1.24.3)\n",
            "Requirement already satisfied: six in /usr/local/lib/python3.7/dist-packages (from sacremoses->transformers>=4.0.0->pororo) (1.15.0)\n",
            "Building wheels for collected packages: sentence-transformers, distance, antlr4-python3-runtime, marisa-trie, wget\n",
            "  Building wheel for sentence-transformers (setup.py) ... \u001b[?25l\u001b[?25hdone\n",
            "  Created wheel for sentence-transformers: filename=sentence_transformers-2.0.0-py3-none-any.whl size=126709 sha256=f83e4fe360e54854638b800db4f6e9fa137ea0d7f7df2770e3abcc53491da210\n",
            "  Stored in directory: /root/.cache/pip/wheels/d1/c1/0f/faafd427f705c4b012274ba60d9a91d75830306811e1355293\n",
            "  Building wheel for distance (setup.py) ... \u001b[?25l\u001b[?25hdone\n",
            "  Created wheel for distance: filename=Distance-0.1.3-py3-none-any.whl size=16275 sha256=c3f71e2bdac2b6cf526605f271d158ef07ae45563e1e2abf10b344267d2428a3\n",
            "  Stored in directory: /root/.cache/pip/wheels/b2/10/1b/96fca621a1be378e2fe104cfb0d160bb6cdf3d04a3d35266cc\n",
            "  Building wheel for antlr4-python3-runtime (setup.py) ... \u001b[?25l\u001b[?25hdone\n",
            "  Created wheel for antlr4-python3-runtime: filename=antlr4_python3_runtime-4.8-py3-none-any.whl size=141229 sha256=985dfb612bc41d5c6a95cce50562b687e8ad61a58f1f885d0bdcfba45368bbec\n",
            "  Stored in directory: /root/.cache/pip/wheels/ca/33/b7/336836125fc9bb4ceaa4376d8abca10ca8bc84ddc824baea6c\n",
            "  Building wheel for marisa-trie (setup.py) ... \u001b[?25l\u001b[?25hdone\n",
            "  Created wheel for marisa-trie: filename=marisa_trie-0.7.5-cp37-cp37m-linux_x86_64.whl size=860691 sha256=f9c6d2ddddb2ef075e10697c128baa9e68cfd142e4bee60ba57b8bc8394c8b82\n",
            "  Stored in directory: /root/.cache/pip/wheels/01/ac/46/c838fd1aee138a8fd92ae30b04020995182eb4d99dec1e12ea\n",
            "  Building wheel for wget (setup.py) ... \u001b[?25l\u001b[?25hdone\n",
            "  Created wheel for wget: filename=wget-3.2-py3-none-any.whl size=9673 sha256=fe9a70fbe1914cec823616b6e1abb8742849eb1a402fc928832ae09c0fc0ab27\n",
            "  Stored in directory: /root/.cache/pip/wheels/a1/b6/7c/0e63e34eb06634181c63adacca38b79ff8f35c37e3c13e3c02\n",
            "Successfully built sentence-transformers distance antlr4-python3-runtime marisa-trie wget\n",
            "Installing collected packages: pyyaml, antlr4-python3-runtime, torch, tokenizers, sacremoses, portalocker, omegaconf, huggingface-hub, wget, transformers, torchvision, sentencepiece, sacrebleu, nltk, hydra-core, distance, dataclasses, word2word, whoosh, sentence-transformers, marisa-trie, kss, g2p-en, fairseq, pororo\n",
            "  Attempting uninstall: pyyaml\n",
            "    Found existing installation: PyYAML 3.13\n",
            "    Uninstalling PyYAML-3.13:\n",
            "      Successfully uninstalled PyYAML-3.13\n",
            "  Attempting uninstall: torch\n",
            "    Found existing installation: torch 1.9.0+cu102\n",
            "    Uninstalling torch-1.9.0+cu102:\n",
            "      Successfully uninstalled torch-1.9.0+cu102\n",
            "  Attempting uninstall: torchvision\n",
            "    Found existing installation: torchvision 0.10.0+cu102\n",
            "    Uninstalling torchvision-0.10.0+cu102:\n",
            "      Successfully uninstalled torchvision-0.10.0+cu102\n",
            "  Attempting uninstall: nltk\n",
            "    Found existing installation: nltk 3.2.5\n",
            "    Uninstalling nltk-3.2.5:\n",
            "      Successfully uninstalled nltk-3.2.5\n",
            "\u001b[31mERROR: pip's dependency resolver does not currently take into account all the packages that are installed. This behaviour is the source of the following dependency conflicts.\n",
            "torchtext 0.10.0 requires torch==1.9.0, but you have torch 1.6.0 which is incompatible.\u001b[0m\n",
            "Successfully installed antlr4-python3-runtime-4.8 dataclasses-0.6 distance-0.1.3 fairseq-0.10.2 g2p-en-2.1.0 huggingface-hub-0.0.12 hydra-core-1.1.0 kss-2.5.1 marisa-trie-0.7.5 nltk-3.6.2 omegaconf-2.1.0 pororo-0.4.2 portalocker-2.0.0 pyyaml-5.4.1 sacrebleu-1.5.1 sacremoses-0.0.45 sentence-transformers-2.0.0 sentencepiece-0.1.96 tokenizers-0.10.3 torch-1.6.0 torchvision-0.7.0 transformers-4.8.2 wget-3.2 whoosh-2.7.4 word2word-1.0.0\n"
          ],
          "name": "stdout"
        },
        {
          "output_type": "display_data",
          "data": {
            "application/vnd.colab-display-data+json": {
              "pip_warning": {
                "packages": [
                  "pydevd_plugins"
                ]
              }
            }
          },
          "metadata": {
            "tags": []
          }
        }
      ]
    },
    {
      "cell_type": "markdown",
      "metadata": {
        "id": "O2cte2SC-4yY"
      },
      "source": [
        "형태소 분석기로는 mecab를 씁니다. 다만 라이브러리와 사용환경에 문제가 많아서 colabd에서 하시는 편이 좋습니다. 윈도우나 맥, 리눅스 환경에서는 충돌이 날 가능성이 큽니다."
      ]
    },
    {
      "cell_type": "code",
      "metadata": {
        "colab": {
          "base_uri": "https://localhost:8080/"
        },
        "id": "7VD0ahVLprXF",
        "outputId": "7cc5922f-1d84-4f73-e65b-8bfab94d82a8"
      },
      "source": [
        "pip install python-mecab-ko"
      ],
      "execution_count": 2,
      "outputs": [
        {
          "output_type": "stream",
          "text": [
            "Collecting python-mecab-ko\n",
            "  Downloading python-mecab-ko-1.0.11.tar.gz (8.9 kB)\n",
            "Collecting pybind11~=2.0\n",
            "  Downloading pybind11-2.7.0-py2.py3-none-any.whl (199 kB)\n",
            "\u001b[K     |████████████████████████████████| 199 kB 8.9 MB/s \n",
            "\u001b[?25hBuilding wheels for collected packages: python-mecab-ko\n",
            "  Building wheel for python-mecab-ko (setup.py) ... \u001b[?25lerror\n",
            "\u001b[31m  ERROR: Failed building wheel for python-mecab-ko\u001b[0m\n",
            "\u001b[?25h  Running setup.py clean for python-mecab-ko\n",
            "Failed to build python-mecab-ko\n",
            "Installing collected packages: pybind11, python-mecab-ko\n",
            "    Running setup.py install for python-mecab-ko ... \u001b[?25l\u001b[?25hdone\n",
            "\u001b[33m  DEPRECATION: python-mecab-ko was installed using the legacy 'setup.py install' method, because a wheel could not be built for it. A possible replacement is to fix the wheel build issue reported above. You can find discussion regarding this at https://github.com/pypa/pip/issues/8368.\u001b[0m\n",
            "Successfully installed pybind11-2.7.0 python-mecab-ko-1.0.11\n"
          ],
          "name": "stdout"
        }
      ]
    },
    {
      "cell_type": "markdown",
      "metadata": {
        "id": "awhjJoy9APTh"
      },
      "source": [
        "이제 라이브러리를 불러와서 실행해 보겠습니다!"
      ]
    },
    {
      "cell_type": "code",
      "metadata": {
        "id": "vzUtNl25pMsx"
      },
      "source": [
        "from pororo import Pororo"
      ],
      "execution_count": 3,
      "outputs": []
    },
    {
      "cell_type": "markdown",
      "metadata": {
        "id": "goZ4CsASBJbq"
      },
      "source": [
        "Pororo에서 해결 가능한 문제들은 다음과 같이 불러볼 수 있습니다.   \n",
        "전체 문서는 다음 링크에서 확인하실 수 있습니다.\n",
        "\n",
        "- 문서 : https://kakaobrain.github.io/pororo/\n",
        "- 예제들 : https://github.com/kakaobrain/pororo/tree/master/examples"
      ]
    },
    {
      "cell_type": "code",
      "metadata": {
        "colab": {
          "base_uri": "https://localhost:8080/",
          "height": 154
        },
        "id": "442MRAY-Azcq",
        "outputId": "c4e33dd2-59db-46e9-fa7a-943b3eeb182c"
      },
      "source": [
        "Pororo.available_tasks()"
      ],
      "execution_count": 4,
      "outputs": [
        {
          "output_type": "execute_result",
          "data": {
            "application/vnd.google.colaboratory.intrinsic+json": {
              "type": "string"
            },
            "text/plain": [
              "\"Available tasks are ['mrc', 'rc', 'qa', 'question_answering', 'machine_reading_comprehension', 'reading_comprehension', 'sentiment', 'sentiment_analysis', 'nli', 'natural_language_inference', 'inference', 'fill', 'fill_in_blank', 'fib', 'para', 'pi', 'cse', 'contextual_subword_embedding', 'similarity', 'sts', 'semantic_textual_similarity', 'sentence_similarity', 'sentvec', 'sentence_embedding', 'sentence_vector', 'se', 'inflection', 'morphological_inflection', 'g2p', 'grapheme_to_phoneme', 'grapheme_to_phoneme_conversion', 'w2v', 'wordvec', 'word2vec', 'word_vector', 'word_embedding', 'tokenize', 'tokenise', 'tokenization', 'tokenisation', 'tok', 'segmentation', 'seg', 'mt', 'machine_translation', 'translation', 'pos', 'tag', 'pos_tagging', 'tagging', 'const', 'constituency', 'constituency_parsing', 'cp', 'pg', 'collocation', 'collocate', 'col', 'word_translation', 'wt', 'summarization', 'summarisation', 'text_summarization', 'text_summarisation', 'summary', 'gec', 'review', 'review_scoring', 'lemmatization', 'lemmatisation', 'lemma', 'ner', 'named_entity_recognition', 'entity_recognition', 'zero-topic', 'dp', 'dep_parse', 'caption', 'captioning', 'asr', 'speech_recognition', 'st', 'speech_translation', 'tts', 'text_to_speech', 'speech_synthesis', 'ocr', 'srl', 'semantic_role_labeling', 'p2g', 'aes', 'essay', 'qg', 'question_generation', 'age_suitability', 'wsd']\""
            ]
          },
          "metadata": {
            "tags": []
          },
          "execution_count": 4
        }
      ]
    },
    {
      "cell_type": "markdown",
      "metadata": {
        "id": "w9QyswHBBLdf"
      },
      "source": [
        "간단하게 해보죠!\n",
        "\n",
        "seq2seq를 이용한 질문 생성 모델입니다.\n",
        "\n",
        "https://kakaobrain.github.io/pororo/seq2seq/qg.html"
      ]
    },
    {
      "cell_type": "code",
      "metadata": {
        "colab": {
          "base_uri": "https://localhost:8080/",
          "height": 347,
          "referenced_widgets": [
            "12849f8fd1ca47e3a5e5a4e8bfc46bd9",
            "7c8f9bdad12a4c14a44eebc5d4bbcdf7",
            "a44b57ce6a2145ab8bc3982b67871497",
            "8277ac7423c94eaaa9d8e07dc7d9f030",
            "1e9930f89da645af840e16f7658d0157",
            "8b969e846817475bb2aa64cf52fd32a8",
            "b1646fabdcfb46a2bc36f791c70d5ae1",
            "aaf48050aaa34fd79cfc337890d27079",
            "b31d7303ebf74c74ba7607449c8e8546",
            "55452547ccd04a61a4afb4aad31813d1",
            "d8f94f14fc6b4e5e9dbe3c0c6f4a3c00",
            "1409cc86ebc545e38343b1cf34384721",
            "96bb69117cf64f31858bcfcb097217f2",
            "a2024a4a29d2494c90e9cae2525eccbf",
            "3c4ee4497a864a61a4414b1af1fce5bc",
            "5572f698dece46cd86253e35cc6dcd38",
            "83130146a5ec46d4958a7c0be441e879",
            "e4a6f2db41e84c19b00b673f8ad84294",
            "26dd84fe225744ffac07ac52741f8d34",
            "5979f81a328d48fcaf64e8bb334b635a",
            "a820eb849a67437e96e2e4441275c962",
            "c0a4783f49b3471f9d97067d28442c65",
            "fe487911e1074e01b6ea6bb6756fb8b1",
            "09a96511659d4658b428f011ad5c8d91",
            "d8bd642b106649c6bce505a3b288d498",
            "dd4a2c052ca84cd1a08f9764b2e0f222",
            "ba705813bea048819b6f4ae2bff5f6c0",
            "3e9a9f147fd449ebbfa29a5791549543",
            "69c69977af38465b83e5b00f9b3cac09",
            "72275506c6bb4681a979fc38c1cfe2a9",
            "bba54199a59246e4a8a2e7afdbf76c9c",
            "f02abfc918e6418386311c9d77c7e2ff",
            "c0225f7af101431e9cb91a2989d57659",
            "dfc052b40ac6492997f2c6d1025cd30f",
            "6b5d909049be441fa033f9e61e7dc5a8",
            "1d8254df17564355a2417680aef2f74a",
            "1f3d9f3ef564480e8251ba7d0e369a21",
            "a8c0563de791417d818db8c3bec2bdc6",
            "7e87fc3807034b80929246dcc9e4818d",
            "513cc1aaebb0468e8f74967ef4503dd7"
          ]
        },
        "id": "QxYyT0kjgGkS",
        "outputId": "f1b4a5e0-c1f8-4467-d3b2-675b8d40fcd9"
      },
      "source": [
        "qg = Pororo(task=\"qg\", lang=\"ko\")\n",
        "qg(\n",
        "    \"카카오톡\",\n",
        "    \"카카오톡은 스마트폰의 데이터 통신 기능을 이용하여, 문자 과금 없이 사람들과 메시지를 주고받을 수 있는 애플리케이션이다. 스마트폰 대중화 이 후 기존 인스턴트 메신저 앱의 번거로운 친구 추가 절차 없이, 스마트폰 주소록의 전 화번호만으로 손쉽게 메시지를 주고받을 수 있는 것이 특징이다.\",\n",
        "    n_wrong=3\n",
        ")"
      ],
      "execution_count": 3,
      "outputs": [
        {
          "output_type": "stream",
          "text": [
            "\n",
            "\n",
            "\n"
          ],
          "name": "stderr"
        },
        {
          "output_type": "display_data",
          "data": {
            "application/vnd.jupyter.widget-view+json": {
              "model_id": "12849f8fd1ca47e3a5e5a4e8bfc46bd9",
              "version_minor": 0,
              "version_major": 2
            },
            "text/plain": [
              "HBox(children=(FloatProgress(value=0.0, description='Downloading', max=1110.0, style=ProgressStyle(description…"
            ]
          },
          "metadata": {
            "tags": []
          }
        },
        {
          "output_type": "stream",
          "text": [
            "\n"
          ],
          "name": "stdout"
        },
        {
          "output_type": "display_data",
          "data": {
            "application/vnd.jupyter.widget-view+json": {
              "model_id": "b31d7303ebf74c74ba7607449c8e8546",
              "version_minor": 0,
              "version_major": 2
            },
            "text/plain": [
              "HBox(children=(FloatProgress(value=0.0, description='Downloading', max=2.0, style=ProgressStyle(description_wi…"
            ]
          },
          "metadata": {
            "tags": []
          }
        },
        {
          "output_type": "stream",
          "text": [
            "\n"
          ],
          "name": "stdout"
        },
        {
          "output_type": "display_data",
          "data": {
            "application/vnd.jupyter.widget-view+json": {
              "model_id": "83130146a5ec46d4958a7c0be441e879",
              "version_minor": 0,
              "version_major": 2
            },
            "text/plain": [
              "HBox(children=(FloatProgress(value=0.0, description='Downloading', max=85.0, style=ProgressStyle(description_w…"
            ]
          },
          "metadata": {
            "tags": []
          }
        },
        {
          "output_type": "stream",
          "text": [
            "\n"
          ],
          "name": "stdout"
        },
        {
          "output_type": "display_data",
          "data": {
            "application/vnd.jupyter.widget-view+json": {
              "model_id": "d8bd642b106649c6bce505a3b288d498",
              "version_minor": 0,
              "version_major": 2
            },
            "text/plain": [
              "HBox(children=(FloatProgress(value=0.0, description='Downloading', max=109.0, style=ProgressStyle(description_…"
            ]
          },
          "metadata": {
            "tags": []
          }
        },
        {
          "output_type": "stream",
          "text": [
            "\n"
          ],
          "name": "stdout"
        },
        {
          "output_type": "display_data",
          "data": {
            "application/vnd.jupyter.widget-view+json": {
              "model_id": "c0225f7af101431e9cb91a2989d57659",
              "version_minor": 0,
              "version_major": 2
            },
            "text/plain": [
              "HBox(children=(FloatProgress(value=0.0, description='Downloading', max=682149.0, style=ProgressStyle(descripti…"
            ]
          },
          "metadata": {
            "tags": []
          }
        },
        {
          "output_type": "stream",
          "text": [
            "\n"
          ],
          "name": "stdout"
        },
        {
          "output_type": "execute_result",
          "data": {
            "text/plain": [
              "('스마트폰의 데이터 통신 기능을 이용하여, 문자 과금 없이 사람들과 메시지를 주고받을 수 있는 애플리케이션 이름은?',\n",
              " ['텔레그램', '챗온', '디스코드'])"
            ]
          },
          "metadata": {
            "tags": []
          },
          "execution_count": 3
        }
      ]
    },
    {
      "cell_type": "markdown",
      "metadata": {
        "id": "k1BS5bStBSKn"
      },
      "source": [
        "구문을 비슷하게 생성해 보죠.\n",
        "\n",
        "https://kakaobrain.github.io/pororo/seq2seq/para_gen.html"
      ]
    },
    {
      "cell_type": "code",
      "metadata": {
        "colab": {
          "base_uri": "https://localhost:8080/",
          "height": 86
        },
        "id": "MEwrxOFqpG3_",
        "outputId": "457c67f1-19d0-47bb-df00-abc9b4db1db5"
      },
      "source": [
        "pg = Pororo(task=\"pg\", lang=\"ko\")\n",
        "pg(\"노는게 제일 좋아. 친구들 모여라. 언제나 즐거워.\")"
      ],
      "execution_count": 4,
      "outputs": [
        {
          "output_type": "stream",
          "text": [
            "\n",
            "\n",
            "\n"
          ],
          "name": "stderr"
        },
        {
          "output_type": "execute_result",
          "data": {
            "application/vnd.google.colaboratory.intrinsic+json": {
              "type": "string"
            },
            "text/plain": [
              "'노는 게 제일 좋아, 친구들 모여. 항상 즐거워.'"
            ]
          },
          "metadata": {
            "tags": []
          },
          "execution_count": 4
        }
      ]
    },
    {
      "cell_type": "markdown",
      "metadata": {
        "id": "OW0JW0w_BeA9"
      },
      "source": [
        "빈 칸을 맞춰보게 할까요?\n",
        "\n",
        "Fill in the blank\n",
        "\n",
        "https://kakaobrain.github.io/pororo/tagging/fill.html"
      ]
    },
    {
      "cell_type": "code",
      "metadata": {
        "colab": {
          "base_uri": "https://localhost:8080/"
        },
        "id": "Uh5plcXBpQlW",
        "outputId": "6cf0c727-345a-407d-aa27-12872c69744a"
      },
      "source": [
        "fib = Pororo(task=\"fib\", lang=\"ko\")\n",
        "fib(\"손흥민은 __의 축구선수이다.\")"
      ],
      "execution_count": 8,
      "outputs": [
        {
          "output_type": "stream",
          "text": [
            "\n"
          ],
          "name": "stderr"
        },
        {
          "output_type": "execute_result",
          "data": {
            "text/plain": [
              "['대한민국',\n",
              " '잉글랜드',\n",
              " '독일',\n",
              " '스웨덴',\n",
              " '네덜란드',\n",
              " '덴마크',\n",
              " '미국',\n",
              " '웨일스',\n",
              " '노르웨이',\n",
              " '벨기에',\n",
              " '프랑스',\n",
              " '국적',\n",
              " '일본',\n",
              " '한국']"
            ]
          },
          "metadata": {
            "tags": []
          },
          "execution_count": 8
        }
      ]
    },
    {
      "cell_type": "code",
      "metadata": {
        "colab": {
          "base_uri": "https://localhost:8080/"
        },
        "id": "tUQs4owrMOyy",
        "outputId": "5c2191a0-fec7-4748-8ba7-c2f184f960c9"
      },
      "source": [
        "fib(\"사랑은 __이다.\")"
      ],
      "execution_count": 32,
      "outputs": [
        {
          "output_type": "execute_result",
          "data": {
            "text/plain": [
              "['사랑', '말', ')', '꽃', '은', '자', '것', '마음']"
            ]
          },
          "metadata": {
            "tags": []
          },
          "execution_count": 32
        }
      ]
    },
    {
      "cell_type": "code",
      "metadata": {
        "colab": {
          "base_uri": "https://localhost:8080/"
        },
        "id": "9TC7FbMGNtQH",
        "outputId": "c6d3cec4-3bc1-47ab-9df3-72742f76300a"
      },
      "source": [
        "fib(\"인생은 __이다.\")"
      ],
      "execution_count": 33,
      "outputs": [
        {
          "output_type": "execute_result",
          "data": {
            "text/plain": [
              "['인생', '말', '꽃', '지금', '살', '것', '형']"
            ]
          },
          "metadata": {
            "tags": []
          },
          "execution_count": 33
        }
      ]
    },
    {
      "cell_type": "markdown",
      "metadata": {
        "id": "MmrNSNKwBm6u"
      },
      "source": [
        "기계 독해 (Machine Reading Comprehension)을 해보겠습니다.\n",
        "\n",
        "https://kakaobrain.github.io/pororo/tagging/mrc.html"
      ]
    },
    {
      "cell_type": "code",
      "metadata": {
        "colab": {
          "base_uri": "https://localhost:8080/"
        },
        "id": "MuGj0X0Fqh7R",
        "outputId": "6f61169b-be81-4ff5-aafb-2291dfe0ab43"
      },
      "source": [
        "mrc = Pororo(task=\"mrc\", lang=\"ko\")"
      ],
      "execution_count": 10,
      "outputs": [
        {
          "output_type": "stream",
          "text": [
            "\n",
            "\n"
          ],
          "name": "stderr"
        }
      ]
    },
    {
      "cell_type": "code",
      "metadata": {
        "colab": {
          "base_uri": "https://localhost:8080/"
        },
        "id": "e7KxZAKapRj_",
        "outputId": "5dfe9d28-1f37-4d22-be09-a202492ab71c"
      },
      "source": [
        "mrc(\n",
        "   \"사랑에 성공하려면?\",\n",
        "   \"\"\"\n",
        "출간된 지 60년이 지났지만, 상실된 '사랑의 회복'을 위한 에리히 프롬의 생각은 여전히 빛나고 있다.\n",
        "\n",
        "시장논리에 지배받는 오늘날 연인 사이의 '사랑'은 '계산'으로 바뀌기 쉽다. '사랑'의 회복을 위해 많은 사람들이 종교적, 도덕적인 말로 설파하고 있고, 적지 않은 사람들이 그에 공감하지만, 프롬은 이런 일로도 '사랑'을 회복하기 어렵다고 한다.\n",
        "\n",
        "'자본'이라는 외적 요인을 떠나 사랑 자체가 사랑할수록 실패하기 쉬운 속성을 가지고 있기 때문이다.\n",
        "\n",
        "그래서 프롬은 사랑이 '기술'적인 문제가 된다고 말한다.\n",
        "\n",
        "신이 준 사랑하는 능력을 그대로 발휘하기에 이미 인간의 삶은 너무나 복잡하고 교묘해졌기 때문이다.\n",
        "\n",
        "이런 복잡한 세상의 사랑을 위해 프롬이 제안하는 '기술'적 방법은 '인격'(퍼스낼리티)의 성장이다.\n",
        "\n",
        "겸손, 용기, 신념 등이 이에 해당하며, 프롬은 이런 '인격의 성장'이 없는 한 이웃을 사랑하는 것은 물론 개인적인 사랑도 성공할 수 없다고 말한다.\n",
        "\n",
        "THE ART OF LOVIG\n",
        "\n",
        "이 책의 원제에 있는 Art는 그리스어 테크네(Techne)에서 유래한 단어로 무엇인가를 만드는 인간의 활동을 뜻한다.\n",
        "\n",
        "즉 '사랑'하는 것을 '창작'하는 인간의 고뇌와 같다고 볼 수 있다는 것이다.\n",
        "\n",
        "물론 누구나 고흐 같은 인간이 될 수는 없지만, 누가 자신의 '사랑'을 향해 스스로 나아가는 사람을 쉽게 욕할 수 있을까.\n",
        "\n",
        "그러므로 이 책이 말하는 것은 '사랑'하기를 멈추지 말라, 이 한 마디로 요약될 수 있다.\n",
        "\"\"\"\n",
        ")"
      ],
      "execution_count": 12,
      "outputs": [
        {
          "output_type": "execute_result",
          "data": {
            "text/plain": [
              "('인격의 성장', (192, 196))"
            ]
          },
          "metadata": {
            "tags": []
          },
          "execution_count": 12
        }
      ]
    },
    {
      "cell_type": "code",
      "metadata": {
        "colab": {
          "base_uri": "https://localhost:8080/"
        },
        "id": "cGXv2S1mqfJS",
        "outputId": "cd07198a-f9f1-4df8-bb38-d60b4ab08833"
      },
      "source": [
        "mrc(\n",
        "    \"사랑이란 무엇?\",\n",
        "    \"\"\"사랑은 기술인가? 기술이라면 사랑에는 지식과 노력이 요구된다. 혹은 사랑은 우연한 기회에 경험하게 되는, 다시 말하면 행운만 있으면 누구나 ‘겪게 되는’ 즐거운 감정인가? 이 작은 책은 사\u001d랑은 기술이다, 라는 견해를 전제로 하고 있지만, 대부분의 현대인들은 물론 사랑은 즐거운 감정이라고 믿고 있다.\n",
        "\n",
        "그렇다고 해서 현대인이 사랑을 중요하게 여기지 않는다는 뜻은 아니다. 현대인들은 사랑을 갈망하고, 행복한 사랑의 이야기, 불행한 사랑의 이야기를 펼쳐놓는 무수한 영화를 보며, 사랑을 노래한 시시한 수백 가지 노래에 귀를 기울인다. 그러나 사랑에 대해서 배워야 할 것이 있다고 생각하는 사람은 거의 없다.\n",
        "\n",
        "이 특별한 태도는 몇 가지 전제에 기초를 두고 있으며, 이 전제는 단독으로 또는 결합되어서 이 태도를 뒷받침해준다. 우선 대부분의 사람들은 사랑의 문제를 '사랑하는', 곧 사랑할 줄 이는 능력의 문제가 아니라 오히려 ‘사랑받는’ 문제로 생각한다. 그들에게 사랑의 문제는 어떻게 하면 사랑받을 수 있는가, 어떻게 하면 사랑스러워지는가 하는 문제이다. 그들이 이 목적을 추구하는 몇 가지 방법이 있다. 남자들이 특히 애용하는 방법은 성공해서 자신의 지위의 사회적 한계가 허용하는 한 권력을 장악하고 돈을 모으는 것이다. 그리고 특히 여성이 애용하는 또 한 가지 방법은 몸을 가꾸고 치장을 하는 등 매력을 갖추는 것이다.\n",
        "\n",
        "남녀가 공용하는 또 한 가지 매력 전술은 유쾌한 태도와 흥미 있는 대화술을 익히고 유능하고 겸손하고 둥글둥글하게 처신하는 것이다. 사랑스러워지는 여러 가지 방법은 성공하기 위해, 곧 ‘벗 을 얻고 사람들에게 영향력을 갖기 위해 우리가 사용하는 방법과 같다. 시실상, 우리 문화권 대부분의 사람들이 사랑스럽다고 말하는 경우, 그 의미는 본질적으로는 인기와 성적(性的) 매력이 뒤섞여 있다는 것이다.\n",
        "\n",
        "사랑에 대해서 배울 필요가 없다는 태도의 배경이 되는 두 번째 전제는 사랑의 문제는 ‘능력’의 문제가 아니라 ‘대상’의 문제라는 가정(假定) 이다. ‘사랑한다’는 것은 쉬운 일이고, 사랑할 또는 사랑받을 올바른 대상을 발견하기가 어려울 뿐이라고 사람들은 생각한다. 이 태도에는 근대 사회의 발전에 바탕을 둔 몇 가지 이유가 있다. 한 가지 이유는 사랑의 대상을 선택하는 데 있어서 20 세기에 일어난 커다란 변화이다.\n",
        "\n",
        "빅토리아 시대에는 많은 전통적 국가의 경우처럼 대체로 사랑은 다음에는 결혼으로 이어지게 될, 자발적이며 개인적인 경험은 아니었다. 반대로 결혼은 관습에 의해 一 쌍방의 가족에 의해, 또는 중매인에 의해, 또는 중매인 같은 중개자의 도움 없이 계약되었다. 결혼은 사회적 고려를 기반으로 결정되었고, 사랑은 일단 결혼이 성립한 다음에 전개되는 것으로 생각되었다. 낭만적 사랑이라는 개념이 서양에서 거의 보편화된 것은 최근 몇 세기 동안의 일이었다. 미국에서는 관습적 성격을 가진 고려가 완전히 없어지지는 않았지만, 대부분의 사람들은 ‘낭만적 사랑’, 곧 다음에는 결혼으로 이어지게 될 사랑의 개인적 경험을 추구하고 있다. 사랑에 있어서의 이와 같은 새로운 자유 개념은 ‘능력’의 중요성과 대립되는 것으로서 대상의 중요성을 몹시 과장하지 않을 수 없었다.\n",
        "\n",
        "현대 문화의 또 하나의 특징적 성격은 이러한 요소와 밀접히 관련되어 있다. 우리의 모든 문화는 구매욕에, 또한 상호간 유리한 거래라는 관념에 기초를 두고 있다. 상점의 진열장을 들여다보며 느끼는 스릴과 살 수 있는 것이면 무엇이든지 현금 또는 할부로 사는 맛, 이것이 현대인의 행복이다. 그는(또는 그녀는) 사람들도 같은 방식으로 본다. 남자에게 매력 있는 여자 그리고 여자에게는 매력 있는 남자는 탐나는 경품이다. ‘매력’은 보통 인기 있고 퍼스낼리티(Personality) 시장에서 잘 팔리고 있는 품질 좋고 멋진 포장을 의미한다.\n",
        "\n",
        "사람들을 특히 매력 있게 하는 것은 육체적으로나 정신적으로나 그 시대의 유행에 달려 있다. 1920년대에는 술을 마시고 담배를 피우는, 튼튼하고 성적 매력이 있는 소녀가 매력적이었다. 오늘날의 유행은 오히려 가정적이고 얌전하기를 요구한다. 19세기 말과 20세기 초에는 매력적인 ‘포장’이 되려면 남자는 공격적이고 야심적이어야 했으나 오늘날은 사교적이고 관대해야 한다. 어쨌든 사랑하게 되었다는 느낌은 보통 자신의 교환 가능성 범위에 있는 인간 상품에 대해서만 나타난다.\n",
        "\n",
        "내가 거래를 하러 나갔다고 하자. 상대는 사회적 가치라는 관점에서 보아 바람직해야 하며, 동시에 상대자도 나의 명백한 또는 숨겨진 재산과 능력을 고려한 다음 나를 바람직하다고 생각해야 한다. 이와 같이 자기 자신의 교환 가치의 한계를 고려하면서 서로 시장에서 살 수 있는 최상의 대상을 찾아냈다고 느낄 때에만 두 사람은 사랑에 빠질 수 있다. 부동산을 사는 경우，앞으로는 개발될 지 모르지만 현재는 숨겨져 있는 가능성이 대체로 거래에서 중요한 역할을 한다. 시장 지향적이고 물질적 성공이 현저한 가치를 지니는 문화권에서 인간의 애정 관계가 상품 및 노동시장을 지배하는 교환 형식과 동일하다고 해서 놀랄 이유는 전혀 없다.\n",
        "\n",
        "사랑에 대해서는 배울 필요가 없다는 가정에 이르게 하는 세 번째 오류는 사랑을 ‘하게 되는’ 최초의 경험과 사랑하고 ‘있는’ 지속적 상태, 혹은 좀 더 분명하게 말한다면 사랑에 ‘머물러’ 있는 상태를 혼동하는 것이다. 우리 모두와 마찬가지로 남남으로 지내오던 두 사람이 갑자기 그들 사이의 벽을 허물어버리고 밀접하게 느끼며 일체(一體)라고 느낄 때, 이러한 합일의 순간은 인생에서 가장 유쾌하고 가장 격앙된 경험 가운데 하나다. 특히 폐쇄적이고 동떨어져 있어서 사랑을 모르고 지내던 사람의 경우라면 특히 놀랍고 기적적인 경험이다. 갑자기 친밀해지는, 이 기적은 성적 매력과 성적 결합에 의해 시작되는 경우, 대체로 더욱 촉진된다.\n",
        "\n",
        "그러나 이러한 형태의 사랑은 본질적으로 오래 지속될 수 없다. 두 사람이 친숙해질수록 친밀감과 기적적인 면은 점점 줄어들다가 마침내 적대감, 실망감, 권태가 생겨나며 최초의 홍분의 잔재마저도 찾아보기 어렵게 된다. 그러나 처음에 그들은 이러한 일을 알지 못한다. 사실상 그들은 강렬한 열중, 곧 서로 ‘미쳐버리는’ 것을 열정적인 사랑의 증거로 생각하지만, 이것은 기껏해야 그들이 서로 만나기 전에 얼마나 외로웠는가를 입증할 뿐이다.\n",
        "\n",
        "이러한 태도, 즉 사랑보다 더 쉬운 일은 없다는 태도는 반대의 경우에 대한 압도적 증거에도 아랑곳없이 사랑에 대한 일반적 관념으로서 지속되고 있다. 사랑처럼 엄청난 희망과 기대 속에서 시작되었다가 반드시 실패로 끝나고 마는 활동이나 사업은 찾아보기 어려울 것이다. 만일 이것이 다른 활동의 경우라면 사람들은 열심히 실패의 원인을 가려내려 하고 개선법을 찾아내려고 할 것 이다. 그렇지 않으면 그들은 이 활동을 포기할 것이다. 사랑의 경우, 포기는 불가능하므로, 사랑의 실패를 극복하는 적절한 방법은 오직 하나뿐인 것 같다. 곧 실패의 원인을 가려내고 사랑의 의미를 배우기 시작하는 것이다.\n",
        "\n",
        "최초의 조치는 삶이 기술인 것과 마찬가지로 ‘사랑도 기술’이라는 것을 깨닫는 것이다. 어떻게 사랑해야 하는가를 배우고 싶다면 우리는 다른 기술, 예컨대 음악이나 그림이나 건축, 또는 의학이나 공학 기술을 배우려고 할 때 거치는 것과 동일한 과정을 거치지 않으면 안 된다.\n",
        "\n",
        "어떤 기술을 배울 때 반드시 거쳐야 하는 단계는 무엇인가?\n",
        "\n",
        "편의상 기술 습득 과정을 둘로 나눌 수 있다. 첫째는 이론의 습득 , 둘째는 실천의 습득이다. 만일 내가 의학 기술을 배우고자 한다면 나는 먼저 인간의 신체와 여러 가지 질병에 대한 사실들을 알아야 한다. 내가 이러한 이론적 지식을 모두 배웠다 하더라도 나는 아직은 의학 기술에 숙달되지는 못했다. 상당한 실무를 거친 다음에야 비로소 의학 기술에 숙달되고 마침내 이론적 지식의 결과와 실천의 기술이 합치될 것이다. 곧 나의 직관이 모든 기술 숙달의 본질이 될 것이다.\n",
        "\n",
        "그러나 이론과 실천의 습득 외에도 어떤 기술을 숙달하는 데 필수인 세 번째 요인이 있다. 곧 기술 숙달이 궁극적인 관심사가 되어야 한다는 것이다. 이 말은 음악에도, 의학에도, 건축에도, 그리고 사랑에도 해당된다. 우리 문화권의 사람들은 사랑의 경우 명백히 실패하고 있으면서도 왜 사랑의 기술은 도무지 배우려고 하지 않는가? 이러한 물음에 대한 대답도 아마 여기서 찾아볼 수 있을 것이다. 사랑을 뿌리 깊이 갈망하면서도 사랑 이외의 거의 모든 일, 곧 성공, 위신, 돈, 권력이 사랑보다도 더 중요한 것으로 생각 되고 있다. 우리의 거의 모든 정력이 이러한 목적에 사용되고 거의 모든 사람이 사랑의 기술은 배우려고 들지 않는다.\n",
        "\n",
        "돈을 벌거나 특권을 얻는 데 필요한 것만이 배울 만한 가치가 있는 거라면, 오직 ‘영혼’에 유익할 뿐, 현대적 의미에서는 아무런 이익도 없는 사랑은 우리가 대부분의 정력을 기울일 필요가 없는 사치에 지나지 않을까? 어쨌든 앞으로는 사랑의 기술을 앞의 구분에 따라 다루기로 한다. 우선, 나는 사랑의 이론을 검토하겠으며 이러한 검토는 이 책 대부분을 차지할 것이다. 그 다음에 나는 사랑의 실천을 검토할 것이다. 다른 분야의 경우와 마찬가지로 이 책에서도 실천에 대해서는 ‘할 말’이 별로 없긴 하지만.\"\"\"\n",
        ")"
      ],
      "execution_count": 27,
      "outputs": [
        {
          "output_type": "execute_result",
          "data": {
            "text/plain": [
              "('지식과 노력', (16, 19))"
            ]
          },
          "metadata": {
            "tags": []
          },
          "execution_count": 27
        }
      ]
    },
    {
      "cell_type": "markdown",
      "metadata": {
        "id": "o7plyrmyBvOc"
      },
      "source": [
        "텍스트 요약을 시켜보겠습니다.\n",
        "\n",
        "https://kakaobrain.github.io/pororo/seq2seq/summary.html"
      ]
    },
    {
      "cell_type": "code",
      "metadata": {
        "colab": {
          "base_uri": "https://localhost:8080/"
        },
        "id": "jex00aYSNr89",
        "outputId": "46ba13ab-3d9b-4323-b82a-086a27ede693"
      },
      "source": [
        "sum = Pororo(task=\"summary\", lang=\"kr\")"
      ],
      "execution_count": 34,
      "outputs": [
        {
          "output_type": "stream",
          "text": [
            "\n"
          ],
          "name": "stderr"
        }
      ]
    },
    {
      "cell_type": "code",
      "metadata": {
        "colab": {
          "base_uri": "https://localhost:8080/",
          "height": 52
        },
        "id": "Oq6Bpaq3O5Go",
        "outputId": "9bebe8d9-797e-402e-bcd1-831dcdf2f2b2"
      },
      "source": [
        "sum_txt = sum(\"\"\"사랑은 기술인가? 기술이라면 사랑에는 지식과 노력이 요구된다. 혹은 사랑은 우연한 기회에 경험하게 되는, 다시 말하면 행운만 있으면 누구나 ‘겪게 되는’ 즐거운 감정인가? 이 작은 책은 사\u001d랑은 기술이다, 라는 견해를 전제로 하고 있지만, 대부분의 현대인들은 물론 사랑은 즐거운 감정이라고 믿고 있다.\n",
        "\n",
        "그렇다고 해서 현대인이 사랑을 중요하게 여기지 않는다는 뜻은 아니다. 현대인들은 사랑을 갈망하고, 행복한 사랑의 이야기, 불행한 사랑의 이야기를 펼쳐놓는 무수한 영화를 보며, 사랑을 노래한 시시한 수백 가지 노래에 귀를 기울인다. 그러나 사랑에 대해서 배워야 할 것이 있다고 생각하는 사람은 거의 없다.\n",
        "\n",
        "이 특별한 태도는 몇 가지 전제에 기초를 두고 있으며, 이 전제는 단독으로 또는 결합되어서 이 태도를 뒷받침해준다. 우선 대부분의 사람들은 사랑의 문제를 '사랑하는', 곧 사랑할 줄 이는 능력의 문제가 아니라 오히려 ‘사랑받는’ 문제로 생각한다. 그들에게 사랑의 문제는 어떻게 하면 사랑받을 수 있는가, 어떻게 하면 사랑스러워지는가 하는 문제이다. 그들이 이 목적을 추구하는 몇 가지 방법이 있다. 남자들이 특히 애용하는 방법은 성공해서 자신의 지위의 사회적 한계가 허용하는 한 권력을 장악하고 돈을 모으는 것이다. 그리고 특히 여성이 애용하는 또 한 가지 방법은 몸을 가꾸고 치장을 하는 등 매력을 갖추는 것이다.\n",
        "\n",
        "남녀가 공용하는 또 한 가지 매력 전술은 유쾌한 태도와 흥미 있는 대화술을 익히고 유능하고 겸손하고 둥글둥글하게 처신하는 것이다. 사랑스러워지는 여러 가지 방법은 성공하기 위해, 곧 ‘벗 을 얻고 사람들에게 영향력을 갖기 위해 우리가 사용하는 방법과 같다. 시실상, 우리 문화권 대부분의 사람들이 사랑스럽다고 말하는 경우, 그 의미는 본질적으로는 인기와 성적(性的) 매력이 뒤섞여 있다는 것이다.\n",
        "\n",
        "사랑에 대해서 배울 필요가 없다는 태도의 배경이 되는 두 번째 전제는 사랑의 문제는 ‘능력’의 문제가 아니라 ‘대상’의 문제라는 가정(假定) 이다. ‘사랑한다’는 것은 쉬운 일이고, 사랑할 또는 사랑받을 올바른 대상을 발견하기가 어려울 뿐이라고 사람들은 생각한다. 이 태도에는 근대 사회의 발전에 바탕을 둔 몇 가지 이유가 있다. 한 가지 이유는 사랑의 대상을 선택하는 데 있어서 20 세기에 일어난 커다란 변화이다.\n",
        "\n",
        "빅토리아 시대에는 많은 전통적 국가의 경우처럼 대체로 사랑은 다음에는 결혼으로 이어지게 될, 자발적이며 개인적인 경험은 아니었다. 반대로 결혼은 관습에 의해 一 쌍방의 가족에 의해, 또는 중매인에 의해, 또는 중매인 같은 중개자의 도움 없이 계약되었다. 결혼은 사회적 고려를 기반으로 결정되었고, 사랑은 일단 결혼이 성립한 다음에 전개되는 것으로 생각되었다. 낭만적 사랑이라는 개념이 서양에서 거의 보편화된 것은 최근 몇 세기 동안의 일이었다. 미국에서는 관습적 성격을 가진 고려가 완전히 없어지지는 않았지만, 대부분의 사람들은 ‘낭만적 사랑’, 곧 다음에는 결혼으로 이어지게 될 사랑의 개인적 경험을 추구하고 있다. 사랑에 있어서의 이와 같은 새로운 자유 개념은 ‘능력’의 중요성과 대립되는 것으로서 대상의 중요성을 몹시 과장하지 않을 수 없었다.\n",
        "\n",
        "현대 문화의 또 하나의 특징적 성격은 이러한 요소와 밀접히 관련되어 있다. 우리의 모든 문화는 구매욕에, 또한 상호간 유리한 거래라는 관념에 기초를 두고 있다. 상점의 진열장을 들여다보며 느끼는 스릴과 살 수 있는 것이면 무엇이든지 현금 또는 할부로 사는 맛, 이것이 현대인의 행복이다. 그는(또는 그녀는) 사람들도 같은 방식으로 본다. 남자에게 매력 있는 여자 그리고 여자에게는 매력 있는 남자는 탐나는 경품이다. ‘매력’은 보통 인기 있고 퍼스낼리티(Personality) 시장에서 잘 팔리고 있는 품질 좋고 멋진 포장을 의미한다.\n",
        "\n",
        "사람들을 특히 매력 있게 하는 것은 육체적으로나 정신적으로나 그 시대의 유행에 달려 있다. 1920년대에는 술을 마시고 담배를 피우는, 튼튼하고 성적 매력이 있는 소녀가 매력적이었다. 오늘날의 유행은 오히려 가정적이고 얌전하기를 요구한다. 19세기 말과 20세기 초에는 매력적인 ‘포장’이 되려면 남자는 공격적이고 야심적이어야 했으나 오늘날은 사교적이고 관대해야 한다. 어쨌든 사랑하게 되었다는 느낌은 보통 자신의 교환 가능성 범위에 있는 인간 상품에 대해서만 나타난다.\n",
        "\n",
        "내가 거래를 하러 나갔다고 하자. 상대는 사회적 가치라는 관점에서 보아 바람직해야 하며, 동시에 상대자도 나의 명백한 또는 숨겨진 재산과 능력을 고려한 다음 나를 바람직하다고 생각해야 한다. 이와 같이 자기 자신의 교환 가치의 한계를 고려하면서 서로 시장에서 살 수 있는 최상의 대상을 찾아냈다고 느낄 때에만 두 사람은 사랑에 빠질 수 있다. 부동산을 사는 경우，앞으로는 개발될 지 모르지만 현재는 숨겨져 있는 가능성이 대체로 거래에서 중요한 역할을 한다. 시장 지향적이고 물질적 성공이 현저한 가치를 지니는 문화권에서 인간의 애정 관계가 상품 및 노동시장을 지배하는 교환 형식과 동일하다고 해서 놀랄 이유는 전혀 없다.\n",
        "\n",
        "사랑에 대해서는 배울 필요가 없다는 가정에 이르게 하는 세 번째 오류는 사랑을 ‘하게 되는’ 최초의 경험과 사랑하고 ‘있는’ 지속적 상태, 혹은 좀 더 분명하게 말한다면 사랑에 ‘머물러’ 있는 상태를 혼동하는 것이다. 우리 모두와 마찬가지로 남남으로 지내오던 두 사람이 갑자기 그들 사이의 벽을 허물어버리고 밀접하게 느끼며 일체(一體)라고 느낄 때, 이러한 합일의 순간은 인생에서 가장 유쾌하고 가장 격앙된 경험 가운데 하나다. 특히 폐쇄적이고 동떨어져 있어서 사랑을 모르고 지내던 사람의 경우라면 특히 놀랍고 기적적인 경험이다. 갑자기 친밀해지는, 이 기적은 성적 매력과 성적 결합에 의해 시작되는 경우, 대체로 더욱 촉진된다.\n",
        "\n",
        "그러나 이러한 형태의 사랑은 본질적으로 오래 지속될 수 없다. 두 사람이 친숙해질수록 친밀감과 기적적인 면은 점점 줄어들다가 마침내 적대감, 실망감, 권태가 생겨나며 최초의 홍분의 잔재마저도 찾아보기 어렵게 된다. 그러나 처음에 그들은 이러한 일을 알지 못한다. 사실상 그들은 강렬한 열중, 곧 서로 ‘미쳐버리는’ 것을 열정적인 사랑의 증거로 생각하지만, 이것은 기껏해야 그들이 서로 만나기 전에 얼마나 외로웠는가를 입증할 뿐이다.\n",
        "\n",
        "이러한 태도, 즉 사랑보다 더 쉬운 일은 없다는 태도는 반대의 경우에 대한 압도적 증거에도 아랑곳없이 사랑에 대한 일반적 관념으로서 지속되고 있다. 사랑처럼 엄청난 희망과 기대 속에서 시작되었다가 반드시 실패로 끝나고 마는 활동이나 사업은 찾아보기 어려울 것이다. 만일 이것이 다른 활동의 경우라면 사람들은 열심히 실패의 원인을 가려내려 하고 개선법을 찾아내려고 할 것 이다. 그렇지 않으면 그들은 이 활동을 포기할 것이다. 사랑의 경우, 포기는 불가능하므로, 사랑의 실패를 극복하는 적절한 방법은 오직 하나뿐인 것 같다. 곧 실패의 원인을 가려내고 사랑의 의미를 배우기 시작하는 것이다.\n",
        "\n",
        "최초의 조치는 삶이 기술인 것과 마찬가지로 ‘사랑도 기술’이라는 것을 깨닫는 것이다. 어떻게 사랑해야 하는가를 배우고 싶다면 우리는 다른 기술, 예컨대 음악이나 그림이나 건축, 또는 의학이나 공학 기술을 배우려고 할 때 거치는 것과 동일한 과정을 거치지 않으면 안 된다.\n",
        "\n",
        "어떤 기술을 배울 때 반드시 거쳐야 하는 단계는 무엇인가?\n",
        "\n",
        "편의상 기술 습득 과정을 둘로 나눌 수 있다. 첫째는 이론의 습득, 둘째는 실천의 습득이다. 만일 내가 의학 기술을 배우고자 한다면 나는 먼저 인간의 신체와 여러 가지 질병에 대한 사실들을 알아야 한다. 내가 이러한 이론적 지식을 모두 배웠다 하더라도 나는 아직은 의학 기술에 숙달되지는 못했다. 상당한 실무를 거친 다음에야 비로소 의학 기술에 숙달되고 마침내 이론적 지식의 결과와 실천의 기술이 합치될 것이다. 곧 나의 직관이 모든 기술 숙달의 본질이 될 것이다.\n",
        "\n",
        "그러나 이론과 실천의 습득 외에도 어떤 기술을 숙달하는 데 필수인 세 번째 요인이 있다. 곧 기술 숙달이 궁극적인 관심사가 되어야 한다는 것이다. 이 말은 음악에도, 의학에도, 건축에도, 그리고 사랑에도 해당된다. 우리 문화권의 사람들은 사랑의 경우 명백히 실패하고 있으면서도 왜 사랑의 기술은 도무지 배우려고 하지 않는가? 이러한 물음에 대한 대답도 아마 여기서 찾아볼 수 있을 것이다. 사랑을 뿌리 깊이 갈망하면서도 사랑 이외의 거의 모든 일, 곧 성공, 위신, 돈, 권력이 사랑보다도 더 중요한 것으로 생각 되고 있다. 우리의 거의 모든 정력이 이러한 목적에 사용되고 거의 모든 사람이 사랑의 기술은 배우려고 들지 않는다.\n",
        "\n",
        "돈을 벌거나 특권을 얻는 데 필요한 것만이 배울 만한 가치가 있는 거라면, 오직 ‘영혼’에 유익할 뿐, 현대적 의미에서는 아무런 이익도 없는 사랑은 우리가 대부분의 정력을 기울일 필요가 없는 사치에 지나지 않을까? 어쨌든 앞으로는 사랑의 기술을 앞의 구분에 따라 다루기로 한다. 우선, 나는 사랑의 이론을 검토하겠으며 이러한 검토는 이 책 대부분을 차지할 것이다. 그 다음에 나는 사랑의 실천을 검토할 것이다. 다른 분야의 경우와 마찬가지로 이 책에서도 실천에 대해서는 ‘할 말’이 별로 없긴 하지만.\"\"\"\n",
        ")\n",
        "sum_txt"
      ],
      "execution_count": 40,
      "outputs": [
        {
          "output_type": "execute_result",
          "data": {
            "application/vnd.google.colaboratory.intrinsic+json": {
              "type": "string"
            },
            "text/plain": [
              "'남자는 남자는 물건과 상품의 조건만 고려하고 여자는 상품과 신체의 조건만 고려하여 짝을 찾는 것이 최선이라고 생각하며, 사랑은 우연한 기회에 경험하게 되는 즐거운 감정이라고 생각한다고 말했다.'"
            ]
          },
          "metadata": {
            "tags": []
          },
          "execution_count": 40
        }
      ]
    },
    {
      "cell_type": "code",
      "metadata": {
        "colab": {
          "base_uri": "https://localhost:8080/",
          "height": 35
        },
        "id": "uDmopKe0ncYN",
        "outputId": "48f651ad-d688-4546-c74f-7226c0cabdae"
      },
      "source": [
        "sum(\"\"\"매일같이 영화 속에서나\n",
        "책 속에서나 드라마 속에서\n",
        "사랑을 느껴\n",
        "Um 사랑을 배워\n",
        "내 일처럼 자꾸 가슴이 뛰어\n",
        "두근두근거려 설레임에 부풀어 올라\n",
        "Um 궁금해서 미칠 것만 같아\n",
        "Ooh 언젠간 내게도\n",
        "이런 일이 실제로 일어날까\n",
        "그게 언제쯤일까? 어떤 사람일까?\n",
        "I wanna know 사탕처럼 달콤하다는데\n",
        "I wanna know 하늘을 나는 것 같다는데\n",
        "I wanna know know know know\n",
        "What is love?\n",
        "사랑이 어떤 느낌인지\n",
        "I wanna know 하루 종일 웃고 있다는데\n",
        "I wanna know 세상이 다 아름답다는데\n",
        "I wanna know know know know\n",
        "What is love?\n",
        "언젠간 나에게도 사랑이 올까\n",
        "지금 이런 상상만으로도\n",
        "떠올려만 봐도\n",
        "가슴이 터질 것 같은데\n",
        "Um 이렇게 좋은데\n",
        "만일 언젠가 진짜로 내게\n",
        "사랑이 올 때 난 울어버릴지도 몰라\n",
        "Um 정말 궁금해 미칠 것만 같아\n",
        "Ooh 언젠간 내게도\n",
        "이런 일이 실제로 일어날까\n",
        "그게 언제쯤일까? 어떤 사람일까?\n",
        "I wanna know 사탕처럼 달콤하다는데\n",
        "I wanna know 하늘을 나는 것 같다는데\n",
        "I wanna know know know know\n",
        "What is love?\n",
        "사랑이 어떤 느낌인지\n",
        "I wanna know 하루 종일 웃고 있다는데\n",
        "I wanna know 세상이 다 아름답다는데\n",
        "I wanna know know know know\n",
        "What is love?\n",
        "언젠간 나에게도 사랑이 올까\n",
        "지금 세상 어느 곳에 살고 있는지\n",
        "도대체 언제쯤 나와 만나게 될는지\n",
        "언제 어떻게 우리의 인연은\n",
        "시작될는지 모르지만 느낌이 어쩐지\n",
        "진짜 좋을 것 같아 왠지\n",
        "영화 드라마보다도 더 멋진\n",
        "사랑이 올 거야 내 예감 언제나 맞지\n",
        "어서 나타나봐\n",
        "나는 다 준비가 됐지 ready\n",
        "(어디 있을까) 찾아낼 거야\n",
        "(어디 있을까) 보고 싶어 죽겠어\n",
        "더 이상 참을 수 없을 것만 같아\n",
        "사탕처럼 달콤하다는데\n",
        "하늘을 나는 것 같다는데\n",
        "I wanna know know know know\n",
        "What is love?\n",
        "사랑이 어떤 느낌인지\n",
        "하루 종일 웃고 있다는데\n",
        "세상이 다 아름답다는데\n",
        "I wanna know know know know\n",
        "What is love?\n",
        "언젠간 나에게도 사랑이 올까\n",
        "I wanna know\n",
        "I wanna know\n",
        "I wanna know know know know\n",
        "What is love?\n",
        "I wanna know I wanna know\n",
        "I wanna know\n",
        "I wanna know\n",
        "I wanna know know know know\n",
        "What is love?\n",
        "I wanna know\"\"\")"
      ],
      "execution_count": 41,
      "outputs": [
        {
          "output_type": "execute_result",
          "data": {
            "application/vnd.google.colaboratory.intrinsic+json": {
              "type": "string"
            },
            "text/plain": [
              "'가게 사람 남자가 영화 속에서 영화 속에서나 드라마 속에서나 사랑을 배워가며 생기는 사랑을 책임져야 한다는 생각하면서 부딪히는 일이 실제로 일어날 거예요.'"
            ]
          },
          "metadata": {
            "tags": []
          },
          "execution_count": 41
        }
      ]
    },
    {
      "cell_type": "markdown",
      "metadata": {
        "id": "otXTe3GSB7tm"
      },
      "source": [
        "더 많은 예제들을 한 번 따라해 보세요!"
      ]
    }
  ]
}