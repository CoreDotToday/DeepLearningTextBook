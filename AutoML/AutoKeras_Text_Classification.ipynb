{
  "nbformat": 4,
  "nbformat_minor": 0,
  "metadata": {
    "colab": {
      "name": "AutoKeras - Text Classification.ipynb",
      "provenance": [],
      "collapsed_sections": [],
      "machine_shape": "hm"
    },
    "kernelspec": {
      "name": "python3",
      "display_name": "Python 3"
    },
    "language_info": {
      "name": "python"
    },
    "accelerator": "GPU"
  },
  "cells": [
    {
      "cell_type": "markdown",
      "metadata": {
        "id": "h451hLukjU0g"
      },
      "source": [
        "# AutoKeras로 텍스트 분류 예측하기\n",
        "\n",
        "2021.07.21. Kyunghoon Kim   \n",
        "http://github.com/coredottoday/DeepLearningTextBook/"
      ]
    },
    {
      "cell_type": "markdown",
      "metadata": {
        "id": "AQJrFkMW-xV1"
      },
      "source": [
        "# 라이브러리 설치"
      ]
    },
    {
      "cell_type": "markdown",
      "metadata": {
        "id": "qaOMz910jc5c"
      },
      "source": [
        "먼저 오토케라스를 설치해 주겠습니다."
      ]
    },
    {
      "cell_type": "code",
      "metadata": {
        "id": "bV7ZDweMs-3G"
      },
      "source": [
        "%tensorflow_version 2.x"
      ],
      "execution_count": 1,
      "outputs": []
    },
    {
      "cell_type": "code",
      "metadata": {
        "colab": {
          "base_uri": "https://localhost:8080/"
        },
        "id": "j6pzSbq0FtFF",
        "outputId": "a20a38d0-84d6-466d-e573-529e3d0f7481"
      },
      "source": [
        "pip install autokeras"
      ],
      "execution_count": 2,
      "outputs": [
        {
          "output_type": "stream",
          "text": [
            "Requirement already satisfied: autokeras in /usr/local/lib/python3.7/dist-packages (1.0.15)\n",
            "Requirement already satisfied: scikit-learn in /usr/local/lib/python3.7/dist-packages (from autokeras) (0.22.2.post1)\n",
            "Requirement already satisfied: packaging in /usr/local/lib/python3.7/dist-packages (from autokeras) (21.0)\n",
            "Requirement already satisfied: keras-tuner>=1.0.2 in /usr/local/lib/python3.7/dist-packages (from autokeras) (1.0.3)\n",
            "Requirement already satisfied: pandas in /usr/local/lib/python3.7/dist-packages (from autokeras) (1.1.5)\n",
            "Requirement already satisfied: tensorflow>=2.3.0 in /usr/local/lib/python3.7/dist-packages (from autokeras) (2.5.0)\n",
            "Requirement already satisfied: requests in /usr/local/lib/python3.7/dist-packages (from keras-tuner>=1.0.2->autokeras) (2.23.0)\n",
            "Requirement already satisfied: kt-legacy in /usr/local/lib/python3.7/dist-packages (from keras-tuner>=1.0.2->autokeras) (1.0.3)\n",
            "Requirement already satisfied: ipython in /usr/local/lib/python3.7/dist-packages (from keras-tuner>=1.0.2->autokeras) (5.5.0)\n",
            "Requirement already satisfied: tensorboard in /usr/local/lib/python3.7/dist-packages (from keras-tuner>=1.0.2->autokeras) (2.5.0)\n",
            "Requirement already satisfied: numpy in /usr/local/lib/python3.7/dist-packages (from keras-tuner>=1.0.2->autokeras) (1.19.5)\n",
            "Requirement already satisfied: scipy in /usr/local/lib/python3.7/dist-packages (from keras-tuner>=1.0.2->autokeras) (1.4.1)\n",
            "Requirement already satisfied: protobuf>=3.9.2 in /usr/local/lib/python3.7/dist-packages (from tensorflow>=2.3.0->autokeras) (3.17.3)\n",
            "Requirement already satisfied: absl-py~=0.10 in /usr/local/lib/python3.7/dist-packages (from tensorflow>=2.3.0->autokeras) (0.12.0)\n",
            "Requirement already satisfied: keras-nightly~=2.5.0.dev in /usr/local/lib/python3.7/dist-packages (from tensorflow>=2.3.0->autokeras) (2.5.0.dev2021032900)\n",
            "Requirement already satisfied: h5py~=3.1.0 in /usr/local/lib/python3.7/dist-packages (from tensorflow>=2.3.0->autokeras) (3.1.0)\n",
            "Requirement already satisfied: google-pasta~=0.2 in /usr/local/lib/python3.7/dist-packages (from tensorflow>=2.3.0->autokeras) (0.2.0)\n",
            "Requirement already satisfied: flatbuffers~=1.12.0 in /usr/local/lib/python3.7/dist-packages (from tensorflow>=2.3.0->autokeras) (1.12)\n",
            "Requirement already satisfied: keras-preprocessing~=1.1.2 in /usr/local/lib/python3.7/dist-packages (from tensorflow>=2.3.0->autokeras) (1.1.2)\n",
            "Requirement already satisfied: termcolor~=1.1.0 in /usr/local/lib/python3.7/dist-packages (from tensorflow>=2.3.0->autokeras) (1.1.0)\n",
            "Requirement already satisfied: wheel~=0.35 in /usr/local/lib/python3.7/dist-packages (from tensorflow>=2.3.0->autokeras) (0.36.2)\n",
            "Requirement already satisfied: six~=1.15.0 in /usr/local/lib/python3.7/dist-packages (from tensorflow>=2.3.0->autokeras) (1.15.0)\n",
            "Requirement already satisfied: gast==0.4.0 in /usr/local/lib/python3.7/dist-packages (from tensorflow>=2.3.0->autokeras) (0.4.0)\n",
            "Requirement already satisfied: astunparse~=1.6.3 in /usr/local/lib/python3.7/dist-packages (from tensorflow>=2.3.0->autokeras) (1.6.3)\n",
            "Requirement already satisfied: opt-einsum~=3.3.0 in /usr/local/lib/python3.7/dist-packages (from tensorflow>=2.3.0->autokeras) (3.3.0)\n",
            "Requirement already satisfied: tensorflow-estimator<2.6.0,>=2.5.0rc0 in /usr/local/lib/python3.7/dist-packages (from tensorflow>=2.3.0->autokeras) (2.5.0)\n",
            "Requirement already satisfied: wrapt~=1.12.1 in /usr/local/lib/python3.7/dist-packages (from tensorflow>=2.3.0->autokeras) (1.12.1)\n",
            "Requirement already satisfied: typing-extensions~=3.7.4 in /usr/local/lib/python3.7/dist-packages (from tensorflow>=2.3.0->autokeras) (3.7.4.3)\n",
            "Requirement already satisfied: grpcio~=1.34.0 in /usr/local/lib/python3.7/dist-packages (from tensorflow>=2.3.0->autokeras) (1.34.1)\n",
            "Requirement already satisfied: cached-property in /usr/local/lib/python3.7/dist-packages (from h5py~=3.1.0->tensorflow>=2.3.0->autokeras) (1.5.2)\n",
            "Requirement already satisfied: google-auth<2,>=1.6.3 in /usr/local/lib/python3.7/dist-packages (from tensorboard->keras-tuner>=1.0.2->autokeras) (1.32.1)\n",
            "Requirement already satisfied: google-auth-oauthlib<0.5,>=0.4.1 in /usr/local/lib/python3.7/dist-packages (from tensorboard->keras-tuner>=1.0.2->autokeras) (0.4.4)\n",
            "Requirement already satisfied: werkzeug>=0.11.15 in /usr/local/lib/python3.7/dist-packages (from tensorboard->keras-tuner>=1.0.2->autokeras) (1.0.1)\n",
            "Requirement already satisfied: setuptools>=41.0.0 in /usr/local/lib/python3.7/dist-packages (from tensorboard->keras-tuner>=1.0.2->autokeras) (57.2.0)\n",
            "Requirement already satisfied: markdown>=2.6.8 in /usr/local/lib/python3.7/dist-packages (from tensorboard->keras-tuner>=1.0.2->autokeras) (3.3.4)\n",
            "Requirement already satisfied: tensorboard-plugin-wit>=1.6.0 in /usr/local/lib/python3.7/dist-packages (from tensorboard->keras-tuner>=1.0.2->autokeras) (1.8.0)\n",
            "Requirement already satisfied: tensorboard-data-server<0.7.0,>=0.6.0 in /usr/local/lib/python3.7/dist-packages (from tensorboard->keras-tuner>=1.0.2->autokeras) (0.6.1)\n",
            "Requirement already satisfied: rsa<5,>=3.1.4 in /usr/local/lib/python3.7/dist-packages (from google-auth<2,>=1.6.3->tensorboard->keras-tuner>=1.0.2->autokeras) (4.7.2)\n",
            "Requirement already satisfied: pyasn1-modules>=0.2.1 in /usr/local/lib/python3.7/dist-packages (from google-auth<2,>=1.6.3->tensorboard->keras-tuner>=1.0.2->autokeras) (0.2.8)\n",
            "Requirement already satisfied: cachetools<5.0,>=2.0.0 in /usr/local/lib/python3.7/dist-packages (from google-auth<2,>=1.6.3->tensorboard->keras-tuner>=1.0.2->autokeras) (4.2.2)\n",
            "Requirement already satisfied: requests-oauthlib>=0.7.0 in /usr/local/lib/python3.7/dist-packages (from google-auth-oauthlib<0.5,>=0.4.1->tensorboard->keras-tuner>=1.0.2->autokeras) (1.3.0)\n",
            "Requirement already satisfied: importlib-metadata in /usr/local/lib/python3.7/dist-packages (from markdown>=2.6.8->tensorboard->keras-tuner>=1.0.2->autokeras) (4.6.1)\n",
            "Requirement already satisfied: pyasn1<0.5.0,>=0.4.6 in /usr/local/lib/python3.7/dist-packages (from pyasn1-modules>=0.2.1->google-auth<2,>=1.6.3->tensorboard->keras-tuner>=1.0.2->autokeras) (0.4.8)\n",
            "Requirement already satisfied: urllib3!=1.25.0,!=1.25.1,<1.26,>=1.21.1 in /usr/local/lib/python3.7/dist-packages (from requests->keras-tuner>=1.0.2->autokeras) (1.24.3)\n",
            "Requirement already satisfied: idna<3,>=2.5 in /usr/local/lib/python3.7/dist-packages (from requests->keras-tuner>=1.0.2->autokeras) (2.10)\n",
            "Requirement already satisfied: chardet<4,>=3.0.2 in /usr/local/lib/python3.7/dist-packages (from requests->keras-tuner>=1.0.2->autokeras) (3.0.4)\n",
            "Requirement already satisfied: certifi>=2017.4.17 in /usr/local/lib/python3.7/dist-packages (from requests->keras-tuner>=1.0.2->autokeras) (2021.5.30)\n",
            "Requirement already satisfied: oauthlib>=3.0.0 in /usr/local/lib/python3.7/dist-packages (from requests-oauthlib>=0.7.0->google-auth-oauthlib<0.5,>=0.4.1->tensorboard->keras-tuner>=1.0.2->autokeras) (3.1.1)\n",
            "Requirement already satisfied: zipp>=0.5 in /usr/local/lib/python3.7/dist-packages (from importlib-metadata->markdown>=2.6.8->tensorboard->keras-tuner>=1.0.2->autokeras) (3.5.0)\n",
            "Requirement already satisfied: pexpect in /usr/local/lib/python3.7/dist-packages (from ipython->keras-tuner>=1.0.2->autokeras) (4.8.0)\n",
            "Requirement already satisfied: decorator in /usr/local/lib/python3.7/dist-packages (from ipython->keras-tuner>=1.0.2->autokeras) (4.4.2)\n",
            "Requirement already satisfied: pickleshare in /usr/local/lib/python3.7/dist-packages (from ipython->keras-tuner>=1.0.2->autokeras) (0.7.5)\n",
            "Requirement already satisfied: simplegeneric>0.8 in /usr/local/lib/python3.7/dist-packages (from ipython->keras-tuner>=1.0.2->autokeras) (0.8.1)\n",
            "Requirement already satisfied: prompt-toolkit<2.0.0,>=1.0.4 in /usr/local/lib/python3.7/dist-packages (from ipython->keras-tuner>=1.0.2->autokeras) (1.0.18)\n",
            "Requirement already satisfied: traitlets>=4.2 in /usr/local/lib/python3.7/dist-packages (from ipython->keras-tuner>=1.0.2->autokeras) (5.0.5)\n",
            "Requirement already satisfied: pygments in /usr/local/lib/python3.7/dist-packages (from ipython->keras-tuner>=1.0.2->autokeras) (2.6.1)\n",
            "Requirement already satisfied: wcwidth in /usr/local/lib/python3.7/dist-packages (from prompt-toolkit<2.0.0,>=1.0.4->ipython->keras-tuner>=1.0.2->autokeras) (0.2.5)\n",
            "Requirement already satisfied: ipython-genutils in /usr/local/lib/python3.7/dist-packages (from traitlets>=4.2->ipython->keras-tuner>=1.0.2->autokeras) (0.2.0)\n",
            "Requirement already satisfied: pyparsing>=2.0.2 in /usr/local/lib/python3.7/dist-packages (from packaging->autokeras) (2.4.7)\n",
            "Requirement already satisfied: python-dateutil>=2.7.3 in /usr/local/lib/python3.7/dist-packages (from pandas->autokeras) (2.8.1)\n",
            "Requirement already satisfied: pytz>=2017.2 in /usr/local/lib/python3.7/dist-packages (from pandas->autokeras) (2018.9)\n",
            "Requirement already satisfied: ptyprocess>=0.5 in /usr/local/lib/python3.7/dist-packages (from pexpect->ipython->keras-tuner>=1.0.2->autokeras) (0.7.0)\n",
            "Requirement already satisfied: joblib>=0.11 in /usr/local/lib/python3.7/dist-packages (from scikit-learn->autokeras) (1.0.1)\n"
          ],
          "name": "stdout"
        }
      ]
    },
    {
      "cell_type": "markdown",
      "metadata": {
        "id": "7yC3lm2A_DnS"
      },
      "source": [
        "라이브러리를 아래와 같이 불러오겠습니다."
      ]
    },
    {
      "cell_type": "code",
      "metadata": {
        "colab": {
          "base_uri": "https://localhost:8080/"
        },
        "id": "Meg9-0q__u3U",
        "outputId": "f80bbe9a-5564-47b7-8aed-99c9b5cce405"
      },
      "source": [
        "%pylab inline"
      ],
      "execution_count": 112,
      "outputs": [
        {
          "output_type": "stream",
          "text": [
            "Populating the interactive namespace from numpy and matplotlib\n"
          ],
          "name": "stdout"
        },
        {
          "output_type": "stream",
          "text": [
            "/usr/local/lib/python3.7/dist-packages/IPython/core/magics/pylab.py:161: UserWarning: pylab import has clobbered these variables: ['text', 'clf']\n",
            "`%matplotlib` prevents importing * from pylab and numpy\n",
            "  \"\\n`%matplotlib` prevents importing * from pylab and numpy\"\n"
          ],
          "name": "stderr"
        }
      ]
    },
    {
      "cell_type": "code",
      "metadata": {
        "id": "99Ueh_6cFt5b"
      },
      "source": [
        "import os\n",
        "\n",
        "import numpy as np\n",
        "import tensorflow as tf\n",
        "import pandas as pd\n",
        "import autokeras as ak"
      ],
      "execution_count": 3,
      "outputs": []
    },
    {
      "cell_type": "markdown",
      "metadata": {
        "id": "jWKG-Ori_GJN"
      },
      "source": [
        "## 스팸볶음밥의 스팸 데이터"
      ]
    },
    {
      "cell_type": "markdown",
      "metadata": {
        "id": "xLJyBeVWj0v1"
      },
      "source": [
        "스팸볶음밥 팀의 스팸 데이터를 pandas로 불러옵니다."
      ]
    },
    {
      "cell_type": "code",
      "metadata": {
        "id": "dFg-j6BXKq-x"
      },
      "source": [
        "df = pd.read_csv(\"spam2.csv\", index_col=0)"
      ],
      "execution_count": 5,
      "outputs": []
    },
    {
      "cell_type": "code",
      "metadata": {
        "colab": {
          "base_uri": "https://localhost:8080/",
          "height": 419
        },
        "id": "pWluEfUXLquX",
        "outputId": "8312375d-a97f-4f06-c2c2-648df72d70cc"
      },
      "source": [
        "df"
      ],
      "execution_count": 6,
      "outputs": [
        {
          "output_type": "execute_result",
          "data": {
            "text/html": [
              "<div>\n",
              "<style scoped>\n",
              "    .dataframe tbody tr th:only-of-type {\n",
              "        vertical-align: middle;\n",
              "    }\n",
              "\n",
              "    .dataframe tbody tr th {\n",
              "        vertical-align: top;\n",
              "    }\n",
              "\n",
              "    .dataframe thead th {\n",
              "        text-align: right;\n",
              "    }\n",
              "</style>\n",
              "<table border=\"1\" class=\"dataframe\">\n",
              "  <thead>\n",
              "    <tr style=\"text-align: right;\">\n",
              "      <th></th>\n",
              "      <th>문자내용</th>\n",
              "      <th>스팸/햄</th>\n",
              "      <th>스팸의 종류</th>\n",
              "      <th></th>\n",
              "    </tr>\n",
              "  </thead>\n",
              "  <tbody>\n",
              "    <tr>\n",
              "      <th>0</th>\n",
              "      <td>[Web발신] (광고)핸드폰개통점입니다. ▷Galaxy S21 선착순43명 무료 성...</td>\n",
              "      <td>스팸</td>\n",
              "      <td>2.0</td>\n",
              "      <td>NaN</td>\n",
              "    </tr>\n",
              "    <tr>\n",
              "      <th>1</th>\n",
              "      <td>[Web발신] 안녕하세요 핸드폰개통점입니다 갤럭시S21//삼성A426 *기계값 90...</td>\n",
              "      <td>스팸</td>\n",
              "      <td>2.0</td>\n",
              "      <td>NaN</td>\n",
              "    </tr>\n",
              "    <tr>\n",
              "      <th>2</th>\n",
              "      <td>[Web발신] (광고) ▶인터넷 혜:택 제공팀  안녕하십니까~  혜:택부서팀장 허윤...</td>\n",
              "      <td>스팸</td>\n",
              "      <td>2.0</td>\n",
              "      <td>NaN</td>\n",
              "    </tr>\n",
              "    <tr>\n",
              "      <th>3</th>\n",
              "      <td>[Web발신] (광고) LG.SK.KT 인-터넷 통신사 이.동&amp;신.규 52만원(45...</td>\n",
              "      <td>스팸</td>\n",
              "      <td>2.0</td>\n",
              "      <td>NaN</td>\n",
              "    </tr>\n",
              "    <tr>\n",
              "      <th>4</th>\n",
              "      <td>[Web발신] (광고)♥kt노트10 ♥15만원 한정수량 이름: 전화번호: 신청 문자...</td>\n",
              "      <td>스팸</td>\n",
              "      <td>2.0</td>\n",
              "      <td>NaN</td>\n",
              "    </tr>\n",
              "    <tr>\n",
              "      <th>...</th>\n",
              "      <td>...</td>\n",
              "      <td>...</td>\n",
              "      <td>...</td>\n",
              "      <td>...</td>\n",
              "    </tr>\n",
              "    <tr>\n",
              "      <th>1560</th>\n",
              "      <td>막 하룻밤 즐겼는데  상대가 코로나 확진자라면???</td>\n",
              "      <td>햄</td>\n",
              "      <td>0.0</td>\n",
              "      <td>0.0</td>\n",
              "    </tr>\n",
              "    <tr>\n",
              "      <th>1561</th>\n",
              "      <td>클럽 세군데 넘게 갔다는데 하룻밤인지 며칠인지 알수는 없고</td>\n",
              "      <td>햄</td>\n",
              "      <td>0.0</td>\n",
              "      <td>0.0</td>\n",
              "    </tr>\n",
              "    <tr>\n",
              "      <th>1562</th>\n",
              "      <td>하룻밤 보내면 남친이미줘</td>\n",
              "      <td>햄</td>\n",
              "      <td>0.0</td>\n",
              "      <td>0.0</td>\n",
              "    </tr>\n",
              "    <tr>\n",
              "      <th>1563</th>\n",
              "      <td>평균치는 하룻밤정도 타이레놀 먹고 끙끙거리고 담날 피곤해하는정도?</td>\n",
              "      <td>햄</td>\n",
              "      <td>0.0</td>\n",
              "      <td>0.0</td>\n",
              "    </tr>\n",
              "    <tr>\n",
              "      <th>1564</th>\n",
              "      <td>얀센맞아서 무적이라고 생각하나본데 변이걸려서 발기부전오길 기원</td>\n",
              "      <td>햄</td>\n",
              "      <td>0.0</td>\n",
              "      <td>0.0</td>\n",
              "    </tr>\n",
              "  </tbody>\n",
              "</table>\n",
              "<p>1565 rows × 4 columns</p>\n",
              "</div>"
            ],
            "text/plain": [
              "                                                   문자내용 스팸/햄  스팸의 종류     \n",
              "0     [Web발신] (광고)핸드폰개통점입니다. ▷Galaxy S21 선착순43명 무료 성...   스팸     2.0  NaN\n",
              "1     [Web발신] 안녕하세요 핸드폰개통점입니다 갤럭시S21//삼성A426 *기계값 90...   스팸     2.0  NaN\n",
              "2     [Web발신] (광고) ▶인터넷 혜:택 제공팀  안녕하십니까~  혜:택부서팀장 허윤...   스팸     2.0  NaN\n",
              "3     [Web발신] (광고) LG.SK.KT 인-터넷 통신사 이.동&신.규 52만원(45...   스팸     2.0  NaN\n",
              "4     [Web발신] (광고)♥kt노트10 ♥15만원 한정수량 이름: 전화번호: 신청 문자...   스팸     2.0  NaN\n",
              "...                                                 ...  ...     ...  ...\n",
              "1560                       막 하룻밤 즐겼는데  상대가 코로나 확진자라면???    햄     0.0  0.0\n",
              "1561                   클럽 세군데 넘게 갔다는데 하룻밤인지 며칠인지 알수는 없고    햄     0.0  0.0\n",
              "1562                                      하룻밤 보내면 남친이미줘    햄     0.0  0.0\n",
              "1563               평균치는 하룻밤정도 타이레놀 먹고 끙끙거리고 담날 피곤해하는정도?    햄     0.0  0.0\n",
              "1564                 얀센맞아서 무적이라고 생각하나본데 변이걸려서 발기부전오길 기원    햄     0.0  0.0\n",
              "\n",
              "[1565 rows x 4 columns]"
            ]
          },
          "metadata": {
            "tags": []
          },
          "execution_count": 6
        }
      ]
    },
    {
      "cell_type": "code",
      "metadata": {
        "colab": {
          "base_uri": "https://localhost:8080/"
        },
        "id": "MdjiLDrRKua0",
        "outputId": "517c8c1c-342e-4ca7-d086-f12b9f3bf08b"
      },
      "source": [
        "df['스팸의 종류'].unique()"
      ],
      "execution_count": 10,
      "outputs": [
        {
          "output_type": "execute_result",
          "data": {
            "text/plain": [
              "array([ 2.,  8.,  4.,  7.,  5.,  6.,  3.,  9., nan,  0.])"
            ]
          },
          "metadata": {
            "tags": []
          },
          "execution_count": 10
        }
      ]
    },
    {
      "cell_type": "code",
      "metadata": {
        "colab": {
          "base_uri": "https://localhost:8080/"
        },
        "id": "ucSbGCHokCuS",
        "outputId": "1ed74ed1-4a60-4573-8fdd-9e73a75f4e4d"
      },
      "source": [
        "df['스팸/햄'].unique()"
      ],
      "execution_count": 11,
      "outputs": [
        {
          "output_type": "execute_result",
          "data": {
            "text/plain": [
              "array(['스팸', '햄'], dtype=object)"
            ]
          },
          "metadata": {
            "tags": []
          },
          "execution_count": 11
        }
      ]
    },
    {
      "cell_type": "markdown",
      "metadata": {
        "id": "KajUgf09kJhs"
      },
      "source": [
        "스팸인 데이터만 불러보겠습니다."
      ]
    },
    {
      "cell_type": "code",
      "metadata": {
        "colab": {
          "base_uri": "https://localhost:8080/",
          "height": 419
        },
        "id": "vfb3GXA2LPOr",
        "outputId": "931a8b69-e1b2-4e87-cc5d-dab0c27b7b41"
      },
      "source": [
        "df[df['스팸/햄']=='스팸']"
      ],
      "execution_count": 12,
      "outputs": [
        {
          "output_type": "execute_result",
          "data": {
            "text/html": [
              "<div>\n",
              "<style scoped>\n",
              "    .dataframe tbody tr th:only-of-type {\n",
              "        vertical-align: middle;\n",
              "    }\n",
              "\n",
              "    .dataframe tbody tr th {\n",
              "        vertical-align: top;\n",
              "    }\n",
              "\n",
              "    .dataframe thead th {\n",
              "        text-align: right;\n",
              "    }\n",
              "</style>\n",
              "<table border=\"1\" class=\"dataframe\">\n",
              "  <thead>\n",
              "    <tr style=\"text-align: right;\">\n",
              "      <th></th>\n",
              "      <th>문자내용</th>\n",
              "      <th>스팸/햄</th>\n",
              "      <th>스팸의 종류</th>\n",
              "      <th></th>\n",
              "    </tr>\n",
              "  </thead>\n",
              "  <tbody>\n",
              "    <tr>\n",
              "      <th>0</th>\n",
              "      <td>[Web발신] (광고)핸드폰개통점입니다. ▷Galaxy S21 선착순43명 무료 성...</td>\n",
              "      <td>스팸</td>\n",
              "      <td>2.0</td>\n",
              "      <td>NaN</td>\n",
              "    </tr>\n",
              "    <tr>\n",
              "      <th>1</th>\n",
              "      <td>[Web발신] 안녕하세요 핸드폰개통점입니다 갤럭시S21//삼성A426 *기계값 90...</td>\n",
              "      <td>스팸</td>\n",
              "      <td>2.0</td>\n",
              "      <td>NaN</td>\n",
              "    </tr>\n",
              "    <tr>\n",
              "      <th>2</th>\n",
              "      <td>[Web발신] (광고) ▶인터넷 혜:택 제공팀  안녕하십니까~  혜:택부서팀장 허윤...</td>\n",
              "      <td>스팸</td>\n",
              "      <td>2.0</td>\n",
              "      <td>NaN</td>\n",
              "    </tr>\n",
              "    <tr>\n",
              "      <th>3</th>\n",
              "      <td>[Web발신] (광고) LG.SK.KT 인-터넷 통신사 이.동&amp;신.규 52만원(45...</td>\n",
              "      <td>스팸</td>\n",
              "      <td>2.0</td>\n",
              "      <td>NaN</td>\n",
              "    </tr>\n",
              "    <tr>\n",
              "      <th>4</th>\n",
              "      <td>[Web발신] (광고)♥kt노트10 ♥15만원 한정수량 이름: 전화번호: 신청 문자...</td>\n",
              "      <td>스팸</td>\n",
              "      <td>2.0</td>\n",
              "      <td>NaN</td>\n",
              "    </tr>\n",
              "    <tr>\n",
              "      <th>...</th>\n",
              "      <td>...</td>\n",
              "      <td>...</td>\n",
              "      <td>...</td>\n",
              "      <td>...</td>\n",
              "    </tr>\n",
              "    <tr>\n",
              "      <th>799</th>\n",
              "      <td>[코멘토] 서포터즈하고 에어팟프로 받고  [Web발신]  울산대학교의 제휴혜택을 널...</td>\n",
              "      <td>스팸</td>\n",
              "      <td>9.0</td>\n",
              "      <td>NaN</td>\n",
              "    </tr>\n",
              "    <tr>\n",
              "      <th>800</th>\n",
              "      <td>[Web발신]  울산대 학생이세요? 이벤트 참여하고 베라도 받아보세요:)  ▶ ht...</td>\n",
              "      <td>스팸</td>\n",
              "      <td>9.0</td>\n",
              "      <td>NaN</td>\n",
              "    </tr>\n",
              "    <tr>\n",
              "      <th>801</th>\n",
              "      <td>누구나 주문할 때마다 5,OOO원 할인!  [Web발신]  (광고) 누구나 주문할 ...</td>\n",
              "      <td>스팸</td>\n",
              "      <td>9.0</td>\n",
              "      <td>NaN</td>\n",
              "    </tr>\n",
              "    <tr>\n",
              "      <th>802</th>\n",
              "      <td>[LG U+]  [Web발신]  (광고)[LG U+]아이폰 수리비 할인 안내  고객...</td>\n",
              "      <td>스팸</td>\n",
              "      <td>9.0</td>\n",
              "      <td>NaN</td>\n",
              "    </tr>\n",
              "    <tr>\n",
              "      <th>803</th>\n",
              "      <td>아이맥스안경원  3-4월 행사안내  및  주차 안내    ♡ 울산페이 결제 가능합니...</td>\n",
              "      <td>스팸</td>\n",
              "      <td>9.0</td>\n",
              "      <td>NaN</td>\n",
              "    </tr>\n",
              "  </tbody>\n",
              "</table>\n",
              "<p>804 rows × 4 columns</p>\n",
              "</div>"
            ],
            "text/plain": [
              "                                                  문자내용 스팸/햄  스팸의 종류    \n",
              "0    [Web발신] (광고)핸드폰개통점입니다. ▷Galaxy S21 선착순43명 무료 성...   스팸     2.0 NaN\n",
              "1    [Web발신] 안녕하세요 핸드폰개통점입니다 갤럭시S21//삼성A426 *기계값 90...   스팸     2.0 NaN\n",
              "2    [Web발신] (광고) ▶인터넷 혜:택 제공팀  안녕하십니까~  혜:택부서팀장 허윤...   스팸     2.0 NaN\n",
              "3    [Web발신] (광고) LG.SK.KT 인-터넷 통신사 이.동&신.규 52만원(45...   스팸     2.0 NaN\n",
              "4    [Web발신] (광고)♥kt노트10 ♥15만원 한정수량 이름: 전화번호: 신청 문자...   스팸     2.0 NaN\n",
              "..                                                 ...  ...     ...  ..\n",
              "799  [코멘토] 서포터즈하고 에어팟프로 받고  [Web발신]  울산대학교의 제휴혜택을 널...   스팸     9.0 NaN\n",
              "800  [Web발신]  울산대 학생이세요? 이벤트 참여하고 베라도 받아보세요:)  ▶ ht...   스팸     9.0 NaN\n",
              "801  누구나 주문할 때마다 5,OOO원 할인!  [Web발신]  (광고) 누구나 주문할 ...   스팸     9.0 NaN\n",
              "802  [LG U+]  [Web발신]  (광고)[LG U+]아이폰 수리비 할인 안내  고객...   스팸     9.0 NaN\n",
              "803  아이맥스안경원  3-4월 행사안내  및  주차 안내    ♡ 울산페이 결제 가능합니...   스팸     9.0 NaN\n",
              "\n",
              "[804 rows x 4 columns]"
            ]
          },
          "metadata": {
            "tags": []
          },
          "execution_count": 12
        }
      ]
    },
    {
      "cell_type": "markdown",
      "metadata": {
        "id": "tDsNlnqtkL92"
      },
      "source": [
        "햄도 한 번 볼까요?"
      ]
    },
    {
      "cell_type": "code",
      "metadata": {
        "colab": {
          "base_uri": "https://localhost:8080/",
          "height": 419
        },
        "id": "V9WiSBcwkNuM",
        "outputId": "989019a8-e1cb-40d2-ce8a-58a9c94f2ca3"
      },
      "source": [
        "df[df['스팸/햄']=='햄']"
      ],
      "execution_count": 13,
      "outputs": [
        {
          "output_type": "execute_result",
          "data": {
            "text/html": [
              "<div>\n",
              "<style scoped>\n",
              "    .dataframe tbody tr th:only-of-type {\n",
              "        vertical-align: middle;\n",
              "    }\n",
              "\n",
              "    .dataframe tbody tr th {\n",
              "        vertical-align: top;\n",
              "    }\n",
              "\n",
              "    .dataframe thead th {\n",
              "        text-align: right;\n",
              "    }\n",
              "</style>\n",
              "<table border=\"1\" class=\"dataframe\">\n",
              "  <thead>\n",
              "    <tr style=\"text-align: right;\">\n",
              "      <th></th>\n",
              "      <th>문자내용</th>\n",
              "      <th>스팸/햄</th>\n",
              "      <th>스팸의 종류</th>\n",
              "      <th></th>\n",
              "    </tr>\n",
              "  </thead>\n",
              "  <tbody>\n",
              "    <tr>\n",
              "      <th>804</th>\n",
              "      <td>(광고)이니스프리 씨드 멤버십 제도 변경 안내(7/1~) ☞ goo.gl/KXzwp...</td>\n",
              "      <td>햄</td>\n",
              "      <td>NaN</td>\n",
              "      <td>NaN</td>\n",
              "    </tr>\n",
              "    <tr>\n",
              "      <th>805</th>\n",
              "      <td>(주)HR컨설팅그룹 헤드헌터 정성원 상무입니다.  서울시 금천구에 소재한 바이오 선...</td>\n",
              "      <td>햄</td>\n",
              "      <td>NaN</td>\n",
              "      <td>NaN</td>\n",
              "    </tr>\n",
              "    <tr>\n",
              "      <th>806</th>\n",
              "      <td>* 안녕하세요~ 주문하신 음식 도착했습니다.</td>\n",
              "      <td>햄</td>\n",
              "      <td>NaN</td>\n",
              "      <td>NaN</td>\n",
              "    </tr>\n",
              "    <tr>\n",
              "      <th>807</th>\n",
              "      <td>[CJ택배 배송완료]  고객님의 상품(6378068347</td>\n",
              "      <td>햄</td>\n",
              "      <td>NaN</td>\n",
              "      <td>NaN</td>\n",
              "    </tr>\n",
              "    <tr>\n",
              "      <th>808</th>\n",
              "      <td>[Web 발신] [CJ대한통운 택배_배송완료]  박주* 고객님 반갑습니다. 행복을 ...</td>\n",
              "      <td>햄</td>\n",
              "      <td>NaN</td>\n",
              "      <td>NaN</td>\n",
              "    </tr>\n",
              "    <tr>\n",
              "      <th>...</th>\n",
              "      <td>...</td>\n",
              "      <td>...</td>\n",
              "      <td>...</td>\n",
              "      <td>...</td>\n",
              "    </tr>\n",
              "    <tr>\n",
              "      <th>1560</th>\n",
              "      <td>막 하룻밤 즐겼는데  상대가 코로나 확진자라면???</td>\n",
              "      <td>햄</td>\n",
              "      <td>0.0</td>\n",
              "      <td>0.0</td>\n",
              "    </tr>\n",
              "    <tr>\n",
              "      <th>1561</th>\n",
              "      <td>클럽 세군데 넘게 갔다는데 하룻밤인지 며칠인지 알수는 없고</td>\n",
              "      <td>햄</td>\n",
              "      <td>0.0</td>\n",
              "      <td>0.0</td>\n",
              "    </tr>\n",
              "    <tr>\n",
              "      <th>1562</th>\n",
              "      <td>하룻밤 보내면 남친이미줘</td>\n",
              "      <td>햄</td>\n",
              "      <td>0.0</td>\n",
              "      <td>0.0</td>\n",
              "    </tr>\n",
              "    <tr>\n",
              "      <th>1563</th>\n",
              "      <td>평균치는 하룻밤정도 타이레놀 먹고 끙끙거리고 담날 피곤해하는정도?</td>\n",
              "      <td>햄</td>\n",
              "      <td>0.0</td>\n",
              "      <td>0.0</td>\n",
              "    </tr>\n",
              "    <tr>\n",
              "      <th>1564</th>\n",
              "      <td>얀센맞아서 무적이라고 생각하나본데 변이걸려서 발기부전오길 기원</td>\n",
              "      <td>햄</td>\n",
              "      <td>0.0</td>\n",
              "      <td>0.0</td>\n",
              "    </tr>\n",
              "  </tbody>\n",
              "</table>\n",
              "<p>761 rows × 4 columns</p>\n",
              "</div>"
            ],
            "text/plain": [
              "                                                   문자내용 스팸/햄  스팸의 종류     \n",
              "804   (광고)이니스프리 씨드 멤버십 제도 변경 안내(7/1~) ☞ goo.gl/KXzwp...    햄     NaN  NaN\n",
              "805   (주)HR컨설팅그룹 헤드헌터 정성원 상무입니다.  서울시 금천구에 소재한 바이오 선...    햄     NaN  NaN\n",
              "806                            * 안녕하세요~ 주문하신 음식 도착했습니다.    햄     NaN  NaN\n",
              "807                     [CJ택배 배송완료]  고객님의 상품(6378068347    햄     NaN  NaN\n",
              "808   [Web 발신] [CJ대한통운 택배_배송완료]  박주* 고객님 반갑습니다. 행복을 ...    햄     NaN  NaN\n",
              "...                                                 ...  ...     ...  ...\n",
              "1560                       막 하룻밤 즐겼는데  상대가 코로나 확진자라면???    햄     0.0  0.0\n",
              "1561                   클럽 세군데 넘게 갔다는데 하룻밤인지 며칠인지 알수는 없고    햄     0.0  0.0\n",
              "1562                                      하룻밤 보내면 남친이미줘    햄     0.0  0.0\n",
              "1563               평균치는 하룻밤정도 타이레놀 먹고 끙끙거리고 담날 피곤해하는정도?    햄     0.0  0.0\n",
              "1564                 얀센맞아서 무적이라고 생각하나본데 변이걸려서 발기부전오길 기원    햄     0.0  0.0\n",
              "\n",
              "[761 rows x 4 columns]"
            ]
          },
          "metadata": {
            "tags": []
          },
          "execution_count": 13
        }
      ]
    },
    {
      "cell_type": "markdown",
      "metadata": {
        "id": "gFVlf0WE_PIu"
      },
      "source": [
        "### 데이터셋 구성"
      ]
    },
    {
      "cell_type": "markdown",
      "metadata": {
        "id": "_oxfAB2IxObA"
      },
      "source": [
        "정상 문자는 `y` 값을 `0`으로 주고,   \n",
        "스팸 문자는 `y` 값을 `1`로 주겠습니다."
      ]
    },
    {
      "cell_type": "code",
      "metadata": {
        "id": "ZwbDso-IkbEh"
      },
      "source": [
        "df.loc[df['스팸/햄']=='햄', 'y'] = 0\n",
        "df.loc[df['스팸/햄']=='스팸', 'y'] = 1"
      ],
      "execution_count": 7,
      "outputs": []
    },
    {
      "cell_type": "code",
      "metadata": {
        "colab": {
          "base_uri": "https://localhost:8080/",
          "height": 419
        },
        "id": "pqX887K3ka4M",
        "outputId": "9706927b-aa93-4dab-8dc4-ac48d0b2eb9a"
      },
      "source": [
        "df"
      ],
      "execution_count": 15,
      "outputs": [
        {
          "output_type": "execute_result",
          "data": {
            "text/html": [
              "<div>\n",
              "<style scoped>\n",
              "    .dataframe tbody tr th:only-of-type {\n",
              "        vertical-align: middle;\n",
              "    }\n",
              "\n",
              "    .dataframe tbody tr th {\n",
              "        vertical-align: top;\n",
              "    }\n",
              "\n",
              "    .dataframe thead th {\n",
              "        text-align: right;\n",
              "    }\n",
              "</style>\n",
              "<table border=\"1\" class=\"dataframe\">\n",
              "  <thead>\n",
              "    <tr style=\"text-align: right;\">\n",
              "      <th></th>\n",
              "      <th>문자내용</th>\n",
              "      <th>스팸/햄</th>\n",
              "      <th>스팸의 종류</th>\n",
              "      <th></th>\n",
              "      <th>y</th>\n",
              "    </tr>\n",
              "  </thead>\n",
              "  <tbody>\n",
              "    <tr>\n",
              "      <th>0</th>\n",
              "      <td>[Web발신] (광고)핸드폰개통점입니다. ▷Galaxy S21 선착순43명 무료 성...</td>\n",
              "      <td>스팸</td>\n",
              "      <td>2.0</td>\n",
              "      <td>NaN</td>\n",
              "      <td>1.0</td>\n",
              "    </tr>\n",
              "    <tr>\n",
              "      <th>1</th>\n",
              "      <td>[Web발신] 안녕하세요 핸드폰개통점입니다 갤럭시S21//삼성A426 *기계값 90...</td>\n",
              "      <td>스팸</td>\n",
              "      <td>2.0</td>\n",
              "      <td>NaN</td>\n",
              "      <td>1.0</td>\n",
              "    </tr>\n",
              "    <tr>\n",
              "      <th>2</th>\n",
              "      <td>[Web발신] (광고) ▶인터넷 혜:택 제공팀  안녕하십니까~  혜:택부서팀장 허윤...</td>\n",
              "      <td>스팸</td>\n",
              "      <td>2.0</td>\n",
              "      <td>NaN</td>\n",
              "      <td>1.0</td>\n",
              "    </tr>\n",
              "    <tr>\n",
              "      <th>3</th>\n",
              "      <td>[Web발신] (광고) LG.SK.KT 인-터넷 통신사 이.동&amp;신.규 52만원(45...</td>\n",
              "      <td>스팸</td>\n",
              "      <td>2.0</td>\n",
              "      <td>NaN</td>\n",
              "      <td>1.0</td>\n",
              "    </tr>\n",
              "    <tr>\n",
              "      <th>4</th>\n",
              "      <td>[Web발신] (광고)♥kt노트10 ♥15만원 한정수량 이름: 전화번호: 신청 문자...</td>\n",
              "      <td>스팸</td>\n",
              "      <td>2.0</td>\n",
              "      <td>NaN</td>\n",
              "      <td>1.0</td>\n",
              "    </tr>\n",
              "    <tr>\n",
              "      <th>...</th>\n",
              "      <td>...</td>\n",
              "      <td>...</td>\n",
              "      <td>...</td>\n",
              "      <td>...</td>\n",
              "      <td>...</td>\n",
              "    </tr>\n",
              "    <tr>\n",
              "      <th>1560</th>\n",
              "      <td>막 하룻밤 즐겼는데  상대가 코로나 확진자라면???</td>\n",
              "      <td>햄</td>\n",
              "      <td>0.0</td>\n",
              "      <td>0.0</td>\n",
              "      <td>0.0</td>\n",
              "    </tr>\n",
              "    <tr>\n",
              "      <th>1561</th>\n",
              "      <td>클럽 세군데 넘게 갔다는데 하룻밤인지 며칠인지 알수는 없고</td>\n",
              "      <td>햄</td>\n",
              "      <td>0.0</td>\n",
              "      <td>0.0</td>\n",
              "      <td>0.0</td>\n",
              "    </tr>\n",
              "    <tr>\n",
              "      <th>1562</th>\n",
              "      <td>하룻밤 보내면 남친이미줘</td>\n",
              "      <td>햄</td>\n",
              "      <td>0.0</td>\n",
              "      <td>0.0</td>\n",
              "      <td>0.0</td>\n",
              "    </tr>\n",
              "    <tr>\n",
              "      <th>1563</th>\n",
              "      <td>평균치는 하룻밤정도 타이레놀 먹고 끙끙거리고 담날 피곤해하는정도?</td>\n",
              "      <td>햄</td>\n",
              "      <td>0.0</td>\n",
              "      <td>0.0</td>\n",
              "      <td>0.0</td>\n",
              "    </tr>\n",
              "    <tr>\n",
              "      <th>1564</th>\n",
              "      <td>얀센맞아서 무적이라고 생각하나본데 변이걸려서 발기부전오길 기원</td>\n",
              "      <td>햄</td>\n",
              "      <td>0.0</td>\n",
              "      <td>0.0</td>\n",
              "      <td>0.0</td>\n",
              "    </tr>\n",
              "  </tbody>\n",
              "</table>\n",
              "<p>1565 rows × 5 columns</p>\n",
              "</div>"
            ],
            "text/plain": [
              "                                                   문자내용 스팸/햄  스팸의 종류         y\n",
              "0     [Web발신] (광고)핸드폰개통점입니다. ▷Galaxy S21 선착순43명 무료 성...   스팸     2.0  NaN  1.0\n",
              "1     [Web발신] 안녕하세요 핸드폰개통점입니다 갤럭시S21//삼성A426 *기계값 90...   스팸     2.0  NaN  1.0\n",
              "2     [Web발신] (광고) ▶인터넷 혜:택 제공팀  안녕하십니까~  혜:택부서팀장 허윤...   스팸     2.0  NaN  1.0\n",
              "3     [Web발신] (광고) LG.SK.KT 인-터넷 통신사 이.동&신.규 52만원(45...   스팸     2.0  NaN  1.0\n",
              "4     [Web발신] (광고)♥kt노트10 ♥15만원 한정수량 이름: 전화번호: 신청 문자...   스팸     2.0  NaN  1.0\n",
              "...                                                 ...  ...     ...  ...  ...\n",
              "1560                       막 하룻밤 즐겼는데  상대가 코로나 확진자라면???    햄     0.0  0.0  0.0\n",
              "1561                   클럽 세군데 넘게 갔다는데 하룻밤인지 며칠인지 알수는 없고    햄     0.0  0.0  0.0\n",
              "1562                                      하룻밤 보내면 남친이미줘    햄     0.0  0.0  0.0\n",
              "1563               평균치는 하룻밤정도 타이레놀 먹고 끙끙거리고 담날 피곤해하는정도?    햄     0.0  0.0  0.0\n",
              "1564                 얀센맞아서 무적이라고 생각하나본데 변이걸려서 발기부전오길 기원    햄     0.0  0.0  0.0\n",
              "\n",
              "[1565 rows x 5 columns]"
            ]
          },
          "metadata": {
            "tags": []
          },
          "execution_count": 15
        }
      ]
    },
    {
      "cell_type": "markdown",
      "metadata": {
        "id": "5-8R2GPU_Sg8"
      },
      "source": [
        "이제 학습시킬 데이터를 `data_x`와 `data_y`로 만듭니다."
      ]
    },
    {
      "cell_type": "code",
      "metadata": {
        "id": "JxSy-B7FmMrR"
      },
      "source": [
        "data_x = df['문자내용'].values\n",
        "data_y = df['y'].values"
      ],
      "execution_count": 8,
      "outputs": []
    },
    {
      "cell_type": "markdown",
      "metadata": {
        "id": "w4NNUabt_XL_"
      },
      "source": [
        "이를 라이브러리 scikit-learn의 `train_test_split` 함수를 이용해 분리하겠습니다."
      ]
    },
    {
      "cell_type": "markdown",
      "metadata": {
        "id": "zZEc5lPmoE7d"
      },
      "source": [
        "https://scikit-learn.org/stable/modules/generated/sklearn.model_selection.train_test_split.html"
      ]
    },
    {
      "cell_type": "code",
      "metadata": {
        "id": "7HwzxdiVmyn2"
      },
      "source": [
        "from sklearn.model_selection import train_test_split"
      ],
      "execution_count": 9,
      "outputs": []
    },
    {
      "cell_type": "code",
      "metadata": {
        "id": "psRkoLHxmtGw"
      },
      "source": [
        "X_train, X_test, y_train, y_test = train_test_split(data_x, data_y, test_size=0.3, random_state=42)"
      ],
      "execution_count": 10,
      "outputs": []
    },
    {
      "cell_type": "markdown",
      "metadata": {
        "id": "1nTv8cJt_eW8"
      },
      "source": [
        "학습할 데이터는 1095개, 테스트할 데이터는 470개로 구분되었네요."
      ]
    },
    {
      "cell_type": "code",
      "metadata": {
        "colab": {
          "base_uri": "https://localhost:8080/"
        },
        "id": "mCGChCYPo-UP",
        "outputId": "aec46e63-5539-4858-c7aa-3693290878b8"
      },
      "source": [
        "print(\"Train data:\", X_train.shape, \" Test data:\", X_test.shape)"
      ],
      "execution_count": 11,
      "outputs": [
        {
          "output_type": "stream",
          "text": [
            "Train data: (1095,)  Test data: (470,)\n"
          ],
          "name": "stdout"
        }
      ]
    },
    {
      "cell_type": "markdown",
      "metadata": {
        "id": "ObiXYeVC_m5V"
      },
      "source": [
        "스팸과 햄이 얼마나 들어 잇는지도 볼까요?"
      ]
    },
    {
      "cell_type": "code",
      "metadata": {
        "colab": {
          "base_uri": "https://localhost:8080/",
          "height": 265
        },
        "id": "Edw_cCZ-_ocp",
        "outputId": "6a7b8c6f-4fcf-4dd0-b656-a49729d1040a"
      },
      "source": [
        "plt.hist(y_train);"
      ],
      "execution_count": 113,
      "outputs": [
        {
          "output_type": "display_data",
          "data": {
            "image/png": "[encoded data removed]",
            "text/plain": [
              "<Figure size 432x288 with 1 Axes>"
            ]
          },
          "metadata": {
            "tags": [],
            "needs_background": "light"
          }
        }
      ]
    },
    {
      "cell_type": "code",
      "metadata": {
        "colab": {
          "base_uri": "https://localhost:8080/",
          "height": 265
        },
        "id": "CUa2392E_0T3",
        "outputId": "f6e9335c-a7ee-4b6d-b35e-95b1f46e4fe9"
      },
      "source": [
        "plt.hist(y_test);"
      ],
      "execution_count": 114,
      "outputs": [
        {
          "output_type": "display_data",
          "data": {
            "image/png": "[encoded data removed]",
            "text/plain": [
              "<Figure size 432x288 with 1 Axes>"
            ]
          },
          "metadata": {
            "tags": [],
            "needs_background": "light"
          }
        }
      ]
    },
    {
      "cell_type": "markdown",
      "metadata": {
        "id": "h5xP66vf_3BB"
      },
      "source": [
        "비슷한 비율로 들어 있네요!"
      ]
    },
    {
      "cell_type": "markdown",
      "metadata": {
        "id": "4SKNMbJU_4qI"
      },
      "source": [
        "## Autokeras 학습"
      ]
    },
    {
      "cell_type": "code",
      "metadata": {
        "colab": {
          "base_uri": "https://localhost:8080/"
        },
        "id": "eg0XACo5GcfM",
        "outputId": "2c66ecec-67fc-4273-c4c7-3ad67d96aae9"
      },
      "source": [
        "# Initialize the text classifier.\n",
        "clf = ak.TextClassifier(\n",
        "    overwrite=True, max_trials=1\n",
        ")  # It only tries 1 model as a quick demo.\n",
        "# Feed the text classifier with training data.\n",
        "clf.fit(X_train, y_train, epochs=2)\n",
        "# Predict with the best model.\n",
        "predicted_y = clf.predict(X_test)\n",
        "# Evaluate the best model with testing data.\n",
        "print(clf.evaluate(X_test, y_test))"
      ],
      "execution_count": 20,
      "outputs": [
        {
          "output_type": "stream",
          "text": [
            "Trial 1 Complete [00h 00m 18s]\n",
            "val_loss: 0.6748178601264954\n",
            "\n",
            "Best val_loss So Far: 0.6748178601264954\n",
            "Total elapsed time: 00h 00m 18s\n",
            "INFO:tensorflow:Oracle triggered exit\n",
            "Epoch 1/2\n",
            "35/35 [==============================] - 1s 12ms/step - loss: 0.6909 - accuracy: 0.5297\n",
            "Epoch 2/2\n",
            "35/35 [==============================] - 0s 12ms/step - loss: 0.6739 - accuracy: 0.5982\n",
            "INFO:tensorflow:Assets written to: ./text_classifier/best_model/assets\n",
            "15/15 [==============================] - 0s 5ms/step\n",
            "15/15 [==============================] - 0s 6ms/step - loss: 0.6428 - accuracy: 0.7340\n",
            "[0.6428483128547668, 0.7340425252914429]\n"
          ],
          "name": "stdout"
        }
      ]
    },
    {
      "cell_type": "markdown",
      "metadata": {
        "id": "Lr6rl06n_8nh"
      },
      "source": [
        "아주 간단한 명령어로 혼자 학습 하고 끝났네요.   \n",
        "테스트 데이터에 대한 평가는 아래와 같이 할 수 있습니다."
      ]
    },
    {
      "cell_type": "code",
      "metadata": {
        "colab": {
          "base_uri": "https://localhost:8080/"
        },
        "id": "s0kgPcdjply4",
        "outputId": "f362596a-f683-4816-d972-d07417cdb559"
      },
      "source": [
        "clf.evaluate(X_test, y_test, verbose=1)"
      ],
      "execution_count": 21,
      "outputs": [
        {
          "output_type": "stream",
          "text": [
            "15/15 [==============================] - 0s 6ms/step - loss: 0.6428 - accuracy: 0.7340\n"
          ],
          "name": "stdout"
        },
        {
          "output_type": "execute_result",
          "data": {
            "text/plain": [
              "[0.6428483128547668, 0.7340425252914429]"
            ]
          },
          "metadata": {
            "tags": []
          },
          "execution_count": 21
        }
      ]
    },
    {
      "cell_type": "markdown",
      "metadata": {
        "id": "ztcub9VvADYF"
      },
      "source": [
        "이 실험을 여러 번 반복해 볼까요?   \n",
        "일단 20번 반복하겠습니다."
      ]
    },
    {
      "cell_type": "code",
      "metadata": {
        "colab": {
          "base_uri": "https://localhost:8080/"
        },
        "id": "bXh9byUlpxOP",
        "outputId": "cfc46d05-05d3-4817-b61a-f4b15feb9e84"
      },
      "source": [
        "# Initialize the text classifier.\n",
        "clf = ak.TextClassifier(\n",
        "    overwrite=True, max_trials=20\n",
        ")  # It only tries 1 model as a quick demo.\n",
        "# Feed the text classifier with training data.\n",
        "clf.fit(X_train, y_train, epochs=30, batch_size=8)\n",
        "# Predict with the best model.\n",
        "predicted_y = clf.predict(X_test)\n",
        "# Evaluate the best model with testing data.\n",
        "print(clf.evaluate(X_test, y_test))"
      ],
      "execution_count": 19,
      "outputs": [
        {
          "output_type": "stream",
          "text": [
            "Trial 20 Complete [00h 00m 18s]\n",
            "val_loss: 0.41618016362190247\n",
            "\n",
            "Best val_loss So Far: 0.39898377656936646\n",
            "Total elapsed time: 00h 23m 52s\n",
            "INFO:tensorflow:Oracle triggered exit\n",
            "Epoch 1/30\n",
            "137/137 [==============================] - 2s 9ms/step - loss: 0.6914 - accuracy: 0.5224\n",
            "Epoch 2/30\n",
            "137/137 [==============================] - 1s 8ms/step - loss: 0.4571 - accuracy: 0.8082\n",
            "Epoch 3/30\n",
            "137/137 [==============================] - 1s 8ms/step - loss: 0.1498 - accuracy: 0.9443\n",
            "Epoch 4/30\n",
            "137/137 [==============================] - 1s 8ms/step - loss: 0.0674 - accuracy: 0.9763\n",
            "Epoch 5/30\n",
            "137/137 [==============================] - 1s 9ms/step - loss: 0.0490 - accuracy: 0.9808\n",
            "Epoch 6/30\n",
            "137/137 [==============================] - 1s 9ms/step - loss: 0.0378 - accuracy: 0.9826\n",
            "Epoch 7/30\n",
            "137/137 [==============================] - 1s 9ms/step - loss: 0.0388 - accuracy: 0.9808\n",
            "Epoch 8/30\n",
            "137/137 [==============================] - 1s 9ms/step - loss: 0.0354 - accuracy: 0.9826\n",
            "Epoch 9/30\n",
            "137/137 [==============================] - 1s 9ms/step - loss: 0.0334 - accuracy: 0.9817\n",
            "Epoch 10/30\n",
            "137/137 [==============================] - 1s 8ms/step - loss: 0.0327 - accuracy: 0.9863\n",
            "Epoch 11/30\n",
            "137/137 [==============================] - 1s 9ms/step - loss: 0.0354 - accuracy: 0.9826\n",
            "Epoch 12/30\n",
            "137/137 [==============================] - 1s 9ms/step - loss: 0.0321 - accuracy: 0.9836\n",
            "Epoch 13/30\n",
            "137/137 [==============================] - 1s 8ms/step - loss: 0.0309 - accuracy: 0.9808\n",
            "Epoch 14/30\n",
            "137/137 [==============================] - 1s 8ms/step - loss: 0.0314 - accuracy: 0.9845\n",
            "Epoch 15/30\n",
            "137/137 [==============================] - 1s 8ms/step - loss: 0.0304 - accuracy: 0.9826\n",
            "Epoch 16/30\n",
            "137/137 [==============================] - 1s 8ms/step - loss: 0.0327 - accuracy: 0.9845\n",
            "Epoch 17/30\n",
            "137/137 [==============================] - 1s 8ms/step - loss: 0.0338 - accuracy: 0.9836\n",
            "Epoch 18/30\n",
            "137/137 [==============================] - 1s 8ms/step - loss: 0.0316 - accuracy: 0.9826\n",
            "Epoch 19/30\n",
            "137/137 [==============================] - 1s 9ms/step - loss: 0.0306 - accuracy: 0.9817\n",
            "Epoch 20/30\n",
            "137/137 [==============================] - 1s 9ms/step - loss: 0.0298 - accuracy: 0.9826\n",
            "Epoch 21/30\n",
            "137/137 [==============================] - 1s 9ms/step - loss: 0.0322 - accuracy: 0.9826\n",
            "Epoch 22/30\n",
            "137/137 [==============================] - 1s 9ms/step - loss: 0.0314 - accuracy: 0.9826\n",
            "Epoch 23/30\n",
            "137/137 [==============================] - 1s 9ms/step - loss: 0.0299 - accuracy: 0.9836\n",
            "Epoch 24/30\n",
            "137/137 [==============================] - 1s 8ms/step - loss: 0.0296 - accuracy: 0.9808\n",
            "Epoch 25/30\n",
            "137/137 [==============================] - 1s 8ms/step - loss: 0.0293 - accuracy: 0.9845\n",
            "Epoch 26/30\n",
            "137/137 [==============================] - 1s 9ms/step - loss: 0.0297 - accuracy: 0.9826\n",
            "Epoch 27/30\n",
            "137/137 [==============================] - 1s 8ms/step - loss: 0.0279 - accuracy: 0.9845\n",
            "Epoch 28/30\n",
            "137/137 [==============================] - 1s 8ms/step - loss: 0.0287 - accuracy: 0.9854\n",
            "Epoch 29/30\n",
            "137/137 [==============================] - 1s 8ms/step - loss: 0.0287 - accuracy: 0.9845\n",
            "Epoch 30/30\n",
            "137/137 [==============================] - 1s 8ms/step - loss: 0.0304 - accuracy: 0.9845\n",
            "INFO:tensorflow:Assets written to: ./text_classifier/best_model/assets\n",
            "15/15 [==============================] - 0s 5ms/step\n",
            "15/15 [==============================] - 0s 6ms/step - loss: 0.7042 - accuracy: 0.8319\n",
            "[0.7042093276977539, 0.8319149017333984]\n"
          ],
          "name": "stdout"
        }
      ]
    },
    {
      "cell_type": "markdown",
      "metadata": {
        "id": "MH8rg_PWAH75"
      },
      "source": [
        "`83.1%` 성능이 나왔네요!"
      ]
    },
    {
      "cell_type": "code",
      "metadata": {
        "colab": {
          "base_uri": "https://localhost:8080/"
        },
        "id": "aABSAy422TlA",
        "outputId": "3284aca1-e5d2-4c6c-de59-d3168809558d"
      },
      "source": [
        "print(clf.evaluate(X_test, y_test))"
      ],
      "execution_count": 20,
      "outputs": [
        {
          "output_type": "stream",
          "text": [
            "15/15 [==============================] - 0s 6ms/step - loss: 0.7042 - accuracy: 0.8319\n",
            "[0.7042093276977539, 0.8319149017333984]\n"
          ],
          "name": "stdout"
        }
      ]
    },
    {
      "cell_type": "markdown",
      "metadata": {
        "id": "5KKma5fgALpn"
      },
      "source": [
        "최종 선택된 best model의 내부 구조가 어떻게 생겼는지 한 번 보겠습니다."
      ]
    },
    {
      "cell_type": "code",
      "metadata": {
        "colab": {
          "base_uri": "https://localhost:8080/"
        },
        "id": "l4M6sNzh8Ra4",
        "outputId": "4bad82ea-820a-4dcc-e45b-b2c9de181c47"
      },
      "source": [
        "model = clf.export_model()\n",
        "model.summary()"
      ],
      "execution_count": 24,
      "outputs": [
        {
          "output_type": "stream",
          "text": [
            "Model: \"model\"\n",
            "_________________________________________________________________\n",
            "Layer (type)                 Output Shape              Param #   \n",
            "=================================================================\n",
            "input_1 (InputLayer)         [(None,)]                 0         \n",
            "_________________________________________________________________\n",
            "expand_last_dim (ExpandLastD (None, 1)                 0         \n",
            "_________________________________________________________________\n",
            "text_vectorization (TextVect (None, 512)               0         \n",
            "_________________________________________________________________\n",
            "embedding (Embedding)        (None, 512, 64)           320064    \n",
            "_________________________________________________________________\n",
            "dropout (Dropout)            (None, 512, 64)           0         \n",
            "_________________________________________________________________\n",
            "conv1d (Conv1D)              (None, 506, 256)          114944    \n",
            "_________________________________________________________________\n",
            "global_max_pooling1d (Global (None, 256)               0         \n",
            "_________________________________________________________________\n",
            "dense (Dense)                (None, 256)               65792     \n",
            "_________________________________________________________________\n",
            "re_lu (ReLU)                 (None, 256)               0         \n",
            "_________________________________________________________________\n",
            "dropout_1 (Dropout)          (None, 256)               0         \n",
            "_________________________________________________________________\n",
            "dense_1 (Dense)              (None, 1)                 257       \n",
            "_________________________________________________________________\n",
            "classification_head_1 (Activ (None, 1)                 0         \n",
            "=================================================================\n",
            "Total params: 501,057\n",
            "Trainable params: 501,057\n",
            "Non-trainable params: 0\n",
            "_________________________________________________________________\n"
          ],
          "name": "stdout"
        }
      ]
    },
    {
      "cell_type": "markdown",
      "metadata": {
        "id": "5SlVJH1A2D_x"
      },
      "source": [
        "이 모델은 저장해 두었다가 나중에 다시 쓸 수 있어요.   \n",
        "다음과 같이 저장하고 저 저장된 폴더를 다운 받아서 보관하시면 됩니다."
      ]
    },
    {
      "cell_type": "code",
      "metadata": {
        "id": "56ayj0Ng1Iah"
      },
      "source": [
        "model = clf.export_model()"
      ],
      "execution_count": 22,
      "outputs": []
    },
    {
      "cell_type": "code",
      "metadata": {
        "colab": {
          "base_uri": "https://localhost:8080/"
        },
        "id": "rlpMWz7pswW9",
        "outputId": "37b1549b-c182-4b2f-e7bf-64a5936e9096"
      },
      "source": [
        "try:\n",
        "    model.save(\"model_autokeras\", save_format=\"tf\")\n",
        "except Exception:\n",
        "    model.save(\"model_autokeras.h5\")"
      ],
      "execution_count": 23,
      "outputs": [
        {
          "output_type": "stream",
          "text": [
            "INFO:tensorflow:Assets written to: model_autokeras/assets\n"
          ],
          "name": "stdout"
        }
      ]
    },
    {
      "cell_type": "markdown",
      "metadata": {
        "id": "gX77WdrdAYt2"
      },
      "source": [
        "혹시 더 많은 실험(trial)을 하면 더 좋은 성능이 나올 수 있으니 더 돌려보겠습니다.   \n",
        "아래는 200번 실험을 목표로, 1시간 31분 걸려서 나온 결과입니다."
      ]
    },
    {
      "cell_type": "code",
      "metadata": {
        "colab": {
          "base_uri": "https://localhost:8080/"
        },
        "id": "JH5E7Gnx2KAd",
        "outputId": "c7d71c76-2add-4ce5-d1cd-b1e9248688ba"
      },
      "source": [
        "# Initialize the text classifier.\n",
        "clf = ak.TextClassifier(\n",
        "    overwrite=True, max_trials=200\n",
        ")  # It only tries 1 model as a quick demo.\n",
        "# Feed the text classifier with training data.\n",
        "clf.fit(X_train, y_train, epochs=30, batch_size=8)\n",
        "# Predict with the best model.\n",
        "predicted_y = clf.predict(X_test)\n",
        "# Evaluate the best model with testing data.\n",
        "print(clf.evaluate(X_test, y_test))"
      ],
      "execution_count": 28,
      "outputs": [
        {
          "output_type": "stream",
          "text": [
            "Trial 130 Complete [00h 00m 46s]\n",
            "val_loss: 0.3933804929256439\n",
            "\n",
            "Best val_loss So Far: 0.36371904611587524\n",
            "Total elapsed time: 01h 31m 38s\n",
            "INFO:tensorflow:Oracle triggered exit\n",
            "Epoch 1/30\n",
            "137/137 [==============================] - 3s 14ms/step - loss: 0.6941 - accuracy: 0.4941\n",
            "Epoch 2/30\n",
            "137/137 [==============================] - 2s 14ms/step - loss: 0.6846 - accuracy: 0.5772\n",
            "Epoch 3/30\n",
            "137/137 [==============================] - 2s 14ms/step - loss: 0.6739 - accuracy: 0.6374\n",
            "Epoch 4/30\n",
            "137/137 [==============================] - 2s 14ms/step - loss: 0.6376 - accuracy: 0.7306\n",
            "Epoch 5/30\n",
            "137/137 [==============================] - 2s 14ms/step - loss: 0.5646 - accuracy: 0.8365\n",
            "Epoch 6/30\n",
            "137/137 [==============================] - 2s 14ms/step - loss: 0.4511 - accuracy: 0.8977\n",
            "Epoch 7/30\n",
            "137/137 [==============================] - 2s 14ms/step - loss: 0.3198 - accuracy: 0.9333\n",
            "Epoch 8/30\n",
            "137/137 [==============================] - 2s 14ms/step - loss: 0.2220 - accuracy: 0.9507\n",
            "Epoch 9/30\n",
            "137/137 [==============================] - 2s 14ms/step - loss: 0.1540 - accuracy: 0.9671\n",
            "Epoch 10/30\n",
            "137/137 [==============================] - 2s 14ms/step - loss: 0.1152 - accuracy: 0.9726\n",
            "Epoch 11/30\n",
            "137/137 [==============================] - 2s 14ms/step - loss: 0.0961 - accuracy: 0.9744\n",
            "Epoch 12/30\n",
            "137/137 [==============================] - 2s 14ms/step - loss: 0.0745 - accuracy: 0.9808\n",
            "Epoch 13/30\n",
            "137/137 [==============================] - 2s 14ms/step - loss: 0.0631 - accuracy: 0.9799\n",
            "Epoch 14/30\n",
            "137/137 [==============================] - 2s 14ms/step - loss: 0.0573 - accuracy: 0.9817\n",
            "Epoch 15/30\n",
            "137/137 [==============================] - 2s 14ms/step - loss: 0.0530 - accuracy: 0.9826\n",
            "Epoch 16/30\n",
            "137/137 [==============================] - 2s 14ms/step - loss: 0.0485 - accuracy: 0.9836\n",
            "Epoch 17/30\n",
            "137/137 [==============================] - 2s 14ms/step - loss: 0.0445 - accuracy: 0.9854\n",
            "Epoch 18/30\n",
            "137/137 [==============================] - 2s 14ms/step - loss: 0.0430 - accuracy: 0.9854\n",
            "Epoch 19/30\n",
            "137/137 [==============================] - 2s 14ms/step - loss: 0.0416 - accuracy: 0.9854\n",
            "Epoch 20/30\n",
            "137/137 [==============================] - 2s 14ms/step - loss: 0.0392 - accuracy: 0.9836\n",
            "Epoch 21/30\n",
            "137/137 [==============================] - 2s 14ms/step - loss: 0.0420 - accuracy: 0.9854\n",
            "Epoch 22/30\n",
            "137/137 [==============================] - 2s 14ms/step - loss: 0.0384 - accuracy: 0.9854\n",
            "Epoch 23/30\n",
            "137/137 [==============================] - 2s 14ms/step - loss: 0.0359 - accuracy: 0.9854\n",
            "Epoch 24/30\n",
            "137/137 [==============================] - 2s 14ms/step - loss: 0.0365 - accuracy: 0.9836\n",
            "Epoch 25/30\n",
            "137/137 [==============================] - 2s 14ms/step - loss: 0.0358 - accuracy: 0.9845\n",
            "Epoch 26/30\n",
            "137/137 [==============================] - 2s 14ms/step - loss: 0.0343 - accuracy: 0.9845\n",
            "Epoch 27/30\n",
            "137/137 [==============================] - 2s 14ms/step - loss: 0.0332 - accuracy: 0.9863\n",
            "Epoch 28/30\n",
            "137/137 [==============================] - 2s 14ms/step - loss: 0.0348 - accuracy: 0.9863\n",
            "Epoch 29/30\n",
            "137/137 [==============================] - 2s 14ms/step - loss: 0.0332 - accuracy: 0.9863\n",
            "Epoch 30/30\n",
            "137/137 [==============================] - 2s 14ms/step - loss: 0.0322 - accuracy: 0.9872\n",
            "INFO:tensorflow:Assets written to: ./text_classifier/best_model/assets\n",
            "15/15 [==============================] - 0s 5ms/step\n",
            "15/15 [==============================] - 0s 6ms/step - loss: 0.3622 - accuracy: 0.8340\n",
            "[0.36219924688339233, 0.8340425491333008]\n"
          ],
          "name": "stdout"
        }
      ]
    },
    {
      "cell_type": "markdown",
      "metadata": {
        "id": "kTe7-DiHAlDJ"
      },
      "source": [
        "최종 성능은 `83.4%`로 아까보다 `0.3%` 더 잘 나오네요!"
      ]
    },
    {
      "cell_type": "code",
      "metadata": {
        "id": "xgzqMeV8aync"
      },
      "source": [
        "model2 = clf.export_model()"
      ],
      "execution_count": 30,
      "outputs": []
    },
    {
      "cell_type": "code",
      "metadata": {
        "colab": {
          "base_uri": "https://localhost:8080/"
        },
        "id": "gcM7Q0xZay8p",
        "outputId": "5f6b3b01-3cd9-40f2-ba96-7c45b48a3e9d"
      },
      "source": [
        "model2.summary()"
      ],
      "execution_count": 31,
      "outputs": [
        {
          "output_type": "stream",
          "text": [
            "Model: \"model\"\n",
            "_________________________________________________________________\n",
            "Layer (type)                 Output Shape              Param #   \n",
            "=================================================================\n",
            "input_1 (InputLayer)         [(None,)]                 0         \n",
            "_________________________________________________________________\n",
            "expand_last_dim (ExpandLastD (None, 1)                 0         \n",
            "_________________________________________________________________\n",
            "text_vectorization (TextVect (None, 128)               0         \n",
            "_________________________________________________________________\n",
            "embedding (Embedding)        (None, 128, 256)          1280256   \n",
            "_________________________________________________________________\n",
            "conv1d (Conv1D)              (None, 122, 256)          459008    \n",
            "_________________________________________________________________\n",
            "global_max_pooling1d (Global (None, 256)               0         \n",
            "_________________________________________________________________\n",
            "dense (Dense)                (None, 256)               65792     \n",
            "_________________________________________________________________\n",
            "re_lu (ReLU)                 (None, 256)               0         \n",
            "_________________________________________________________________\n",
            "dropout (Dropout)            (None, 256)               0         \n",
            "_________________________________________________________________\n",
            "dense_1 (Dense)              (None, 1)                 257       \n",
            "_________________________________________________________________\n",
            "classification_head_1 (Activ (None, 1)                 0         \n",
            "=================================================================\n",
            "Total params: 1,805,313\n",
            "Trainable params: 1,805,313\n",
            "Non-trainable params: 0\n",
            "_________________________________________________________________\n"
          ],
          "name": "stdout"
        }
      ]
    },
    {
      "cell_type": "code",
      "metadata": {
        "colab": {
          "base_uri": "https://localhost:8080/"
        },
        "id": "VW8keZm5bF50",
        "outputId": "5aaee080-4bbf-41f6-9dc1-3cd752356a6c"
      },
      "source": [
        "try:\n",
        "    model2.save(\"./model2_autokeras\", save_format=\"tf\")\n",
        "except Exception:\n",
        "    model2.save(\"./model2_autokeras.h5\")"
      ],
      "execution_count": 116,
      "outputs": [
        {
          "output_type": "stream",
          "text": [
            "INFO:tensorflow:Assets written to: ./model2_autokeras/assets\n"
          ],
          "name": "stdout"
        }
      ]
    },
    {
      "cell_type": "markdown",
      "metadata": {
        "id": "CNv4OL6IArmA"
      },
      "source": [
        "# 분류 예측 관찰"
      ]
    },
    {
      "cell_type": "markdown",
      "metadata": {
        "id": "Is54eC5_Auh8"
      },
      "source": [
        "이제 모델에 실제 문자 데이터를 넣어서 성능을 눈으로 직접 확인해 볼께요."
      ]
    },
    {
      "cell_type": "code",
      "metadata": {
        "colab": {
          "base_uri": "https://localhost:8080/"
        },
        "id": "G4ha59MIA5cW",
        "outputId": "8932b33c-adf9-4d32-823a-b6a271bc25fa"
      },
      "source": [
        "text = \"안녕하세요\"\n",
        "model.predict(np.array([text]))"
      ],
      "execution_count": 118,
      "outputs": [
        {
          "output_type": "execute_result",
          "data": {
            "text/plain": [
              "array([[0.8174284]], dtype=float32)"
            ]
          },
          "metadata": {
            "tags": []
          },
          "execution_count": 118
        }
      ]
    },
    {
      "cell_type": "code",
      "metadata": {
        "colab": {
          "base_uri": "https://localhost:8080/"
        },
        "id": "EujohF2HA0oB",
        "outputId": "0f56ea89-9331-47b7-f70d-203af3a312af"
      },
      "source": [
        "text = \"안녕하세요\"\n",
        "model2.predict(np.array([text]))"
      ],
      "execution_count": 119,
      "outputs": [
        {
          "output_type": "execute_result",
          "data": {
            "text/plain": [
              "array([[0.45579416]], dtype=float32)"
            ]
          },
          "metadata": {
            "tags": []
          },
          "execution_count": 119
        }
      ]
    },
    {
      "cell_type": "markdown",
      "metadata": {
        "id": "qW-XZ0MvAzx5"
      },
      "source": [
        "모델 1은 문자 `안녕하세요`에 대해 81%의 확률로 스팸이라고 보지만, 모델 2는 45%라는 군요.   \n",
        "스팸들의 경향을 봤을 때 `안녕하세요`는 참 애매한 문자인 것 같아요 ^^;"
      ]
    },
    {
      "cell_type": "markdown",
      "metadata": {
        "id": "CioT6BgaBMIv"
      },
      "source": [
        "학습시킨 데이터들에 대해서는 어떻게 예측하는지 한 번 볼까요?"
      ]
    },
    {
      "cell_type": "code",
      "metadata": {
        "colab": {
          "base_uri": "https://localhost:8080/",
          "height": 52
        },
        "id": "gBZnkuYiml9j",
        "outputId": "c8b01238-af8f-4a18-b5f0-f888883111ed"
      },
      "source": [
        "X_train[0]"
      ],
      "execution_count": 40,
      "outputs": [
        {
          "output_type": "execute_result",
          "data": {
            "application/vnd.google.colaboratory.intrinsic+json": {
              "type": "string"
            },
            "text/plain": [
              "'여러분 저 등기이전 완료했어요. 내년에 집 값 오르길 기우ㅏㄴ합니다 흑흑 ㅠㅜ 아빠랑 얼른 전세계약해ㅛㅏ 탈출하면 반 성공... 아빠랑 전세계약하고 오피스텔 바로 알아보려고요 십년살고 명의 받기 성공!'"
            ]
          },
          "metadata": {
            "tags": []
          },
          "execution_count": 40
        }
      ]
    },
    {
      "cell_type": "markdown",
      "metadata": {
        "id": "AZfXgnEmBQZ8"
      },
      "source": [
        "e-07은 10에 -7승, 거의 0에 가까운 값입니다. 스팸일 확률이 없네요.   \n",
        "삐빅, 정상 문자"
      ]
    },
    {
      "cell_type": "code",
      "metadata": {
        "colab": {
          "base_uri": "https://localhost:8080/"
        },
        "id": "RynKzmGPv4Y2",
        "outputId": "36e0a665-76bf-43cd-c561-bb9019317eb1"
      },
      "source": [
        "model.predict(np.array([X_train[0]]))"
      ],
      "execution_count": 108,
      "outputs": [
        {
          "output_type": "execute_result",
          "data": {
            "text/plain": [
              "array([[3.388009e-07]], dtype=float32)"
            ]
          },
          "metadata": {
            "tags": []
          },
          "execution_count": 108
        }
      ]
    },
    {
      "cell_type": "code",
      "metadata": {
        "colab": {
          "base_uri": "https://localhost:8080/",
          "height": 69
        },
        "id": "pHM5ef3qwJJM",
        "outputId": "a7eb6f66-81b5-4a3d-bb6b-b9162a2a0732"
      },
      "source": [
        "X_train[10]"
      ],
      "execution_count": 47,
      "outputs": [
        {
          "output_type": "execute_result",
          "data": {
            "application/vnd.google.colaboratory.intrinsic+json": {
              "type": "string"
            },
            "text/plain": [
              "'◐국네약국대매비아◐이쁜이 미씨미팅모임    여성흥분제/레비트라 등 / 약국대행업체 / 약국대행업체  오후&#-5;시까지 주문시 당일 물품 발송  직수입정품만 취급합니다. 효과는 기대이상입니다     섹스파트너 / 성인동영상 / 화상채팅 등  오래된사이트로 유명하기도 하고 이쁜 언니들도 많답니다.  둘러본다고해서 손해보는거 없어요  무료회원가입이니 한번 둘러보시고 이용하세요'"
            ]
          },
          "metadata": {
            "tags": []
          },
          "execution_count": 47
        }
      ]
    },
    {
      "cell_type": "code",
      "metadata": {
        "colab": {
          "base_uri": "https://localhost:8080/"
        },
        "id": "CLoqKFLxwIZK",
        "outputId": "6147c610-7c07-4d72-f8a7-2e521b6dbd4e"
      },
      "source": [
        "text = X_train[10]\n",
        "print(model.predict(np.array([text])))\n",
        "print(y_train[10])"
      ],
      "execution_count": 106,
      "outputs": [
        {
          "output_type": "stream",
          "text": [
            "[[1.]]\n",
            "1.0\n"
          ],
          "name": "stdout"
        }
      ]
    },
    {
      "cell_type": "markdown",
      "metadata": {
        "id": "pcirAEqAwZ_r"
      },
      "source": [
        "데이터의 번호를 idx 라는 변수로 두고 계속 여러 테스트를 해볼께요."
      ]
    },
    {
      "cell_type": "code",
      "metadata": {
        "colab": {
          "base_uri": "https://localhost:8080/"
        },
        "id": "r7_ZtCv9wa_U",
        "outputId": "d57d2ef3-8dcc-4750-cb79-e576fcebad89"
      },
      "source": [
        "idx = 150\n",
        "\n",
        "print(X_train[idx])\n",
        "text = X_train[idx]\n",
        "print(model.predict(np.array([text])))\n",
        "print(y_train[idx])"
      ],
      "execution_count": 105,
      "outputs": [
        {
          "output_type": "stream",
          "text": [
            "[Web발신] (광고) 일 171% 단타 체결 무료단톡 진행중 전문상담원 대기 lrl.kr/6jD  무료거부 0801364481\n",
            "[[1.]]\n",
            "1.0\n"
          ],
          "name": "stdout"
        }
      ]
    },
    {
      "cell_type": "code",
      "metadata": {
        "colab": {
          "base_uri": "https://localhost:8080/"
        },
        "id": "tBM4ZrUoB6t8",
        "outputId": "9df190b6-a258-4fee-b281-aaf2d5c9f52c"
      },
      "source": [
        "idx = 1001\n",
        "\n",
        "print(X_train[idx])\n",
        "print(\"모델 1번이 예측한 값:\", \n",
        "    model.predict(\n",
        "        np.array([text])\n",
        "    )\n",
        ")\n",
        "print(\"모델 2번이 예측한 값:\", \n",
        "    model2.predict(\n",
        "        np.array([text])\n",
        "    )\n",
        ")\n",
        "print(\"정답:\", int(y_train[idx]))"
      ],
      "execution_count": 121,
      "outputs": [
        {
          "output_type": "stream",
          "text": [
            "[Web발신] 따뜻한 성원 잊지 않겠습니다. 남동 발전을 위해 언제나 함께 하겠습니다. -김지호 올림-\n",
            "모델 1번이 예측한 값: [[0.8174284]]\n",
            "모델 2번이 예측한 값: [[0.45579416]]\n",
            "정답: 1\n"
          ],
          "name": "stdout"
        }
      ]
    },
    {
      "cell_type": "markdown",
      "metadata": {
        "id": "yL9u98DQBeuh"
      },
      "source": [
        "생각보다 결과가 좋은데요, 그럼 스팸인데 진짜 스팸이라고 한 비율은 어떻게 될까요?"
      ]
    },
    {
      "cell_type": "markdown",
      "metadata": {
        "id": "3_2tgbMjwuvr"
      },
      "source": [
        "https://scikit-learn.org/stable/modules/generated/sklearn.metrics.recall_score.html"
      ]
    },
    {
      "cell_type": "code",
      "metadata": {
        "id": "b7tsjbNOwtW0"
      },
      "source": [
        "from sklearn.metrics import accuracy_score, recall_score, precision_score, f1_score"
      ],
      "execution_count": 57,
      "outputs": []
    },
    {
      "cell_type": "markdown",
      "metadata": {
        "id": "NzevVayMBmEN"
      },
      "source": [
        "train에 대해서는 거의 100% 가깝게 성능이 나오네요"
      ]
    },
    {
      "cell_type": "code",
      "metadata": {
        "colab": {
          "base_uri": "https://localhost:8080/"
        },
        "id": "RO-UfuKaxsr7",
        "outputId": "e01831ce-41ee-4aa0-fef3-8a869583aed1"
      },
      "source": [
        "y_pred = model.predict(X_train)\n",
        "y_pred = [round(y[0],0) for y in y_pred]\n",
        "print(\"accuracy  = \", accuracy_score(y_train, y_pred))\n",
        "print(\"recall    = \", recall_score(y_train, y_pred))\n",
        "print(\"precision = \", precision_score(y_train, y_pred))\n",
        "print(\"f1 score  = \", f1_score(y_train, y_pred))"
      ],
      "execution_count": 83,
      "outputs": [
        {
          "output_type": "stream",
          "text": [
            "accuracy  =  0.9872146118721461\n",
            "recall    =  0.982363315696649\n",
            "precision =  0.9928698752228164\n",
            "f1 score  =  0.9875886524822696\n"
          ],
          "name": "stdout"
        }
      ]
    },
    {
      "cell_type": "markdown",
      "metadata": {
        "id": "fbz28ZviBpIH"
      },
      "source": [
        "test에 대해서도 꽤나 성능이 좋게 나옵니다."
      ]
    },
    {
      "cell_type": "code",
      "metadata": {
        "colab": {
          "base_uri": "https://localhost:8080/"
        },
        "id": "ZtEM_UqhwwlH",
        "outputId": "34402097-438b-45e8-f057-c9e11b7cdda6"
      },
      "source": [
        "y_pred = model.predict(X_test)\n",
        "y_pred = [round(y[0],0) for y in y_pred]\n",
        "print(\"accuracy  = \", accuracy_score(y_test, y_pred))\n",
        "print(\"recall    = \", recall_score(y_test, y_pred))\n",
        "print(\"precision = \", precision_score(y_test, y_pred))\n",
        "print(\"f1 score  = \", f1_score(y_test, y_pred))"
      ],
      "execution_count": 58,
      "outputs": [
        {
          "output_type": "stream",
          "text": [
            "accuracy  =  0.8319148936170213\n",
            "recall    =  0.8270042194092827\n",
            "precision =  0.8376068376068376\n",
            "f1 score  =  0.8322717622080679\n"
          ],
          "name": "stdout"
        }
      ]
    },
    {
      "cell_type": "markdown",
      "metadata": {
        "id": "eRO1Mcf4Bro2"
      },
      "source": [
        "그럼 스팸을 직접 한 번 넣어서 점수를 볼까요?"
      ]
    },
    {
      "cell_type": "code",
      "metadata": {
        "colab": {
          "base_uri": "https://localhost:8080/",
          "height": 419
        },
        "id": "Pjd8jOIczAEA",
        "outputId": "641adee1-f22c-48cb-94e0-6bbdd0c2286c"
      },
      "source": [
        "df[df['y']==1.0]"
      ],
      "execution_count": 88,
      "outputs": [
        {
          "output_type": "execute_result",
          "data": {
            "text/html": [
              "<div>\n",
              "<style scoped>\n",
              "    .dataframe tbody tr th:only-of-type {\n",
              "        vertical-align: middle;\n",
              "    }\n",
              "\n",
              "    .dataframe tbody tr th {\n",
              "        vertical-align: top;\n",
              "    }\n",
              "\n",
              "    .dataframe thead th {\n",
              "        text-align: right;\n",
              "    }\n",
              "</style>\n",
              "<table border=\"1\" class=\"dataframe\">\n",
              "  <thead>\n",
              "    <tr style=\"text-align: right;\">\n",
              "      <th></th>\n",
              "      <th>문자내용</th>\n",
              "      <th>스팸/햄</th>\n",
              "      <th>스팸의 종류</th>\n",
              "      <th></th>\n",
              "      <th>y</th>\n",
              "    </tr>\n",
              "  </thead>\n",
              "  <tbody>\n",
              "    <tr>\n",
              "      <th>0</th>\n",
              "      <td>[Web발신] (광고)핸드폰개통점입니다. ▷Galaxy S21 선착순43명 무료 성...</td>\n",
              "      <td>스팸</td>\n",
              "      <td>2.0</td>\n",
              "      <td>NaN</td>\n",
              "      <td>1.0</td>\n",
              "    </tr>\n",
              "    <tr>\n",
              "      <th>1</th>\n",
              "      <td>[Web발신] 안녕하세요 핸드폰개통점입니다 갤럭시S21//삼성A426 *기계값 90...</td>\n",
              "      <td>스팸</td>\n",
              "      <td>2.0</td>\n",
              "      <td>NaN</td>\n",
              "      <td>1.0</td>\n",
              "    </tr>\n",
              "    <tr>\n",
              "      <th>2</th>\n",
              "      <td>[Web발신] (광고) ▶인터넷 혜:택 제공팀  안녕하십니까~  혜:택부서팀장 허윤...</td>\n",
              "      <td>스팸</td>\n",
              "      <td>2.0</td>\n",
              "      <td>NaN</td>\n",
              "      <td>1.0</td>\n",
              "    </tr>\n",
              "    <tr>\n",
              "      <th>3</th>\n",
              "      <td>[Web발신] (광고) LG.SK.KT 인-터넷 통신사 이.동&amp;신.규 52만원(45...</td>\n",
              "      <td>스팸</td>\n",
              "      <td>2.0</td>\n",
              "      <td>NaN</td>\n",
              "      <td>1.0</td>\n",
              "    </tr>\n",
              "    <tr>\n",
              "      <th>4</th>\n",
              "      <td>[Web발신] (광고)♥kt노트10 ♥15만원 한정수량 이름: 전화번호: 신청 문자...</td>\n",
              "      <td>스팸</td>\n",
              "      <td>2.0</td>\n",
              "      <td>NaN</td>\n",
              "      <td>1.0</td>\n",
              "    </tr>\n",
              "    <tr>\n",
              "      <th>...</th>\n",
              "      <td>...</td>\n",
              "      <td>...</td>\n",
              "      <td>...</td>\n",
              "      <td>...</td>\n",
              "      <td>...</td>\n",
              "    </tr>\n",
              "    <tr>\n",
              "      <th>799</th>\n",
              "      <td>[코멘토] 서포터즈하고 에어팟프로 받고  [Web발신]  울산대학교의 제휴혜택을 널...</td>\n",
              "      <td>스팸</td>\n",
              "      <td>9.0</td>\n",
              "      <td>NaN</td>\n",
              "      <td>1.0</td>\n",
              "    </tr>\n",
              "    <tr>\n",
              "      <th>800</th>\n",
              "      <td>[Web발신]  울산대 학생이세요? 이벤트 참여하고 베라도 받아보세요:)  ▶ ht...</td>\n",
              "      <td>스팸</td>\n",
              "      <td>9.0</td>\n",
              "      <td>NaN</td>\n",
              "      <td>1.0</td>\n",
              "    </tr>\n",
              "    <tr>\n",
              "      <th>801</th>\n",
              "      <td>누구나 주문할 때마다 5,OOO원 할인!  [Web발신]  (광고) 누구나 주문할 ...</td>\n",
              "      <td>스팸</td>\n",
              "      <td>9.0</td>\n",
              "      <td>NaN</td>\n",
              "      <td>1.0</td>\n",
              "    </tr>\n",
              "    <tr>\n",
              "      <th>802</th>\n",
              "      <td>[LG U+]  [Web발신]  (광고)[LG U+]아이폰 수리비 할인 안내  고객...</td>\n",
              "      <td>스팸</td>\n",
              "      <td>9.0</td>\n",
              "      <td>NaN</td>\n",
              "      <td>1.0</td>\n",
              "    </tr>\n",
              "    <tr>\n",
              "      <th>803</th>\n",
              "      <td>아이맥스안경원  3-4월 행사안내  및  주차 안내    ♡ 울산페이 결제 가능합니...</td>\n",
              "      <td>스팸</td>\n",
              "      <td>9.0</td>\n",
              "      <td>NaN</td>\n",
              "      <td>1.0</td>\n",
              "    </tr>\n",
              "  </tbody>\n",
              "</table>\n",
              "<p>804 rows × 5 columns</p>\n",
              "</div>"
            ],
            "text/plain": [
              "                                                  문자내용 스팸/햄  스팸의 종류        y\n",
              "0    [Web발신] (광고)핸드폰개통점입니다. ▷Galaxy S21 선착순43명 무료 성...   스팸     2.0 NaN  1.0\n",
              "1    [Web발신] 안녕하세요 핸드폰개통점입니다 갤럭시S21//삼성A426 *기계값 90...   스팸     2.0 NaN  1.0\n",
              "2    [Web발신] (광고) ▶인터넷 혜:택 제공팀  안녕하십니까~  혜:택부서팀장 허윤...   스팸     2.0 NaN  1.0\n",
              "3    [Web발신] (광고) LG.SK.KT 인-터넷 통신사 이.동&신.규 52만원(45...   스팸     2.0 NaN  1.0\n",
              "4    [Web발신] (광고)♥kt노트10 ♥15만원 한정수량 이름: 전화번호: 신청 문자...   스팸     2.0 NaN  1.0\n",
              "..                                                 ...  ...     ...  ..  ...\n",
              "799  [코멘토] 서포터즈하고 에어팟프로 받고  [Web발신]  울산대학교의 제휴혜택을 널...   스팸     9.0 NaN  1.0\n",
              "800  [Web발신]  울산대 학생이세요? 이벤트 참여하고 베라도 받아보세요:)  ▶ ht...   스팸     9.0 NaN  1.0\n",
              "801  누구나 주문할 때마다 5,OOO원 할인!  [Web발신]  (광고) 누구나 주문할 ...   스팸     9.0 NaN  1.0\n",
              "802  [LG U+]  [Web발신]  (광고)[LG U+]아이폰 수리비 할인 안내  고객...   스팸     9.0 NaN  1.0\n",
              "803  아이맥스안경원  3-4월 행사안내  및  주차 안내    ♡ 울산페이 결제 가능합니...   스팸     9.0 NaN  1.0\n",
              "\n",
              "[804 rows x 5 columns]"
            ]
          },
          "metadata": {
            "tags": []
          },
          "execution_count": 88
        }
      ]
    },
    {
      "cell_type": "markdown",
      "metadata": {
        "id": "xPbWPI39Buoo"
      },
      "source": [
        "스팸인데, 스팸일 확률이 0.7이 넘지 않는 것들을 출력해 볼께요.\n",
        "\n",
        "어떤 데이터들이 스팸으로 인식이 안되는지 그 특징들을 눈으로 탐색할 수 있습니다."
      ]
    },
    {
      "cell_type": "code",
      "metadata": {
        "colab": {
          "base_uri": "https://localhost:8080/"
        },
        "id": "ct8KGpkszGh2",
        "outputId": "3b0f2fa0-894b-4b71-fdbf-81076bc2881f"
      },
      "source": [
        "for i, row in df[df['y']==1.0].iterrows():\n",
        "    text = row['문자내용']\n",
        "    score = model.predict(np.array([text]))[0][0]\n",
        "    if score < 0.7:\n",
        "        print(score, text)"
      ],
      "execution_count": 110,
      "outputs": [
        {
          "output_type": "stream",
          "text": [
            "0.6985318 [Web발신] 폰개통하셨던 개통점입니다 폰요금6만원이상쓰면 5G갤10 30명만무상 이름만문자로남겨주십쇼\n",
            "0.38287196 [Web발신] (광고)우수고객 감사행사~ 자택에 사용중인 #인*터*넷 또는 방*송 한 회사만 너무 오랫동안 사용하시면 혜택은 처음보다 줄고 장애는 많아집니다. 3년에 한번오는 소중한 인센티브 이대로 놓치십니까? ★인터냇 바꾸면 ♥최대 ￦7OO,OOO 지*원♥ ★제휴카드+휴대폰결합으로 매달26,000원 할인받아 기존보다 저렴하게 사용하시고 ★넥플릭스, 키즈랜드와같은 다양한 컨텐츠로 집에서도 안심심하게~ ★최신형 장비로 교체까지~ ==저희 센터로 문의주셔야하는 이유== ☆정직하게 상담합니다. ☆거품이 없습니다. ☆고객님께 유리한 상품을 꼼꼼히 봐드립니다. ☆연락만주시면 신청, 설치, 입금, 사후관리까지 알아서~ 아직까지 혜택이 나오는줄 모르시고 그냥 사용하시는분들이 많습니다. 오랫동안 운영하며 행사중이니 연락주셔서 소멸되는 혜택 꼭 확인하시기바랍니다~ ▶전국 시.군.구 서비스센터운영 모든 지역 상담가능 직통번호 : 02.3490.5797 무료수신거부 0801336182\n",
            "0.61428833 [Web발신] (러시아)천국) 20대모델들과연애 실샤♥ http://bit.ly/chc3327\n",
            "0.584226  땔  馬^  思^  ㅂ↗ㅣㅇㅇ↗┝  +19+ kohzg697@yahoo.com ­­­­­­­­­­­­­­­­­­­­­­­­­­­­­­­­­­­­­­­­­­­­­­­­­­­­­­­­­­­­­­­­­­­­­­­­­­­­­­­­­­­­­­­­­­­­\n",
            "0.39242107 한통가로두통가져시고,두정은기본으로챙겨드려요@­­­­­­­­­­­­­­­­­­­­­­­­­­­­­­­­­­­­­­­­­­­­­­­­­­­­­­­­­­­­­­­­­­­­­­­­­­­­­­­­­­­­­­­­­­­­­\n",
            "0.14079519 한알이면 나도 변광쇠!      \n",
            "0.39242107 즐찾필수요,무조건두통,③팩,깔금하게광분제③개로마음껏!@­­­­­­­­­­­­­­­­­­­­­­­­­­­­­­­­­­­­­­­­­­­­­­­­­­­­­­­­­­­­­­­­­­­­­­­­­­­­­­­­­­­­­­­\n",
            "0.4547717 전국비뇨기과 대상 설문조사에서 발기의강직도가 가장우수한 제품으로 선정 당일배송가능!\n",
            "0.39242107 이곳저곳가지마시구,누구나두정에,두통1통가,죽여주는효과뵤셔야죵@\n",
            "0.39242107 어느밤이나,멈추지않는혈관확장,십구세이상,정품을넘어,명품으로,고객감사,서비스두알추가요!@­­­­­­­­­­­­­­­­­­­­­­­­­­­­­­­­­­­­­­­­­­­­­­­­­­­­­­­­­­­­­­­\n",
            "0.39242107 야심한저녁,내의지대로안될때,답나와요.사은2정기본에,한가득!@­­­­­­­­­­­­­­­­­­­­­­­­­­­­­­­­­­­­­­­­­­­­­­­­­­­­­­­­­­­­­­­­­­­­­­­­­­­­­­­­­­­­­\n",
            "0.31603268 쓰리팩무조건ㅎ분세개+한개무조건+1보너스로누구나2정사은품!@­­­­­­­­­­­­­­­­­­­­­­­­­­­­­­­­­­­­­­­­­­­­­­­­­­­­­­­­­­­­­­­­­­­­­­­­­­­­­­­­­­­­­    \u0002\u0002\u0002\u0002\u0002\u0002\u0002\u0002\u0002\u0002\u0002\u0002\u0002\u0002\u0002\u0002\u0002\u0002\u0002\u0002\u0002\u0002\u0002\u0002\u0002\u0002\u0002\u0002\u0002\u0002\u0002\u0002\u0002\u0002\u0002\u0002\u0002\u0002\u0002\u0002\u0002\u0002\u0002\u0002\u0002\u0002\u0002\u0002\u0002\u0002\u0002\u0002\u0002\u0002\u0002\u0002\u0002\u0002\u0002\u0002\u0002\u0002\u0002\u0002\u0002\u0002\u0002\u0002\u0002\u0002\u0002\u0002\u0002\u0002\u0002\u0002\u0002\u0002\u0002\u0002\u0002\u0002\u0002\u0002\u0002\u0002\u0002\u0002\u0002\u0002\u0002\u0002\u0002\u0002\u0002\u0002\u0002\u0002\u0002\u0002\u0002\u0002\u0002\u0002\u0002\u0002\u0002\u0002\u0002\u0002\u0002\u0002\u0002\u0002\u0002\u0002\u0002\u0002\u0002\u0002\u0002\u0002\u0002\u0002\u0002\u0002\u0002\u0002\u0002\u0002\u0002\u0002\u0002\u0002\u0002\u0002\u0002\u0002\u0002\u0002\u0002\u0002\u0002\u0002\u0002\u0002\u0002\u0002\u0002\u0002\u0002\u0002\u0002\u0002\u0002\u0002\u0002\u0002\u0002\u0002\u0002\u0002\u0002\u0002\u0002\u0002\u0002\u0002\u0002\u0002\u0002\u0002\u0002\u0002\u0002\u0002\u0002\u0002\u0002\u0002\u0002\u0002\u0002\u0002\u0002\u0002\u0002\u0002\u0002\u0002\u0002\u0002\u0002\u0002\u0002\u0002\u0002\u0002\u0002\u0002\u0002\u0002\u0002\u0002\u0002\u0002\u0002\u0002\u0002\u0002\u0002\u0002\u0002\u0002\u0002\u0002\u0002\u0002\u0002\u0002\u0002\u0002\u0002\u0002\u0002\u0002\u0002\u0002\u0002\u0002\u0002\u0002\u0002\u0002\u0002\u0002\u0002\u0002\u0002\u0002\u0002\u0002\u0002\u0002\u0002\u0002\u0002\u0002\u0002\u0002\u0002\u0002\u0002\u0002\u0002\u0002\u0002\u0002\u0002\u0002\u0002\u0002\u0002\u0002\u0002\u0002\u0002\u0002\u0002\u0002\u0002\u0002\u0002\u0002\u0002\u0002\u0002\u0002\u0002\u0002\u0002\u0002\u0002\u0002\u0002\u0002\u0002\u0002\u0002\u0002\u0002\u0002\u0002\u0002\u0002\u0002\u0002\u0002\u0002\u0002\u0002\u0002\u0002\u0002\u0002\u0002\u0002\u0002\u0002\u0002\u0002\u0002\u0002\u0002\u0002\u0002\u0002\u0002\u0002\u0002\u0002\u0002\u0002\u0002\u0002\u0002\u0002\u0002\u0002\u0002\u0002\u0002\u0002\u0002\u0002\u0002\u0002\u0002\u0002\u0002\u0002\u0002\u0002\u0002\u0002\u0002\u0002\u0002\u0002\u0002\u0002\u0002\u0002\u0002\u0002\u0002\u0002\u0002\u0002\u0002\u0002\u0002\u0002\u0002\u0002\u0002\u0002\u0002\u0002\u0002\u0002\u0002\u0002\u0002\u0002\u0002\u0002\u0002\u0002\u0002\u0002\u0002\u0002\u0002\u0002\u0002\u0002\u0002\u0002\u0002\u0002\u0002\u0002\u0002\u0002\u0002\u0002\u0002\u0002\u0002\u0002\u0002\u0002\u0002\u0002\u0002\u0002\u0002\u0002\u0002\u0002\u0002\u0002\u0002\u0002\u0002\u0002\u0002\u0002\u0002\u0002\u0002\u0002\u0002\u0002\u0002\u0002\u0002\u0002\u0002\u0002\u0002\u0002\u0002\u0002\u0002\u0002\u0002\u0002\u0002\u0002\u0002\u0002\u0002\u0002\u0002\u0002\u0002\u0002\u0002\u0002\u0002\u0002\u0002\u0002\u0002\u0002\u0002\u0002\u0002\u0002\u0002\u0002\u0002\u0002\u0002\u0002\u0002\u0002\u0002\u0002\u0002\u0002\u0002\u0002\u0002\u0002\u0002\u0002\u0002\u0002\u0002\u0002\u0002\u0002\u0002\u0002\u0002\u0002\u0002\u0002\u0002\u0002\u0002\u0002\u0002\u0002\u0002\u0002\u0002\u0002\u0002\u0002\u0002\u0002\u0002\u0002\u0002\u0002\u0002\u0002\u0002\u0002\u0002\u0002\u0002\u0002\u0002\u0002\u0002\u0002\u0002\u0002\u0002\u0002\u0002\u0002\u0002\u0002\u0002\u0002\u0002\u0002\u0002\u0002\u0002\u0002\u0002\u0002\u0002\u0002\u0002\u0002\u0002\u0002\u0002\u0002\u0002\u0002\u0002\u0002\u0002\u0002\u0002\u0002\u0002\u0002\u0002\u0002\u0002\u0002\u0002\u0002\u0002\u0002\u0002\u0002\u0002\u0002\u0002\u0002\u0002\u0002\u0002\u0002\u0002\u0002\u0002\u0002\u0002\u0002\u0002\u0002\u0002\u0002\u0002\u0002\u0002\u0002\u0002\u0002\u0002\u0002\u0002\u0002\u0002\u0002\u0002\u0002\u0002\u0002\u0002\u0002\u0002\u0002\u0002\u0002\u0002\u0002\u0002\u0002\u0002\u0002\u0002\u0002\u0002\u0002\u0002\u0002\u0002\u0002\u0002\u0002\u0002\u0002\u0002\u0002\u0002\u0002\u0002\u0002\u0002\u0002\u0002\u0002\u0002\u0002\u0002\u0002\u0002\u0002\u0002\u0002\u0002\u0002\u0002\u0002\u0002\u0002\u0002\u0002\u0002\u0002\u0002\u0002\u0002\u0002\u0002\u0002\u0002\u0002\u0002\u0002\u0002\u0002\u0002\u0002\u0002\u0002\u0002\u0002\u0002\u0002\u0002\u0002\u0002\u0002\u0002\u0002\u0002\u0002\u0002\u0002\u0002\u0002\u0002\u0002\u0002\u0002\u0002\u0002\u0002\u0002\u0002\u0002\u0002\u0002\u0002\u0002\u0002\u0002\u0002\u0002\u0002\u0002\u0002\u0002\u0002\u0002\u0002\u0002\u0002\u0002\u0002\u0002\u0002\u0002\u0002\u0002\u0002\u0002\u0002\u0002\u0002\u0002\u0002\u0002\u0002\u0002\u0002\u0002\u0002\u0002\u0002\u0002\u0002\u0002\u0002\u0002\u0002\u0002\u0002\u0002\u0002\u0002\u0002\u0002\u0002\u0002\u0002\u0002\u0002\u0002\u0002\u0002\u0002\u0002\u0002\u0002\u0002\u0002\u0002\u0002\u0002\u0002\u0002\u0002\u0002\u0002\u0002\u0002\u0002\u0002\u0002\u0002\u0002\u0002\u0002\u0002\u0002\u0002\u0002\u0002\u0002\u0002\u0002\u0002\u0002\u0002\u0002\u0002\u0002\u0002\u0002\u0002\u0002\u0002\u0002\u0002\u0002\u0002\u0002\u0002\u0002\u0002\u0002\u0002\u0002\u0002\u0002\u0002\u0002\u0002\u0002\u0002\u0002\u0002\u0002\u0002\u0002\u0002\u0002\u0002\u0002\u0002\u0002\u0002\u0002\u0002\u0002\u0002\u0002\u0002\u0002\u0002\u0002\u0002\u0002\u0002\u0002\u0002\u0002\u0002\u0002\u0002\u0002\u0002\u0002\u0002\u0002\u0002\u0002\u0002\u0002\u0002\u0002\u0002\u0002\u0002\u0002\u0002\u0002\u0002\u0002\u0002\u0002\u0002\u0002\u0002\u0002\u0002\u0002\u0002\u0002\u0002\u0002\u0002\u0002\u0002\u0002\u0002\u0002\u0002\u0002\u0002\u0002\u0002\u0002\u0002\u0002\u0002\u0002\u0002\u0002\u0002\u0002\u0002\u0002\u0002\u0002\u0002\u0002\u0002\u0002\u0002\u0002\u0002\u0002\u0002\u0002\u0002\u0002\u0002\u0002\u0002\u0002\u0002\u0002\u0002\u0002\u0002\u0002\u0002\u0002\u0002\u0002\u0002\u0002\u0002\u0002\u0002\u0002\u0002\u0002\u0002\u0002\u0002\u0002\u0002\u0002\u0002\u0002\u0002\u0002\u0002\u0002\u0002\u0002\u0002\u0002\u0002\u0002\u0002\u0002\u0002\u0002\u0002\u0002\u0002\u0002\u0002\u0002\u0002\u0002\u0002\u0002\u0002\u0002\u0002\u0002\u0002\u0002\u0002\u0002\u0002\u0002\u0002\u0002\u0002\u0002\u0002\u0002\u0002\u0002\u0002\u0002\u0002\u0002\u0002\u0002\u0002\u0002\u0002\u0002\u0002\u0002\u0002\u0002\u0002\u0002\u0002\u0002\u0002\u0002\u0002\u0002\u0002\u0002\u0002\u0002\u0002\u0002\u0002\u0002\u0002\u0002\u0002\u0002\u0002\u0002\u0002\u0002\u0002\u0002\u0002\u0002\u0002\u0002\u0002\u0002\u0002\u0002\u0002\u0002\u0002\u0002\u0002\u0002\u0002\u0002\u0002\u0002\u0002\u0002\u0002\u0002\u0002\u0002\u0002\u0002\u0002\u0002\u0002\u0002\u0002\u0002\u0002\u0002\u0002\u0002\u0002\u0002\u0002\u0002\u0002\u0002\u0002\u0002\u0002\u0002\u0002\u0002\u0002\u0002\u0002\u0002\u0002\u0002\u0002\u0002\u0002\u0002\u0002\u0002\u0002\u0002\u0002\u0002\u0002\u0002\u0002\u0002\u0002\u0002\u0002\u0002\u0002\u0002\u0002\u0002\u0002\u0002\u0002\u0002\u0002\u0002\u0002\u0002\u0002\u0002\u0002\u0002\u0002\u0002\u0002\u0002\u0002\u0002\u0002\u0002\u0002\u0002\u0002\u0002\u0002\u0002\u0002\u0002\u0002\u0002\u0002\u0002\u0002\u0002\u0002\u0002\u0002\u0002\u0002\u0002\u0002\u0002\u0002\u0002\u0002\u0002\u0002\u0002\u0002\u0002\u0002\u0002\u0002\u0002\u0002\u0002\u0002\u0002\u0002\u0002\u0002\u0002\u0002\u0002\u0002\u0002\u0002\u0002\u0002\u0002\u0002\u0002\u0002\u0002\u0002\u0002\u0002\u0002\u0002\u0002\u0002\u0002\u0002\u0002\u0002\u0002\u0002\u0002\u0002\u0002\u0002\u0002\u0002\u0002\u0002\u0002\u0002\u0002\u0002\u0002\u0002\u0002\u0002\u0002\u0002\u0002\u0002\u0002\u0002\u0002\u0002\u0002\u0002\u0002\u0002\u0002\u0002\u0002\u0002\u0002\u0002\u0002\u0002\u0002\u0002\u0002\u0002\u0002\u0002\u0002\u0002\u0002\u0002\u0002\u0002\u0002\u0002\u0002\u0002\u0002\u0002\u0002\u0002\u0002\u0002\u0002\u0002\u0002\u0002\u0002\u0002\u0002\u0002\u0002\u0002\u0002\u0002\u0002\u0002\u0002\u0002\u0002\u0002\u0002\u0002\u0002\u0002\u0002\u0002\u0002\u0002\u0002\u0002\u0002\u0002\u0002\u0002\u0002\u0002\u0002\u0002\u0002\u0002\u0002\u0002\u0002\u0002\u0002\u0002\u0002\u0002\u0002\u0002\u0002\u0002\u0002\u0002\u0002\u0002\u0002\u0002\u0002\u0002\u0002\u0002\u0002\u0002\u0002\u0002\u0002\u0002\u0002\u0002\u0002\u0002\u0002\u0002\u0002\u0002\u0002\u0002\u0002\u0002\u0002\u0002\u0002\u0002\u0002\u0002\u0002\u0002\u0002\u0002\u0002\u0002\u0002\u0002\u0002\u0002\u0002\u0002\u0002\u0002\u0002\u0002\u0002\u0002\u0002\u0002\u0002\u0002\u0002\u0002\u0002\u0002\u0002\u0002\u0002\u0002\u0002\u0002\u0002\u0002\u0002\u0002\u0002\u0002\u0002\u0002\u0002\u0002\u0002\u0002\u0002\u0002\u0002\u0002\u0002\u0002\u0002\u0002\u0002\u0002\u0002\u0002\u0002\u0002\u0002\u0002\u0002\u0002\u0002\u0002\u0002\u0002\u0002\u0002\u0002\u0002\u0002\u0002\u0002\u0002\u0002\u0002\u0002\u0002\u0002\u0002\u0002\u0002\u0002\u0002\u0002\u0002\u0002\u0002\u0002\u0002\u0002\u0002\u0002\u0002\u0002\u0002\u0002\u0002\u0002\u0002\u0002\u0002\u0002\u0002\u0002\u0002\u0002\u0002\u0002\u0002\u0002\u0002\u0002\u0002\u0002\u0002\u0002\u0002\u0002\u0002\u0002\u0002\u0002\u0002\u0002\u0002\u0002\u0002\u0002\u0002\u0002\u0002\u0002\u0002\u0002\u0002\u0002\u0002\u0002\u0002\u0002\u0002\u0002\u0002\u0002\u0002\u0002\u0002\u0002\u0002\u0002\u0002\u0002\u0002\u0002\u0002\u0002\u0002\u0002\u0002\u0002\u0002\u0002\u0002\u0002\u0002\u0002\u0002\u0002\u0002\u0002\u0002\u0002\u0002\u0002\u0002\u0002\u0002\u0002\u0002\u0002\u0002\u0002\u0002\u0002\u0002\u0002\u0002\u0002\u0002\u0002\u0002\u0002\u0002\u0002\u0002\u0002\u0002\u0002\u0002\u0002\u0002\u0002\u0002\u0002\u0002\u0002\u0002\u0002\u0002\u0002\u0002\u0002\u0002\u0002\u0002\u0002\u0002\u0002\u0002\u0002\u0002\u0002\u0002\u0002\u0002\u0002\u0002\u0002\u0002\u0002\u0002\u0002\u0002\u0002\u0002\u0002\u0002\u0002\u0002\u0002\u0002\u0002\u0002\u0002\u0002\u0002\u0002\u0002\u0002\u0002\u0002\u0002\u0002\u0002\u0002\u0002\u0002\u0002\u0002\u0002\u0002\u0002\u0002\u0002\u0002\u0002\u0002\u0002\u0002\u0002\u0002\u0002\u0002\u0002\u0002\u0002\u0002\u0002\u0002\u0002\u0002\u0002\u0002\u0002\u0002\u0002\u0002\u0002\u0002\u0002\u0002\u0002\u0002\u0002\u0002\u0002\u0002\u0002\u0002\u0002\u0002\u0002\u0002\u0002\u0002\u0002\u0002\u0002\u0002\u0002\u0002\u0002\u0002\u0002\u0002\u0002\u0002\u0002\u0002\u0002\u0002\u0002\u0002\u0002\u0002\u0002\u0002\u0002\u0002\u0002\u0002\u0002\u0002\u0002\u0002\u0002\u0002\u0002\u0002\u0002\u0002\u0002\u0002\u0002\u0002\u0002\u0002\u0002\u0002\u0002\u0002\u0002\u0002\u0002\u0002\u0002\u0002\u0002\u0002\u0002\u0002\u0002\u0002\u0002\u0002\u0002\u0002\u0002\u0002\u0002\u0002\u0002\u0002\u0002\u0002\u0002\u0002\u0002\u0002\u0002\u0002\u0002\u0002\u0002\u0002\u0002\u0002\u0002\u0002\u0002\u0002\u0002\u0002\u0002\u0002\u0002\u0002\u0002\u0002\u0002\u0002\u0002\u0002\u0002\u0002\u0002\u0002\u0002\u0002\u0002\u0002\u0002\u0002\u0002\u0002\u0002\u0002\u0002\u0002\u0002\u0002\u0002\u0002\u0002\u0002\u0002\u0002\u0002\u0002\u0002\u0002\u0002\u0002\u0002\u0002\u0002\u0002\u0002\u0002\u0002\u0002\u0002\u0002\u0002\u0002\u0002\u0002\u0002\u0002\u0002\u0002\u0002\u0002\u0002\u0002\u0002\u0002\u0002\u0002\u0002\u0002\u0002\u0002\u0002\u0002\u0002\u0002\u0002\u0002\u0002\u0002\u0002\u0002\u0002\u0002\u0002\u0002\u0002\u0002\u0002\u0002\u0002\u0002\u0002\u0002\u0002\u0002\u0002\u0002\u0002\u0002\u0002\u0002\u0002\u0002\u0002\u0002\u0002\u0002\u0002\u0002\u0002\u0002\u0002\u0002\u0002\u0002\u0002\u0002\u0002\u0002\u0002\u0002\u0002\u0002\u0002\u0002\u0002\u0002\u0002\u0002\u0002\u0002\u0002\u0002\u0002\u0002\u0002\u0002\u0002\u0002\u0002\u0002\u0002\u0002\u0002\u0002\u0002\u0002\u0002\u0002\u0002\u0002\u0002\u0002\u0002\u0002\u0002\u0002\u0002\u0002\u0002\u0002\u0002\u0002\u0002\u0002\u0002\u0002\u0002\u0002\u0002\u0002\u0002\u0002\u0002\u0002\u0002\u0002\u0002\u0002\u0002\u0002\u0002\u0002\u0002\u0002\u0002\u0002\u0002\u0002\u0002\u0002\u0002\u0002\u0002\u0002\u0002\u0002\u0002\u0002\u0002\u0002\u0002\u0002\u0002\u0002\u0002\u0002\u0002\u0002\u0002\u0002\u0002\u0002\u0002\u0002\u0002\u0002\u0002\u0002\u0002\u0002\u0002\u0002\u0002\u0002\u0002\u0002\u0002\u0002\u0002\u0002\u0002\u0002\u0002\u0002\u0002\u0002\u0002\u0002\u0002\u0002\u0002\u0002\u0002\u0002\u0002\u0002\u0002\u0002\u0002\u0002\u0002\u0002\u0002\u0002\u0002\u0002\u0002\u0002\u0002\u0002\u0002\u0002\u0002\u0002\u0002\u0002\u0002\u0002\u0002\u0002\u0002\u0002\u0002\u0002\u0002\u0002\u0002\u0002\u0002\u0002\u0002\u0002\u0002\u0002\u0002\u0002\u0002\u0002\u0002\u0002\u0002\u0002\u0002\u0002\u0002\u0002\u0002\u0002\u0002\u0002\u0002\u0002\u0002\u0002\u0002\u0002\u0002\u0002\u0002\u0002\u0002\u0002\u0002\u0002\u0002\u0002\u0002\u0002\u0002\u0002\u0002\u0002\u0002\u0002\u0002\u0002\u0002\u0002\u0002\u0002\u0002\u0002\u0002\u0002\u0002\u0002\u0002\u0002\u0002\u0002\u0002\u0002\u0002\u0002\u0002\u0002\u0002\u0002\u0002\u0002\u0002\u0002\u0002\u0002\u0002\u0002\u0002\u0002\u0002\u0002\u0002\u0002\u0002\u0002\u0002\u0002\u0002\u0002\u0002\u0002\u0002\u0002\u0002\u0002\u0002\u0002\u0002\u0002\u0002\u0002\u0002\u0002\u0002\u0002\u0002\u0002\u0002\u0002\u0002\u0002\u0002\u0002\u0002\u0002\u0002\u0002\u0002\u0002\u0002\u0002\u0002\u0002\u0002\u0002\u0002\u0002\u0002\u0002\u0002\u0002\u0002\u0002\u0002\u0002\u0002\u0002\u0002\u0002\u0002\u0002\u0002\u0002\u0002\u0002\u0002\u0002\u0002\u0002\u0002\u0002\u0002\u0002\u0002\u0002\u0002\u0002\u0002\u0002\u0002\u0002\u0002\u0002\u0002\u0002\u0002\u0002\u0002\u0002\u0002\u0002\u0002\u0002\u0002\u0002\u0002\u0002\u0002\u0002\u0002\u0002\u0002\u0002\u0002\u0002\u0002\u0002\u0002\u0002\u0002\u0002\u0002\u0002\u0002\u0002\u0002\u0002\u0002\u0002\u0002\u0002\u0002\u0002\u0002\u0002\u0002\u0002\u0002\u0002\u0002\u0002\u0002\u0002\u0002\u0002\u0002\u0002\u0002\u0002\u0002\u0002\u0002\u0002\u0002\u0002\u0002\u0002\u0002\u0002\u0002\u0002\u0002\u0002\u0002\u0002\u0002\u0002\u0002\u0002\u0002\u0002\u0002\u0002\u0002\u0002\u0002\u0002\u0002\u0002\u0002\u0002\u0002\u0002\u0002\u0002\u0002\u0002\u0002\u0002\u0002\u0002\u0002\u0002\u0002\u0002\u0002\u0002\u0002\u0002\u0002\u0002\u0002\u0002\u0002\u0002\u0002\u0002\u0002\u0002\u0002\u0002\u0002\u0002\u0002\u0002\u0002\u0002\u0002\u0002\u0002\u0002\u0002\u0002\u0002\u0002\u0002\u0002\u0002\u0002\u0002\u0002\u0002\u0002\u0002\u0002\u0002\u0002\u0002\u0002\u0002\u0002\u0002\u0002\u0002\u0002\u0002\u0002\u0002\u0002\u0002\u0002\u0002\u0002\u0002\u0002\u0002\u0002\u0002\u0002\u0002\u0002\u0002\u0002\u0002\u0002\u0002\u0002\u0002\u0002\u0002\u0002\u0002\u0002\u0002\u0002\u0002\u0002\u0002\u0002\u0002\u0002\u0002\u0002\u0002\u0002\u0002\u0002\u0002\u0002\u0002\u0002\u0002\u0002\u0002\u0002\u0002\u0002\u0002\u0002\u0002\u0002\u0002\u0002\u0002\u0002\u0002\u0002\u0002\u0002\u0002\u0002\u0002\u0002\u0002\u0002\u0002\u0002\u0002\u0002\u0002\u0002\u0002\u0002\u0002\u0002\u0002\u0002\u0002\u0002\u0002\u0002\u0002\u0002\u0002\u0002\u0002\u0002\u0002\u0002\u0002\u0002\u0002\u0002\u0002\u0002\u0002\u0002\u0002\u0002\u0002\u0002\u0002\u0002\u0002\u0002\u0002\u0002\u0002\u0002\u0002\u0002\u0002\u0002\u0002\u0002\u0002\u0002\u0002\u0002\u0002\u0002\u0002\u0002\u0002\u0002\u0002\u0002\u0002\u0002\u0002\u0002\u0002\u0002\u0002\u0002\u0002\u0002\u0002\u0002\u0002\u0002\u0002\u0002\u0002\u0002\u0002\u0002\u0002\u0002\u0002\u0002\u0002\u0002\u0002\u0002\u0002\u0002\u0002\u0002\u0002\u0002\u0002\u0002\u0002\u0002\u0002\u0002\u0002\u0002\u0002\u0002\u0002\u0002\u0002\u0002\u0002\u0002\u0002\u0002\u0002\u0002\u0002\u0002\u0002\u0002\u0002\u0002\u0002\u0002\u0002\u0002\u0002\u0002\u0002\u0002\u0002\u0002\u0002\u0002\u0002\u0002\u0002\u0002\u0002\u0002\u0002\u0002\u0002\u0002\u0002\u0002\u0002\u0002\u0002\u0002\u0002\u0002\u0002\u0002\u0002\u0002\u0002\u0002\u0002\u0002\u0002\u0002\u0002\u0002\u0002\u0002\u0002\u0002\u0002\u0002\u0002\u0002\u0002\u0002\u0002\u0002\u0002\u0002\u0002\u0002\u0002\u0002\u0002\u0002\u0002\u0002\u0002\u0002\u0002\u0002\u0002\u0002\u0002\u0002\u0002\u0002\u0002\u0002\u0002\u0002\u0002\u0002\u0002\u0002\u0002\u0002\u0002\u0002\u0002\u0002\u0002\u0002\u0002\u0002\u0002\u0002\u0002\u0002\u0002\u0002\u0002\u0002\u0002\u0002\u0002\u0002\u0002\u0002\u0002\u0002\u0002\u0002\u0002\u0002\u0002\u0002\u0002\u0002\u0002\u0002\u0002\u0002\u0002\u0002\u0002\u0002\u0002\u0002\u0002\u0002\u0002\u0002\u0002\u0002\u0002\u0002\u0002\u0002\u0002\u0002\u0002\u0002\u0002\u0002\u0002\u0002\u0002\u0002\u0002\u0002\u0002\u0002\u0002\u0002\u0002\u0002\u0002\u0002\u0002\u0002\u0002\u0002\u0002\u0002\u0002\u0002\u0002\u0002\u0002\u0002\u0002\u0002\u0002\u0002\u0002\u0002\u0002\u0002\u0002\u0002\u0002\u0002\u0002\u0002\u0002\u0002\u0002\u0002\u0002\u0002\u0002\u0002\u0002\u0002\u0002\u0002\u0002\u0002\u0002\u0002\u0002\u0002\u0002\u0002\u0002\u0002\u0002\u0002\u0002\u0002\u0002\u0002\u0002\u0002\u0002\u0002\u0002\u0002\u0002\u0002\u0002\u0002\u0002\u0002\u0002\u0002\u0002\u0002\u0002\u0002\u0002\u0002\u0002\u0002\u0002\u0002\u0002\u0002\u0002\u0002\u0002\u0002\u0002\u0002\u0002\u0002\u0002\u0002\u0002\u0002\u0002\u0002\u0002\u0002\u0002\u0002\u0002\u0002\u0002\u0002\u0002\u0002\u0002\u0002\u0002\u0002\u0002\u0002\u0002\u0002\u0002\u0002\u0002\u0002\u0002\u0002\u0002\u0002\u0002\u0002\u0002\u0002\u0002\u0002\u0002\u0002\u0002\u0002\u0002\u0002\u0002\u0002\u0002\u0002\u0002\u0002\u0002\u0002\u0002\u0002\u0002\u0002\u0002\u0002\u0002\u0002\u0002\u0002\u0002\u0002\u0002\u0002\u0002\u0002\u0002\u0002\u0002\u0002\u0002\u0002\u0002\u0002\u0002\u0002\u0002\u0002\u0002\u0002\u0002\u0002\u0002\u0002\u0002\u0002\u0002\u0002\u0002\u0002\u0002\u0002\u0002\u0002\u0002\u0002\u0002\u0002\u0002\u0002\u0002\u0002\u0002\u0002\u0002\u0002\u0002\u0002\u0002\u0002\u0002\u0002\u0002\u0002\u0002\u0002\u0002\u0002\u0002\u0002\u0002\u0002\u0002\u0002\u0002\u0002\u0002\u0002\u0002\u0002\u0002\u0002\u0002\u0002\u0002\u0002\u0002\u0002\u0002\u0002\u0002\u0002\u0002\u0002\u0002\u0002\u0002\u0002\u0002\u0002\u0002\u0002\u0002\u0002\u0002\u0002\u0002\u0002\u0002\u0002\u0002\u0002\u0002\u0002\u0002\u0002\u0002\u0002\u0002\u0002\u0002\u0002\u0002\u0002\u0002\u0002\u0002\u0002\u0002\u0002\u0002\u0002\u0002\u0002\u0002\u0002\u0002\u0002\u0002\u0002\u0002\u0002\u0002\u0002\u0002\u0002\u0002\u0002\u0002\u0002\u0002\u0002\u0002\u0002\u0002\u0002\u0002\u0002\u0002\u0002\u0002\u0002\u0002\u0002\u0002\u0002\u0002\u0002\u0002\u0002\u0002\u0002\u0002\u0002\u0002\u0002\u0002\u0002\u0002\u0002\u0002\u0002\u0002\u0002\u0002\u0002\u0002\u0002\u0002\u0002\u0002\u0002\u0002\u0002\u0002\u0002\u0002\u0002\u0002\u0002\u0002\u0002\u0002\u0002\u0002\u0002\u0002\u0002\u0002\u0002\u0002\u0002\u0002\u0002\u0002\u0002\u0002\u0002\u0002\u0002\u0002\u0002\u0002\u0002\u0002\u0002\u0002\u0002\u0002\u0002\u0002\u0002\u0002\u0002\u0002\u0002\u0002\u0002\u0002\u0002\u0002\u0002\u0002\u0002\u0002\u0002\u0002\u0002\u0002\u0002\u0002\u0002\u0002\u0002\u0002\u0002\u0002\u0002\u0002\u0002\u0002\u0002\u0002\u0002\u0002\u0002\u0002\u0002\u0002\u0002\u0002\u0002\u0002\u0002\u0002\u0002\u0002\u0002\u0002\u0002\u0002\u0002\u0002\u0002\u0002\u0002\u0002\u0002\u0002\u0002\u0002\u0002\u0002\u0002\u0002\u0002\u0002\u0002\u0002\u0002\u0002\u0002\u0002\u0002\u0002\u0002\u0002\u0002\u0002\u0002\u0002\u0002\u0002\u0002\u0002\u0002\u0002\u0002\u0002\u0002\u0002\u0002\u0002\u0002\u0002\u0002\u0002\u0002\u0002\u0002\u0002\u0002\u0002\u0002\u0002\u0002\u0002\u0002\u0002\u0002\u0002\u0002\u0002\u0002\u0002\u0002\u0002\u0002\u0002\u0002\u0002\u0002\u0002\u0002\u0002\u0002\u0002\u0002\u0002\u0002\u0002\u0002\u0002\u0002\u0002\u0002\u0002\u0002\u0002\u0002\u0002\u0002\u0002\u0002\u0002\u0002\u0002\u0002\u0002\u0002\u0002\u0002\u0002\u0002\u0002\u0002\u0002\u0002\u0002\u0002\u0002\u0002\u0002\u0002\u0002\u0002\u0002\u0002\u0002\u0002\u0002\u0002\u0002\u0002\u0002\u0002\u0002\u0002\u0002\u0002\u0002\u0002\u0002\u0002\u0002\u0002\u0002\u0002\u0002\u0002\u0002\u0002\u0002\u0002\u0002\u0002\u0002\u0002\u0002\u0002\u0002\u0002\u0002\u0002\u0002\u0002\u0002\u0002\u0002\u0002\u0002\u0002\u0002\u0002\u0002\u0002\u0002\u0002\u0002\u0002\u0002\u0002\u0002\u0002\u0002\u0002\u0002\u0002\u0002\u0002\u0002\u0002\u0002\u0002\u0002\u0002\u0002\u0002\u0002\u0002\u0002\u0002\u0002\u0002\u0002\u0002\u0002\u0002\u0002\u0002\u0002\u0002\u0002\u0002\u0002\u0002\u0002\u0002\u0002\u0002\u0002\u0002\u0002\u0002\u0002\u0002\u0002\u0002\u0002\u0002\u0002\u0002\u0002\u0002\u0002\u0002\u0002\u0002\u0002\u0002\u0002\u0002\u0002\u0002\u0002\u0002\u0002\u0002\u0002\u0002\u0002\u0002\u0002\u0002\u0002\u0002\u0002\u0002\u0002\u0002\u0002\u0002\u0002\u0002\u0002\u0002\u0002\u0002\u0002\u0002\u0002\u0002\u0002\u0002\u0002\u0002\u0002\u0002\u0002\u0002\u0002\u0002\u0002\u0002\u0002\u0002\u0002\u0002\u0002\u0002\u0002\u0002\u0002\u0002\u0002\u0002\u0002\u0002\u0002\u0002\u0002\u0002\u0002\u0002\u0002\u0002\u0002\u0002\u0002\u0002\u0002\u0002\u0002\u0002\u0002\u0002\u0002\u0002\u0002\u0002\u0002\u0002\u0002\u0002\u0002\u0002\u0002\u0002\u0002\u0002\u0002\u0002\u0002\u0002\u0002\u0002\u0002\u0002\u0002\u0002\u0002\u0002\u0002\u0002\u0002\u0002\u0002\u0002\u0002\u0002\u0002\u0002\u0002\u0002\u0002\u0002\u0002\u0002\u0002\u0002\u0002\u0002\u0002\u0002\u0002\u0002\u0002\u0002\u0002\u0002\u0002\u0002\u0002\u0002\u0002\u0002\u0002\u0002\u0002\u0002\u0002\u0002\u0002\u0002\u0002\u0002\u0002\u0002\u0002\u0002\u0002\u0002\u0002\u0002\u0002\u0002\u0002\u0002\u0002\u0002\u0002\u0002\u0002\u0002\u0002\u0002\u0002\u0002\u0002\u0002\u0002\u0002\u0002\u0002\u0002\u0002\u0002\u0002\u0002\u0002\u0002\u0002\u0002\u0002\u0002\u0002\u0002\u0002\u0002\u0002\u0002\u0002\u0002\u0002\u0002\u0002\u0002\u0002\u0002\u0002\u0002\u0002\u0002\u0002\u0002\u0002\u0002\u0002\u0002\u0002\u0002\u0002\u0002\u0002\u0002\u0002\u0002\u0002\u0002\u0002\u0002\u0002\u0002\u0002\u0002\u0002\u0002\u0002\u0002\u0002\u0002\u0002\u0002\u0002\u0002\u0002\u0002\u0002\u0002\u0002\u0002\u0002\u0002\u0002\u0002\u0002\u0002\u0002\u0002\u0002\u0002\u0002\u0002\u0002\u0002\u0002\u0002\u0002\u0002\u0002\u0002\u0002\u0002\u0002\u0002\u0002\u0002\u0002\u0002\u0002\u0002\u0002\u0002\u0002\u0002\u0002\u0002\u0002\u0002\u0002\u0002\u0002\u0002\u0002\u0002\u0002\u0002\u0002\u0002\u0002\u0002\u0002\u0002\u0002\u0002\u0002\u0002\u0002\u0002\u0002\u0002\u0002\u0002\u0002\u0002\u0002\u0002\u0002\u0002\u0002\u0002\u0002\u0002\u0002\u0002\u0002\u0002\u0002\u0002\u0002\u0002\u0002\u0002\u0002\u0002\u0002\u0002\u0002\u0002\u0002\u0002\u0002\u0002\u0002\u0002\u0002\u0002\u0002\u0002\u0002\u0002\u0002\u0002\u0002\u0002\u0002\u0002\u0002\u0002\u0002\u0002\u0002\u0002\u0002\u0002\u0002\u0002\u0002\u0002\u0002\u0002\u0002\u0002\u0002\u0002\u0002\u0002\u0002\u0002\u0002\u0002\u0002\u0002\u0002\u0002\u0002\u0002\u0002\u0002\u0002\u0002\u0002\u0002\u0002\u0002\u0002\u0002\u0002\u0002\u0002\u0002\u0002\u0002\u0002\u0002\u0002\u0002\u0002\u0002\u0002\u0002\u0002\u0002\u0002\u0002\u0002\u0002\u0002\u0002\u0002\u0002\u0002\u0002\u0002\u0002\u0002\u0002\u0002\u0002\u0002\u0002\u0002\u0002\u0002\u0002\u0002\u0002\u0002\u0002\u0002\u0002\u0002\u0002\u0002\u0002\u0002\u0002\u0002\u0002\u0002\u0002\u0002\u0002\u0002\u0002\u0002\u0002\u0002\u0002\u0002\u0002\u0002\u0002\u0002\u0002\u0002\u0002\u0002\u0002\u0002\u0002\u0002\u0002\u0002\u0002\u0002\u0002\u0002\u0002\u0002\u0002\u0002\u0002\u0002\u0002\u0002\u0002\u0002\u0002\u0002\u0002\u0002\u0002\u0002\u0002\u0002\u0002\u0002\u0002\u0002\u0002\u0002\u0002\u0002\u0002\u0002\u0002\u0002\u0002\u0002\u0002\u0002\u0002\u0002\u0002\u0002\u0002\u0002\u0002\u0002\u0002\u0002\u0002\u0002\u0002\u0002\u0002\u0002\u0002\u0002\u0002\u0002\u0002\u0002\u0002\u0002\u0002\u0002\u0002\u0002\u0002\u0002\u0002\u0002\u0002\u0002\u0002\u0002\u0002\u0002\u0002\u0002\u0002\u0002\u0002\u0002\u0002\u0002\u0002\u0002\u0002\u0002\u0002\u0002\u0002\u0002\u0002\u0002\u0002\u0002\u0002\u0002\u0002\u0002\u0002\u0002\u0002\u0002\u0002\u0002\u0002\u0002\u0002\u0002\u0002\u0002\u0002\u0002\u0002\u0002\u0002\u0002\u0002\u0002\u0002\u0002\u0002\u0002\u0002\u0002\u0002\u0002\u0002\u0002\u0002\u0002\u0002\u0002\u0002\u0002\u0002\u0002\u0002\u0002\u0002\u0002\u0002\u0002\u0002\u0002\u0002\u0002\u0002\u0002\u0002\u0002\u0002\u0002\u0002\u0002\u0002\u0002\u0002\u0002\u0002\u0002\u0002\u0002\u0002\u0002\u0002\u0002\u0002\u0002\u0002\u0002\u0002\u0002\u0002\u0002\u0002\u0002\u0002\u0002\u0002\u0002\u0002\u0002\u0002\u0002\u0002\u0002\u0002\u0002\u0002\u0002\u0002\u0002\u0002\u0002\u0002\u0002\u0002\u0002\u0002\u0002\u0002\u0002\u0002\u0002\u0002\u0002\u0002\u0002\u0002\u0002\u0002\u0002\u0002\u0002\u0002\u0002\u0002\u0002\u0002\u0002\u0002\u0002\u0002\u0002\u0002\u0002\u0002\u0002\u0002\u0002\u0002\u0002\u0002\u0002\u0002\u0002\u0002\u0002\u0002\u0002\u0002\u0002\u0002\u0002\u0002\u0002\u0002\u0002\u0002\u0002\u0002\u0002\u0002\u0002\u0002\u0002\u0002\u0002\u0002\u0002\u0002\u0002\u0002\u0002\u0002\u0002\u0002\u0002\u0002\u0002\u0002\u0002\u0002\u0002\u0002\u0002\u0002\u0002\u0002\u0002\u0002\u0002\u0002\u0002\u0002\u0002\u0002\u0002\u0002\u0002\u0002\u0002\u0002\u0002\u0002\u0002\u0002\u0002\u0002\u0002\u0002\u0002\u0002\u0002\u0002\u0002\u0002\u0002\u0002\u0002\u0002\u0002\u0002\u0002\u0002\u0002\u0002\u0002\u0002\u0002\u0002\u0002\u0002\u0002\u0002\u0002\u0002\u0002\u0002\u0002\u0002\u0002\u0002\u0002\u0002\u0002\u0002\u0002\u0002\u0002\u0002\u0002\u0002\u0002\u0002\u0002\u0002\u0002\u0002\u0002\u0002\u0002\u0002\u0002\u0002\u0002\u0002\u0002\u0002\u0002\u0002\u0002\u0002\u0002\u0002\u0002\u0002\u0002\u0002\u0002\u0002\u0002\u0002\u0002\u0002\u0002\u0002\u0002\u0002\u0002\u0002\u0002\u0002\u0002\u0002\u0002\u0002\u0002\u0002\u0002\u0002\u0002\u0002\u0002\u0002\u0002\u0002\u0002\u0002\u0002\u0002\u0002\u0002\u0002\u0002\u0002\u0002\u0002\u0002\u0002\u0002\u0002\u0002\u0002\u0002\u0002\u0002\u0002\u0002\u0002\u0002\u0002\u0002\u0002\u0002\u0002\u0002\u0002\u0002\u0002\u0002\u0002\u0002\u0002\u0002\u0002\u0002\u0002\u0002\u0002\u0002\u0002\u0002\u0002\u0002\u0002\u0002\u0002\u0002\u0002\u0002\u0002\u0002\u0002\u0002\u0002\u0002\u0002\u0002\u0002\u0002\u0002\u0002\u0002\u0002\u0002\u0002\u0002\u0002\u0002\u0002\u0002\u0002\u0002\u0002\u0002\u0002\u0002\u0002\u0002\u0002\u0002\u0002\u0002\u0002\u0002\u0002\u0002\u0002\u0002\u0002\u0002\u0002\u0002\u0002\u0002\u0002\u0002\u0002\u0002\u0002\u0002\u0002\u0002\u0002\u0002\u0002\u0002\u0002\u0002\u0002\u0002\u0002\u0002\u0002\u0002\u0002\u0002\u0002\u0002\u0002\u0002\u0002\u0002\u0002\u0002\u0002\u0002\u0002\u0002\u0002\u0002\u0002\u0002\u0002\u0002\u0002\u0002\u0002\u0002\u0002\u0002\u0002\u0002\u0002\u0002\u0002\u0002\u0002\u0002\u0002\u0002\u0002\u0002\u0002\u0002\u0002\u0002\u0002\u0002\u0002\u0002\u0002\u0002\u0002\u0002\u0002\u0002\u0002\u0002\u0002\u0002\u0002\u0002\u0002\u0002\u0002\u0002\u0002\u0002\u0002\u0002\u0002\u0002\u0002\u0002\u0002\u0002\u0002\u0002\u0002\u0002\u0002\u0002\u0002\u0002\u0002\u0002\u0002\u0002\u0002\u0002\u0002\u0002\u0002\u0002\u0002\u0002\u0002\u0002\u0002\u0002\u0002\u0002\u0002\u0002\u0002\u0002\u0002\u0002\u0002\u0002\u0002\u0002\u0002\u0002\u0002\u0002\u0002\u0002\u0002\u0002\u0002\u0002\u0002\u0002\u0002\u0002\u0002\u0002\u0002\u0002\u0002\u0002\u0002\u0002\u0002\u0002\u0002\u0002\u0002\u0002\u0002\u0002\u0002\u0002\u0002\u0002\u0002\u0002\u0002\u0002\u0002\u0002\u0002\u0002\u0002\u0002\u0002\u0002\u0002\u0002\u0002\u0002\u0002\u0002\u0002\u0002\u0002\u0002\u0002\u0002\u0002\u0002\u0002\u0002\u0002\u0002\u0002\u0002\u0002\u0002\u0002\u0002\u0002\u0002\u0002\u0002\u0002\u0002\u0002\u0002\u0002\u0002\u0002\u0002\u0002\u0002\u0002\u0002\u0002\u0002\u0002\u0002\u0002\u0002\u0002\u0002\u0002\u0002\u0002\u0002\u0002\u0002\u0002\u0002\u0002\u0002\u0002\u0002\u0002\u0002\u0002\u0002\u0002\u0002\u0002\u0002\u0002\u0002\u0002\u0002\u0002\u0002\u0002\u0002\u0002\u0002\u0002\u0002\u0002\u0002\u0002\u0002\u0002\u0002\u0002\u0002\u0002\u0002\u0002\u0002\u0002\u0002\u0002\u0002\u0002\u0002\u0002\u0002\u0002\u0002\u0002\u0002\u0002\u0002\u0002\u0002\u0002\u0002\u0002\u0002\u0002\u0002\u0002\u0002\u0002\u0002\u0002\u0002\u0002\u0002\u0002\u0002\u0002\u0002\u0002\u0002\u0002\u0002\u0002\u0002\u0002\u0002\u0002\u0002\u0002\u0002\u0002\u0002\u0002\u0002\u0002\u0002\u0002\u0002\u0002\u0002\u0002\u0002\u0002\u0002\u0002\u0002\u0002\u0002\u0002\u0002\u0002\u0002\u0002\u0002\u0002\u0002\u0002\u0002\u0002\u0002\u0002\u0002\u0002\u0002\u0002\u0002\u0002\u0002\u0002\u0002\u0002\u0002\u0002\u0002\u0002\u0002\u0002\u0002\u0002\u0002\u0002\u0002\u0002\u0002\u0002\u0002\u0002\u0002\u0002\u0002\u0002\u0002\u0002\u0002\u0002\u0002\u0002\u0002\u0002\u0002\u0002\u0002\u0002\u0002\u0002\u0002\u0002\u0002\u0002\u0002\u0002\u0002\u0002\u0002\u0002\u0002\u0002\u0002\u0002\u0002\u0002\u0002\u0002\u0002\u0002\u0002\u0002\u0002\u0002\u0002\u0002\u0002\u0002\u0002\u0002\u0002\u0002\u0002\u0002\u0002\u0002\u0002\u0002\u0002\u0002\u0002\u0002\u0002\u0002\u0002\u0002\u0002\u0002\u0002\u0002\u0002\u0002\u0002\u0002\u0002\u0002\u0002\u0002\u0002\u0002\u0002\u0002\u0002\u0002\u0002\u0002\u0002\u0002\u0002\u0002\u0002\u0002\u0002\u0002\u0002\u0002\u0002\u0002\u0002\u0002\u0002\u0002\u0002\u0002\u0002\u0002\u0002\u0002\u0002\u0002\u0002\u0002\u0002\u0002\u0002\u0002\u0002\u0002\u0002\u0002\u0002\u0002\u0002\u0002\u0002\u0002\u0002\u0002\u0002\u0002\u0002\u0002\u0002\u0002\u0002\u0002\u0002\u0002\u0002\u0002\u0002\u0002\u0002\u0002\u0002\u0002\u0002\u0002\u0002\u0002\u0002\u0002\u0002\u0002\u0002\u0002\u0002\u0002\u0002\u0002\u0002\u0002\u0002\u0002\u0002\u0002\u0002\u0002\u0002\u0002\u0002\u0002\u0002\u0002\u0002\u0002\u0002\u0002\u0002\u0002\u0002\u0002\u0002\u0002\u0002\u0002\u0002\u0002\u0002\u0002\u0002\u0002\u0002\u0002\u0002\u0002\u0002\u0002\u0002\u0002\u0002\u0002\u0002\u0002\u0002\u0002\u0002\u0002\u0002\u0002\u0002\u0002\u0002\u0002\u0002\u0002\u0002\u0002\u0002\u0002\u0002\u0002\u0002\u0002\u0002\u0002\u0002\u0002\u0002\u0002\u0002\u0002\u0002\u0002\u0002\u0002\u0002\u0002\u0002\u0002\u0002\u0002\u0002\u0002\u0002\u0002\u0002\u0002\u0002\u0002\u0002\u0002\u0002\u0002\u0002\u0002\u0002\u0002\u0002\u0002\u0002\u0002\u0002\u0002\u0002\u0002\u0002\u0002\u0002\u0002\u0002\u0002\u0002\u0002\u0002\u0002\u0002\u0002\u0002\u0002\u0002\u0002\u0002\u0002\u0002\u0002\u0002\u0002\u0002\u0002\u0002\u0002\u0002\u0002\u0002\u0002\u0002\u0002\u0002\u0002\u0002\u0002\u0002\u0002\u0002\u0002\u0002\u0002\u0002\u0002\u0002\u0002\u0002\u0002\u0002\u0002\u0002\u0002\u0002\u0002\u0002\u0002\u0002\u0002\u0002\u0002\u0002\u0002\u0002\u0002\u0002\u0002\u0002\u0002\u0002\u0002\u0002\u0002\u0002\u0002\u0002\u0002\u0002\u0002\u0002\u0002\u0002\u0002\u0002\u0002\u0002\u0002\u0002\u0002\u0002\u0002\u0002\u0002\u0002\u0002\u0002\u0002\u0002\u0002\u0002\u0002\u0002\u0002\u0002\u0002\u0002\u0002\u0002\u0002\u0002\u0002\u0002\u0002\u0002\u0002\u0002\u0002\u0002\u0002\u0002\u0002\u0002\u0002\u0002\u0002\u0002\u0002\u0002\u0002\u0002\u0002\u0002\u0002\u0002\u0002\u0002\u0002\u0002\u0002\u0002\u0002\u0002\u0002\u0002\u0002\u0002\u0002\u0002\u0002\u0002\u0002\u0002\u0002\u0002\u0002\u0002\u0002\u0002\u0002\u0002\u0002\u0002\u0002\u0002\u0002\u0002\u0002\u0002\u0002\u0002\u0002\u0002\u0002\u0002\u0002\u0002\u0002\u0002\u0002\u0002\u0002\u0002\u0002\u0002\u0002\u0002\u0002\u0002\u0002\u0002\u0002\u0002\u0002\u0002\u0002\u0002\u0002\u0002\u0002\u0002\u0002\u0002\u0002\u0002\u0002\u0002\u0002\u0002\u0002\u0002\u0002\u0002\u0002\u0002\u0002\u0002\u0002\u0002\u0002\u0002\u0002\u0002\u0002\u0002\u0002\u0002\u0002\u0002\u0002\u0002\u0002\u0002\u0002\u0002\u0002\u0002\u0002\u0002\u0002\u0002\u0002\u0002\u0002\u0002\u0002\u0002\u0002\u0002\u0002\u0002\u0002\u0002\u0002\u0002\u0002\u0002\u0002\u0002\u0002\u0002\u0002\u0002\u0002\u0002\u0002\u0002\u0002\u0002\u0002\u0002\u0002\u0002\u0002\u0002\u0002\u0002\u0002\u0002\u0002\u0002\u0002\u0002\u0002\u0002\u0002\u0002\u0002\u0002\u0002\u0002\u0002\u0002\u0002\u0002\u0002\u0002\u0002\u0002\u0002\u0002\u0002\u0002\u0002\u0002\u0002\u0002\u0002\u0002\u0002\u0002\u0002\u0002\u0002\u0002\u0002\u0002\u0002\u0002\u0002\u0002\u0002\u0002\u0002\u0002\u0002\u0002\u0002\u0002\u0002\u0002\u0002\u0002\u0002\u0002\u0002\u0002\u0002\u0002\u0002\u0002\u0002\u0002\u0002\u0002\u0002\u0002\u0002\u0002\u0002\u0002\u0002\u0002\u0002\u0002\u0002\u0002\u0002\u0002\u0002\u0002\u0002\u0002\u0002\u0002\u0002\u0002\u0002\u0002\u0002\u0002\u0002\u0002\u0002\u0002\u0002\u0002\u0002\u0002\u0002\u0002\u0002\u0002\u0002\u0002\u0002\u0002\u0002\u0002\u0002\u0002\u0002\u0002\u0002\u0002\u0002\u0002\u0002\u0002\u0002\u0002\u0002\u0002\u0002\u0002\u0002\u0002\u0002\u0002\u0002\u0002\u0002\u0002\u0002\u0002\u0002\u0002\u0002\u0002\u0002\u0002\u0002\u0002\u0002\u0002\u0002\u0002\u0002\u0002\u0002\u0002\u0002\u0002\u0002\u0002\u0002\u0002\u0002\u0002\u0002\u0002\u0002\u0002\u0002\u0002\u0002\u0002\u0002\u0002\u0002\u0002\u0002\u0002\u0002\u0002\u0002\u0002\u0002\u0002\u0002\u0002\u0002\u0002\u0002\u0002\u0002\u0002\u0002\u0002\u0002\u0002\u0002\u0002\u0002\u0002\u0002\u0002\u0002\u0002\u0002\u0002\u0002\u0002\u0002\u0002\u0002\u0002\u0002\u0002\u0002\u0002\u0002\u0002\u0002\u0002\u0002\u0002\u0002\u0002\u0002\u0002\u0002\u0002\u0002\u0002\u0002\u0002\u0002\u0002\u0002\u0002\u0002\u0002\u0002\u0002\u0002\u0002\u0002\u0002\u0002\u0002\u0002\u0002\u0002\u0002\u0002\u0002\u0002\u0002\u0002\u0002\u0002\u0002\u0002\u0002\u0002\u0002\u0002\u0002\u0002\u0002\u0002\u0002\u0002\u0002\u0002\u0002\u0002\u0002\u0002\u0002\u0002\u0002\u0002\u0002\u0002\u0002\u0002\u0002\u0002\u0002\u0002\u0002\u0002\u0002\u0002\u0002\u0002\u0002\u0002\u0002\u0002\u0002\u0002\u0002\u0002\u0002\u0002\u0002\u0002\u0002\u0002\u0002\u0002\u0002\u0002\u0002\u0002\u0002\u0002\u0002\u0002\u0002\u0002\u0002\u0002\u0002\u0002\u0002\u0002\u0002\u0002\u0002\u0002\u0002\u0002\u0002\u0002\u0002\u0002\u0002\u0002\u0002\u0002\u0002\u0002\u0002\u0002\u0002\u0002\u0002\u0002\u0002\u0002\u0002\u0002\u0002\u0002\u0002\u0002\u0002\u0002\u0002\u0002\u0002\u0002\u0002\u0002\u0002\u0002\u0002\u0002\u0002\u0002\u0002\u0002\u0002\u0002\u0002\u0002\u0002\u0002\u0002\u0002\u0002\u0002\u0002\u0002\u0002\u0002\u0002\u0002\u0002\u0002\u0002\u0002\u0002\u0002\u0002\u0002\u0002\u0002\u0002\u0002\u0002\u0002\u0002\u0002\u0002\u0002\u0002\u0002\u0002\u0002\u0002\u0002\u0002\u0002\u0002\u0002\u0002\u0002\u0002\u0002\u0002\u0002\u0002\u0002\u0002\u0002\u0002\u0002\u0002\u0002\u0002\u0002\u0002\u0002\u0002\u0002\u0002\u0002\u0002\u0002\u0002\u0002\u0002\u0002\u0002\u0002\u0002\u0002\u0002\u0002\u0002\u0002\u0002\u0002\u0002\u0002\u0002\u0002\u0002\u0002\u0002\u0002\u0002\u0002\u0002\u0002\u0002\u0002\u0002\u0002\u0002\u0002\u0002\u0002\u0002\u0002\u0002\u0002\u0002\u0002\u0002\u0002\u0002\u0002\u0002\u0002\u0002\u0002\u0002\u0002\u0002\u0002\u0002\u0002\u0002\u0002\u0002\u0002\u0002\u0002\u0002\u0002\u0002\u0002\u0002\u0002\u0002\u0002\u0002\u0002\u0002\u0002\u0002\u0002\u0002\u0002\u0002\u0002\u0002\u0002\u0002\u0002\u0002\u0002\u0002\u0002\u0002\u0002\u0002\u0002\u0002\u0002\u0002\u0002\u0002\u0002\u0002\u0002\u0002\u0002\u0002\u0002\u0002\u0002\u0002\u0002\u0002\u0002\u0002\u0002\u0002\u0002\u0002\u0002\u0002\u0002\u0002\u0002\u0002\u0002\u0002\u0002\u0002\u0002\u0002\u0002\u0002\u0002\u0002\u0002\u0002\u0002\u0002\u0002\u0002\u0002\u0002\u0002\u0002\u0002\u0002\u0002\u0002\u0002\u0002\u0002\u0002\u0002\u0002\u0002\u0002\u0002\u0002\u0002\u0002\u0002\u0002\u0002\u0002\u0002\u0002\u0002\u0002\u0002\u0002\u0002\u0002\u0002\u0002\u0002\u0002\u0002\u0002\u0002\u0002\u0002\u0002\u0002\u0002\u0002\u0002\u0002\u0002\u0002\u0002\u0002\u0002\u0002\u0002\u0002\u0002\u0002\u0002\u0002\u0002\u0002\u0002\u0002\u0002\u0002\u0002\u0002\u0002\u0002\u0002\u0002\u0002\u0002\u0002\u0002\u0002\u0002\u0002\u0002\u0002\u0002\u0002\u0002\u0002\u0002\u0002\u0002\u0002\u0002\u0002\u0002\u0002\u0002\u0002\u0002\u0002\u0002\u0002\u0002\u0002\u0002\u0002\u0002\u0002\u0002\u0002\u0002\u0002\u0002\u0002\u0002\u0002\u0002\u0002\u0002\u0002\u0002\u0002\u0002\u0002\u0002\u0002\u0002\u0002\u0002\u0002\u0002\u0002\u0002\u0002\u0002\u0002\u0002\u0002\u0002\u0002\u0002\u0002\u0002\u0002\u0002\u0002\u0002\u0002\u0002\u0002\u0002\u0002\u0002\u0002\u0002\u0002\u0002\u0002\u0002\u0002\u0002\u0002\u0002\u0002\u0002\u0002\u0002\u0002\u0002\u0002\u0002\u0002\u0002\u0002\u0002\u0002\u0002\u0002\u0002\u0002\u0002\u0002\u0002\u0002\u0002\u0002\u0002\u0002\u0002\u0002\u0002\u0002\u0002\u0002\u0002\u0002\u0002\u0002\u0002\u0002\u0002\u0002\u0002\u0002\u0002\u0002\u0002\u0002\u0002\u0002\u0002\u0002\u0002\u0002\u0002\u0002\u0002\u0002\u0002\u0002\u0002\u0002\u0002\u0002\u0002\u0002\u0002\u0002\u0002\u0002\u0002\u0002\u0002\u0002\u0002\u0002\u0002\u0002\u0002\u0002\u0002\u0002\u0002\u0002\u0002\u0002\u0002\u0002\u0002\u0002\u0002\u0002\u0002\u0002\u0002\u0002\u0002\u0002\u0002\u0002\u0002\u0002\u0002\u0002\u0002\u0002\u0002\u0002\u0002\u0002\u0002\u0002\u0002\u0002\u0002\u0002\u0002\u0002\u0002\u0002\u0002\u0002\u0002\u0002\u0002\u0002\u0002\u0002\u0002\u0002\u0002\u0002\u0002\u0002\u0002\u0002\u0002\u0002\u0002\u0002\u0002\u0002\u0002\u0002\u0002\u0002\u0002\u0002\u0002\u0002\u0002\u0002\u0002\u0002\u0002\u0002\u0002\u0002\u0002\u0002\u0002\u0002\u0002\u0002\u0002\u0002\u0002\u0002\u0002\u0002\u0002\u0002\u0002\u0002\u0002\u0002\u0002\u0002\u0002\u0002\u0002\u0002\u0002\u0002\u0002\u0002\u0002\u0002\u0002\u0002\u0002\u0002\u0002\u0002\u0002\u0002\u0002\u0002\u0002\u0002\u0002\u0002\u0002\u0002\u0002\u0002\u0002\u0002\u0002\u0002\u0002\u0002\u0002\u0002\u0002\u0002\u0002\u0002\u0002\u0002\u0002\u0002\u0002\u0002\u0002\u0002\u0002\u0002\u0002\u0002\u0002\u0002\u0002\u0002\u0002\u0002\u0002\u0002\u0002\u0002\u0002\u0002\u0002\u0002\u0002\u0002\u0002\u0002\u0002\u0002\u0002\u0002\u0002\u0002\u0002\u0002\u0002\u0002\u0002\u0002\u0002\u0002\u0002\u0002\u0002\u0002\u0002\u0002\u0002\u0002\u0002\u0002\u0002\u0002\u0002\u0002\u0002\u0002\u0002\u0002\u0002\u0002\u0002\u0002\u0002\u0002\u0002\u0002\u0002\u0002\u0002\u0002\u0002\u0002\u0002\u0002\u0002\u0002\u0002\u0002\u0002\u0002\u0002\u0002\u0002\u0002\u0002\u0002\u0002\u0002\u0002\u0002\u0002\u0002\u0002\u0002\u0002\u0002\u0002\u0002\u0002\u0002\u0002\u0002\u0002\u0002\u0002\u0002\u0002\u0002\u0002\u0002\u0002\u0002\u0002\u0002\u0002\u0002\u0002\u0002\u0002\u0002\u0002\u0002\u0002\u0002\u0002\u0002\u0002\u0002\u0002\u0002\u0002\u0002\u0002\u0002\u0002\u0002\u0002\u0002\u0002\u0002\u0002\u0002\u0002\u0002\u0002\u0002\u0002\u0002\u0002\u0002\u0002\u0002\u0002\u0002\u0002\u0002\u0002\u0002\u0002\u0002\u0002\u0002\u0002\u0002\u0002\u0002\u0002\u0002\u0002\u0002\u0002\u0002\u0002\u0002\u0002\u0002\u0002\u0002\u0002\u0002\u0002\u0002\u0002\u0002\u0002\u0002\u0002\u0002\u0002\u0002\u0002\u0002\u0002\u0002\u0002\u0002\u0002\u0002\u0002\u0002\u0002\u0002\u0002\u0002\u0002\u0002\u0002\u0002\u0002\u0002\u0002\u0002\u0002\u0002\u0002\u0002\u0002\u0002\u0002\u0002\u0002\u0002\u0002\u0002\u0002\u0002\u0002\u0002\u0002\u0002\u0002\u0002\u0002\u0002\u0002\u0002\u0002\u0002\u0002\u0002\u0002\u0002\u0002\u0002\u0002\u0002\u0002\u0002\u0002\u0002\u0002\u0002\u0002\u0002\u0002\u0002\u0002\u0002\u0002\u0002\u0002\u0002\u0002\u0002\u0002\u0002\u0002\u0002\u0002\u0002\u0002\u0002\u0002\u0002\u0002\u0002\u0002\u0002\u0002\u0002\u0002\u0002\u0002\u0002\u0002\u0002\u0002\u0002\u0002\u0002\u0002\u0002\u0002\u0002\u0002\u0002\u0002\u0002\u0002\u0002\u0002\u0002\u0002\u0002\u0002\u0002\u0002\u0002\u0002\u0002\u0002\u0002\u0002\u0002\u0002\u0002\u0002\u0002\u0002\u0002\u0002\u0002\u0002\u0002\u0002\u0002\u0002\u0002\u0002\u0002\u0002\u0002\u0002\u0002\u0002\u0002\u0002\u0002\u0002\u0002\u0002\u0002\u0002\u0002\u0002\u0002\u0002\u0002\u0002\u0002\u0002\u0002\u0002\u0002\u0002\u0002\u0002\u0002\u0002\u0002\u0002\u0002\u0002\u0002\u0002\u0002\u0002\u0002\u0002\u0002\u0002\u0002\u0002\u0002\u0002\u0002\u0002\u0002\u0002\u0002\u0002\u0002\u0002\u0002\u0002\u0002\u0002\u0002\u0002\u0002\u0002\u0002\u0002\u0002\u0002\u0002\u0002\u0002\u0002\u0002\u0002\u0002\u0002\u0002\u0002\u0002\u0002\u0002\u0002\u0002\u0002\u0002\u0002\u0002\u0002\u0002\u0002\u0002\u0002\u0002\u0002\u0002\u0002\u0002\u0002\u0002\u0002\u0002\u0002\u0002\u0002\u0002\u0002\u0002\u0002\u0002\u0002\u0002\u0002\u0002\u0002\u0002\u0002\u0002\u0002\u0002\u0002\u0002\u0002\u0002\u0002\u0002\u0002\u0002\u0002\u0002\u0002\u0002\u0002\u0002\u0002\u0002\u0002\u0002\u0002\u0002\u0002\u0002\u0002\u0002\u0002\u0002\u0002\u0002\u0002\u0002\u0002\u0002\u0002\u0002\u0002\u0002\u0002\u0002\u0002\u0002\u0002\u0002\u0002\u0002\u0002\u0002\u0002\u0002\u0002\u0002\u0002\u0002\u0002\u0002\u0002\u0002\u0002\u0002\u0002\u0002\u0002\u0002\u0002\u0002\u0002\u0002\u0002\u0002\u0002\u0002\u0002\u0002\u0002\u0002\u0002\u0002\u0002\u0002\u0002\u0002\u0002\u0002\u0002\u0002\u0002\u0002\u0002\u0002\u0002\u0002\u0002\u0002\u0002\u0002\u0002\u0002\u0002\u0002\u0002\u0002\u0002\u0002\u0002\u0002\u0002\u0002\u0002\u0002\u0002\u0002\u0002\u0002\u0002\u0002\u0002\u0002\u0002\u0002\u0002\u0002\u0002\u0002\u0002\u0002\u0002\u0002\u0002\u0002\u0002\u0002\u0002\u0002\u0002\u0002\u0002\u0002\u0002\u0002\u0002\u0002\u0002\u0002\u0002\u0002\u0002\u0002\u0002\u0002\u0002\u0002\u0002\u0002\u0002\u0002\u0002\u0002\u0002\u0002\u0002\u0002\u0002\u0002\u0002\u0002\u0002\u0002\u0002\u0002\u0002\u0002\u0002\u0002\u0002\u0002\u0002\u0002\u0002\u0002\u0002\u0002\u0002\u0002\u0002\u0002\u0002\u0002\u0002\u0002\u0002\u0002\u0002\u0002\u0002\u0002\u0002\u0002\u0002\u0002\u0002\u0002\u0002\u0002\u0002\u0002\u0002\u0002\u0002\u0002\u0002\u0002\u0002\u0002\u0002\u0002\u0002\u0002\u0002\u0002\u0002\u0002\u0002\u0002\u0002\u0002\u0002\u0002\u0002\u0002\u0002\u0002\u0002\u0002\u0002\u0002\u0002\u0002\u0002\u0002\u0002\u0002\u0002\u0002\u0002\u0002\u0002\u0002\u0002\u0002\u0002\u0002\u0002\u0002\u0002\u0002\u0002\u0002\u0002\u0002\u0002\u0002\u0002\u0002\u0002\u0002\u0002\u0002\u0002\u0002\u0002\u0002\u0002\u0002\u0002\u0002\u0002\u0002\u0002\u0002\u0002\u0002\u0002\u0002\u0002\u0002\u0002\u0002\u0002\u0002\u0002\u0002\u0002\u0002\u0002\u0002\u0002\u0002\u0002\u0002\u0002\u0002\u0002\u0002\u0002\u0002\u0002\u0002\u0002\u0002\u0002\u0002\u0002\u0002\u0002\u0002\u0002\u0002\u0002\u0002\u0002\u0002\u0002\u0002\u0002\u0002\u0002\u0002\u0002\u0002\u0002\u0002\u0002\u0002\u0002\u0002\u0002\u0002\u0002\u0002\u0002\u0002\u0002\u0002\u0002\u0002\u0002\u0002\u0002\u0002\u0002\u0002\u0002\u0002\u0002\u0002\u0002\u0002\u0002\u0002\u0002\u0002\u0002\u0002\u0002\u0002\u0002\u0002\u0002\u0002\u0002\u0002\u0002\u0002\u0002\u0002\u0002\u0002\u0002\u0002\u0002\u0002\u0002\u0002\u0002\u0002\u0002\u0002\u0002\u0002\u0002\u0002\u0002\u0002\u0002\u0002\u0002\u0002\u0002\u0002\u0002\u0002\u0002\u0002\u0002\u0002\u0002\u0002\u0002\u0002\u0002\u0002\u0002\u0002\u0002\u0002\u0002\u0002\u0002\u0002\u0002\u0002\u0002\u0002\u0002\u0002\u0002\u0002\u0002\u0002\u0002\u0002\u0002\u0002\u0002\u0002\u0002\u0002\u0002\u0002\u0002\u0002\u0002\u0002\u0002\u0002\u0002\u0002\u0002\u0002\u0002\u0002\u0002\u0002\u0002\u0002\u0002\u0002\u0002\u0002\u0002\u0002\u0002\u0002\u0002\u0002\u0002\u0002\u0002\u0002\u0002\u0002\u0002\u0002\u0002\u0002\u0002\u0002\u0002\u0002\u0002\u0002\u0002\u0002\u0002\u0002\u0002\u0002\u0002\u0002\u0002\u0002\u0002\u0002\u0002\u0002\u0002\u0002\u0002\u0002\u0002\u0002\u0002\u0002\u0002\u0002\u0002\u0002\u0002\u0002\u0002\u0002\u0002\u0002\u0002\u0002\u0002\u0002\u0002\u0002\u0002\u0002\u0002\u0002\u0002\u0002\u0002\u0002\u0002\u0002\u0002\u0002\u0002\u0002\u0002\u0002\u0002\u0002\u0002\u0002\u0002\u0002\u0002\u0002\u0002\u0002\u0002\u0002\u0002\u0002\u0002\u0002\u0002\u0002\u0002\u0002\u0002\u0002\u0002\u0002\u0002\u0002\u0002\u0002\u0002\u0002\u0002\u0002\u0002\u0002\u0002\u0002\u0002\u0002\u0002\u0002\u0002\u0002\u0002\u0002\u0002\u0002\u0002\u0002\u0002\u0002\u0002\u0002\u0002\u0002\u0002\u0002\u0002\u0002\u0002\u0002\u0002\u0002\u0002\u0002\u0002\u0002\u0002\u0002\u0002\u0002\u0002\u0002\u0002\u0002\u0002\u0002\u0002\u0002\u0002\u0002\u0002\u0002\u0002\u0002\u0002\u0002\u0002\u0002\u0002\u0002\u0002\u0002\u0002\u0002\u0002\u0002\u0002\u0002\u0002\u0002\u0002\u0002\u0002\u0002\u0002\u0002\u0002\u0002\u0002\u0002\u0002\u0002\u0002\u0002\u0002\u0002\u0002\u0002\u0002\u0002\u0002\u0002\u0002\u0002\u0002\u0002\u0002\u0002\u0002\u0002\u0002\u0002\u0002\u0002\u0002\u0002\u0002\u0002\u0002\u0002\u0002\u0002\u0002\u0002\u0002\u0002\u0002\u0002\u0002\u0002\u0002\u0002\u0002\u0002\u0002\u0002\u0002\u0002\u0002\u0002\u0002\u0002\u0002\u0002\u0002\u0002\u0002\u0002\u0002\u0002\u0002\u0002\u0002\u0002\u0002\u0002\u0002\u0002\u0002\u0002\u0002\u0002\u0002\u0002\u0002\u0002\u0002\u0002\u0002\u0002\u0002\u0002\u0002\u0002\u0002\u0002\u0002\u0002\u0002\u0002\u0002\u0002\u0002\u0002\u0002\u0002\u0002\u0002\u0002\u0002\u0002\u0002\u0002\u0002\u0002\u0002\u0002\u0002\u0002\u0002\u0002\u0002\u0002\u0002\u0002\u0002\u0002\u0002\u0002\u0002\u0002\u0002\u0002\u0002\u0002\u0002\u0002\u0002\u0002\u0002\u0002\u0002\u0002\u0002\u0002\u0002\u0002\u0002\u0002\u0002\u0002\u0002\u0002\u0002\u0002\u0002\u0002\u0002\u0002\u0002\u0002\u0002\u0002\u0002\u0002\u0002\u0002\u0002\u0002\u0002\u0002\u0002\u0002\u0002\u0002\u0002\u0002\u0002\u0002\u0002\u0002\u0002\u0002\u0002\u0002\u0002\u0002\u0002\u0002\u0002\u0002\u0002\u0002\u0002\u0002\u0002\u0002\u0002\u0002\u0002\u0002\u0002\u0002\u0002\u0002\u0002\u0002\u0002\u0002\u0002\u0002\u0002\u0002\u0002\u0002\u0002\u0002\u0002\u0002\u0002\u0002\u0002\u0002\u0002\u0002\u0002\u0002\u0002\u0002\u0002\u0002\u0002\u0002\u0002\u0002\u0002\u0002\u0002\u0002\u0002\u0002\u0002\u0002\u0002\u0002\u0002\u0002\u0002\u0002\u0002\u0002\u0002\u0002\u0002\u0002\u0002\u0002\u0002\u0002\u0002\u0002\u0002\u0002\u0002\u0002\u0002\u0002\u0002\u0002\u0002\u0002\u0002\u0002\u0002\u0002\u0002\u0002\u0002\u0002\u0002\u0002\u0002\u0002\u0002\u0002\u0002\u0002\u0002\u0002\u0002\u0002\u0002\u0002\u0002\u0002\u0002\u0002\u0002\u0002\u0002\u0002\u0002\u0002\u0002\u0002\u0002\u0002\u0002\u0002\u0002\u0002\u0002\u0002\u0002\u0002\u0002\u0002\u0002\u0002\u0002\u0002\u0002\u0002\u0002\u0002\u0002\u0002\u0002\u0002\u0002\u0002\u0002\u0002\u0002\u0002\u0002\u0002\u0002\u0002\u0002\u0002\u0002\u0002\u0002\u0002\u0002\u0002\u0002\u0002\u0002\u0002\u0002\u0002\u0002\u0002\u0002\u0002\u0002\u0002\u0002\u0002\u0002\u0002\u0002\u0002\u0002\u0002\u0002\u0002\u0002\u0002\u0002\u0002\u0002\u0002\u0002\u0002\u0002\u0002\u0002\u0002\u0002\u0002\u0002\u0002\u0002\u0002\u0002\u0002\u0002\u0002\u0002\u0002\u0002\u0002\u0002\u0002\u0002\u0002\u0002\u0002\u0002\u0002\u0002\u0002\u0002\u0002\u0002\u0002\u0002\u0002\u0002\u0002\u0002\u0002\u0002\u0002\u0002\u0002\u0002\u0002\u0002\u0002\u0002\u0002\u0002\u0002\u0002\u0002\u0002\u0002\u0002\u0002\u0002\u0002\u0002\u0002\u0002\u0002\u0002\u0002\u0002\u0002\u0002\u0002\u0002\u0002\u0002\u0002\u0002\u0002\u0002\u0002\u0002\u0002\u0002\u0002\u0002\u0002\u0002\u0002\u0002\u0002\u0002\u0002\u0002\u0002\u0002\u0002\u0002\u0002\u0002\u0002\u0002\u0002\u0002\u0002\u0002\u0002\u0002\u0002\u0002\u0002\u0002\u0002\u0002\u0002\u0002\u0002\u0002\u0002\u0002\u0002\u0002\u0002\u0002\u0002\u0002\u0002\u0002\u0002\u0002\u0002\u0002\u0002\u0002\u0002\u0002\u0002\u0002\u0002\u0002\u0002\u0002\u0002\u0002\u0002\u0002\u0002\u0002\u0002\u0002\u0002\u0002\u0002\u0002\u0002\u0002\u0002\u0002\u0002\u0002\u0002\u0002\u0002\u0002\u0002\u0002\u0002\u0002\u0002\u0002\u0002\u0002\u0002\u0002\u0002\u0002\u0002\u0002\u0002\u0002\u0002\u0002\u0002\u0002\u0002\u0002\u0002\u0002\u0002\u0002\u0002\u0002\u0002\u0002\u0002\u0002\u0002\u0002\u0002\u0002\u0002\u0002\u0002\u0002\u0002\u0002\u0002\u0002\u0002\u0002\u0002\u0002\u0002\u0002\u0002\u0002\u0002\u0002\u0002\u0002\u0002\u0002\u0002\u0002\u0002\u0002\u0002\u0002\u0002\u0002\u0002\u0002\u0002\u0002\u0002\u0002\u0002\u0002\u0002\u0002\u0002\u0002\u0002\u0002\u0002\u0002\u0002\u0002\u0002\u0002\u0002\u0002\u0002\u0002\u0002\u0002\u0002\u0002\u0002\u0002\u0002\u0002\u0002\u0002\u0002\u0002\u0002\u0002\u0002\u0002\u0002\u0002\u0002\u0002\u0002\u0002\u0002\u0002\u0002\u0002\u0002\u0002\u0002\u0002\u0002\u0002\u0002\u0002\u0002\u0002\u0002\u0002\u0002\u0002\u0002\u0002\u0002\u0002\u0002\u0002\u0002\u0002\u0002\u0002\u0002\u0002\u0002\u0002\u0002\u0002\u0002\u0002\u0002\u0002\u0002\u0002\u0002\u0002\u0002\u0002\u0002\u0002\u0002\u0002\u0002\u0002\u0002\u0002\u0002\u0002\u0002\u0002\u0002\u0002\u0002\u0002\u0002\u0002\u0002\u0002\u0002\u0002\u0002\u0002\u0002\u0002\u0002\u0002\u0002\u0002\u0002\u0002\u0002\u0002\u0002\u0002\u0002\u0002\u0002\u0002\u0002\u0002\u0002\u0002\u0002\u0002\u0002\u0002\u0002\u0002\u0002\u0002\u0002\u0002\u0002\u0002\u0002\u0002\u0002\u0002\u0002\u0002\u0002\u0002\u0002\u0002\u0002\u0002\u0002\u0002\u0002\u0002\u0002\u0002\u0002\u0002\u0002\u0002\u0002\u0002\u0002\u0002\u0002\u0002\u0002\u0002\u0002\u0002\u0002\u0002\u0002\u0002\u0002\u0002\u0002\u0002\u0002\u0002\u0002\u0002\u0002\u0002\u0002\u0002\u0002\u0002\u0002\u0002\u0002\u0002\u0002\u0002\u0002\u0002\u0002\u0002\u0002\u0002\u0002\u0002\u0002\u0002\u0002\u0002\u0002\u0002\u0002\u0002\u0002\u0002\u0002\u0002\u0002\u0002\u0002\u0002\u0002\u0002\u0002\u0002\u0002\u0002\u0002\u0002\u0002\u0002\u0002\u0002\u0002\u0002\u0002\u0002\u0002\u0002\u0002\u0002\u0002\u0002\u0002\u0002\u0002\u0002\u0002\u0002\u0002\u0002\u0002\u0002\u0002\u0002\u0002\u0002\u0002\u0002\u0002\u0002\u0002\u0002\u0002\u0002\u0002\u0002\u0002\u0002\u0002\u0002\u0002\u0002\u0002\u0002\u0002\u0002\u0002\u0002\u0002\u0002\u0002\u0002\u0002\u0002\u0002\u0002\u0002\u0002\u0002\u0002\u0002\u0002\u0002\u0002\u0002\u0002\u0002\u0002\u0002\u0002\u0002\u0002\u0002\u0002\u0002\u0002\u0002\u0002\u0002\u0002\u0002\u0002\u0002\u0002\u0002\u0002\u0002\u0002\u0002\u0002\u0002\u0002\u0002\u0002\u0002\u0002\u0002\u0002\u0002\u0002\u0002\u0002\u0002\u0002\u0002\u0002\u0002\u0002\u0002\u0002\u0002\u0002\u0002\u0002\u0002\u0002\u0002\u0002\u0002\u0002\u0002\u0002\u0002\u0002\u0002\u0002\u0002\u0002\u0002\u0002\u0002\u0002\u0002\u0002\u0002\u0002\u0002\u0002\u0002 X-TERRACESPAM: SUSPECTED (SR:-4.80) (by Terrace) X-TERRACE-PEERIP: 220.127.196.163 X-TERRACE-SID: 1480625707.913806.3547331440.mailrx10 X-TERRACE-CLASSID: type=BU,str01.0A150208.58404E5E.020F,ss=3,sh,re=0.000,\n",
            "0.0032529829 스/릴 넘/치/는/곳!  한 화면에 3가지 게임을 동시에! ★24시간 운영 ★[만.원]부터 출금가능 ◀◀◀여기를 눌러주세요!\n",
            "0.584226 の 섹 の 스 の 파 の 트 の 너를 -찾-으-시나요?    ☙매일매일-9시마다-내게-꼭-맞는-섹스파트너를-소개-받습니다☙ http://⒰  ⓒ  Ⓕ  ❾  ➂  ⑺.com\n",
            "0.584226 [­­광­고­­] SS­IBO­­JI.C­­OM 엔­조­이 즉­석­만­­남 ­주­소­창­에­­ 입­­력­해 ­­주­세­­요­­!\n",
            "0.08736504 (광고)프린스 https://bit.ly/강_남_20대_모_댈_언_니_와_술_한_잔_문_의_홈 무료거부0808771049\n",
            "7.752679e-05 [Web발신] 정다빈 과장 케이엠 아이스크림에듀 내일 보시고 보유종목조심 강한하락예상 대비하셨나요?\n",
            "0.015584007 동학개미모임오픈톡방 [Web발신] (광고)동학개미세력  금년 상반기 증권시장  사상연일 최고치를 기록하는 지금까지도  손실로 힘들어하신분들 더이상 힘들이유없습니다 다시는없을 기회의장에서 찬스를 잡으세요!   동학세력방링크.kr  핵심종목 추천!  빠른뉴스정보 지금이 기회! 지금 바로 참여! 주식초짜도 수익 창출  유료 NO! 무료 OK!  주식의 기회는 많지만  인생의 기회는 한번입니다.  상담도OK 관망도OK  동학세력방링크.kr  무료방들 여러개  들어가놓고  서로 비교해가면서  자기한테 가장  잘 맞는스타일  찾는게 중요한것같아요 지금 계신 방들도  물론 좋겠지만  무료방들 여러개  들어가서 손해  볼일은 없잖아요  저희는 수익부분에  왜곡이나 과장은  일체 하지 않습니다! 특히 무엇보다  묻지마존버 안하고  바로바로 실력확인  할수있는 단타위주로  알려줘서  저 같이 성격급한  사람한테 딱입니다!! 궁금하신 분은  무료입장해보세요.  동학세력방링크.kr  무료거부 0808000431\n",
            "0.66053104 [영민] [오후 5:46] [COINΟNE] 수상한기기에서 로그인감지되었습니다.확인후 사용해주세요. www.coinnoen.com\n",
            "0.011609108 \"나스닥 상장\" 쿠팡 심사통과 수혜주 수강료\"일체무상\" 무상리딩입장↓ https://han.gl/38uqd\n",
            "0.017205026 [Web발신] (광고)W우리증권 ▶3월 봄맞이 수익이벤트◀ 안녕하세요^^ 지난주부터 시작된 백신접종으로 이제 코로나도 얼마 안남았구나 하는 마음 입니다. 코로나로 인해 주식시장에도 큰 돌풍이 일었고 현재까지도 지속 되고 있습니다. 이 돌풍속에서 큰 수익을 보신분도 계시고 반면 큰 손실을 보신분들도 계실텐데 오늘은 손실보신 개인투자자분들께 도움의 손길을 내밀고자 합니다. # 3월 봄맞이 손실회복 프로젝트 - 대한민국 개인투자자분들께 일주일간 무료로 VIP정보를 제공하여 수익에 도움드리도록 하겠습니다. * 무료정보제공기간 * \" 2020-03-08 (월) 부터 일주일 !! \" ▶ 봄 한 글자만 문자로 남겨주시기 바랍니다. 그럼 대한민국 개인투자자 모두가 행복해질수있는 날이 빨리 올수 있도록 기원 하겠습니다. 주말 잘 보내십시오^^* ::: W우리증권 ::: 무료거부 0808809052\n",
            "0.0001279235 [Web발신] 안녕하십니까? 이낙연입니다.  오늘은 경선 선거인단모집(1차) 마지막날입니다.  더불어민주당 선거인단에 참여해주십시오. 지인들께도 권해 주시기 바랍니다.  열 분씩 권해 주시면 수백, 수천, 수만 명이 됩니다. 그러면 이깁니다.  내 삶을 지켜주는 나라, 바로 저 이낙연이 만들겠습니다.  대표번호 1668-1111, 보이는 ARS 1668-2022  이 문자를 지인들께 많이 전달해 주시기 바랍니다.  불법수집정보신고(118) 무료수신거부 0803892147\n",
            "0.10575648 [Web발신] 상해는 바로, 질병은 91일부터 혜택받는 치아보장 꼭 이용하세요 KB카드 장부연\n",
            "0.6985318 [Web발신] 6년무사고 비공개운영! 매이저총본사 본문자수신하신 V.I.P만가입가능 코<VP3>드\n",
            "0.23920417 1억을진짜따네 남일같았던1억 랜드에뺏긴돈 여기서찾아요 신규분들2만지급 BS828.com\n",
            "0.19528681 화..끈.해.서 재..밋.는.곳!\n",
            "0.0013440825 무엇을 상상하던 그이상의 재미!!! 오션게임!    ●화려한 예시와 짜릿한손맛 ★무료머니로 신나게 한판 ★5분 내 입출금처리 ◀◀◀여기를 눌러주세요!\n",
            "0.584226 EUB현금ㄱ ㅔ임 ㅂ┣ㄷ┣ㅇ┃ㅇ ㅑ ㄱ ┃ㄱ ㅔ임kdm 이동하기\n",
            "2.7011306e-06 ▶무료체험10만원-왕들의 전쟁 릴게임 3000만↗원 출↗금자 수↗두룩합니다   이미지표시 눌러주세요 ★100명이 게0임.을 할때 97명은 이.긴다..이게 바\\로 97.% 확률!!★ ~ ? 20대 남자 뭘했길래? 소주값 아껴 1억 대/박 도대체 뭘했길래 . . ★ '합니다­­­­\n",
            "0.584226 ★특급!릴GAME 여신&불&오공 잘뜨는집 큰'점수팍팍 어마무시하게 나와요   wcv38.\n",
            "0.584226 매장그대로! 18개에!특급 인기많은 게임들을 모아놨어요 구경하세요♪   REEL737.\n",
            "0.0123184165 (광고) 오 백 바 손 폰 션 경 다 오 컴 본점 qtk59 주말 행사  무료거부 0808100095 인증2142919\n",
            "0.008685539 은행권대환, 추가자금 MG새마을금고 수탁법인 01049822621  =================  해당이 되지 않으시거나 거부를 원하시는 분들은 \"거부\"라고 회신하여 주신다면 재발송 않도록 하겠습니다. 번호의 오류나 전산의 실수가 있을수 있사오니 양해 부탁드립니다.무료거부 0808703132\n",
            "0.38982815 **동양산 정부지원 민간임대아파트**  <마지막 회사보유분 로얄호실> ▶8년장기임대보장 ▶주택소유무관/소득무관 ▶청약통장NO 모든세금NO   복수계약YES(다호실투자) ▶8년간 내집처럼 8년후 내집마련   (임대료 25만원부터~) ▶최고34층(23'하반기 입주예정) ▶26평/36평 소형인기평형  양산최초A.I아파트 ▶계약금1,600만원/대출80%확정 수익률23%확정  ▶책임준공 보증금 보증  (극동건설 책임준공+한국주택금융공사 보증) ▶확정분양가로 분양전환!  선착순 동호지정! ▶7,000세대 택지개발지구   생활·교육·쇼핑 인프라1㎞이내 ▶부산,울산(차량10분대 출퇴근) ▶회야강생태하천 복원사업/  웅상 센트럴파크사업 사업확정! ▶부울광역철도(트램) 사업확정! ▶법적보호 표준임대차계약서  (전대차계약 자유) ▶계약자 프로모션 진행 (선착순 한정수량) ▶★선착순 동호수지정★ ▶직접 살아보고 결정할 수 있는   내집마련의 기회!!!  ★오이소~ 보이소~ 사이소~★ *분양문의 : 총괄사업부   권나연 차장 1833-4727  (코로나19로 인해 상시방문이 불가능한점 양해드리며,친절하게 방문예약 도와드리겠습니다\n",
            "0.65041023 [Web발신] (광고)(KB국민) 2019년마지막신청 연2.6%~1억원까지10년간 접수가능무료거부 0803501720\n",
            "0.49293962 [Web발신] 복잡하지않아요 <<카.드.결.제/필.요.한.여.유(금)>>지금전화주심바로처리.\n",
            "0.39242107 김미영팀장입니다고객님께서는최저이율로최고3000만원까지30분이내통장입금가능합니다\n",
            "0.39242107 이번달부터대출조건이대폭완화되었씁니다.대환및추가자금.100~3000까지가능<우리금융>\n",
            "0.49293962 [Web발신] [CJ대한통운]주문하신물품 미배달사유:도로명불일치.수정하세요http://bit,ly/2rvFkUP\n",
            "1.01102586e-07 배송 업체에서 배송을 준비했으며 오늘 17:08에 배송 될 예정입니다 자세히보기 http://tinyurl.com/yeh8245q\n",
            "0.048669755 청첩장이 도착하였습니다 많은참석 부탁드립니다 http://ti.or/uxyg\n",
            "0.19528681 코로나19확진자150명발생환자이동경로는역학조사후확인 http://mxxxt.xyz/ldxxdz\n",
            "0.6974275 [영민] [오후 5:32] 제주도 여행 상품권 증정  제주도 여행 상품권 증정!!!!  강남권에서 1,000세대 이상 분양받아간 상반기 최대 분양상품 85%분양완료 잔여세대 특별이벤트!  ☆☆☆특종!! GTX-D노선!!☆☆☆  ☆ GTX-D노선 최대수혜지 ☆ 예상차고지 바로 옆 -1890세대 ☆단일동☆ 수도권최대규모 -브랜드 현대 , 희림건축사 -2022년 3월 준공 -2년임대확정-매월 55만원  ☆한강신도시 중심 구래동☆ -유일한 1종 위락상업지구 (지역최대규모 동네상권과 비교불가 엄청난 크기 나이트,위락지구,클럽,대형마트,영화관,공원 등) -골드라인이라고 불리는 도시철도 작년 10월개통 -제2외곽순환도로 개통 -주변 약 2만평 지식산업센터 확정 (예정근무자 만오천명) -GTX-D노선(김포~하남) 예정 -인천2호선 연장 예정   ☆프리미엄☆ -지역최초!! 호텔식 조식서비스,컨시어지서비스 -약 900평규모 중정공원 -옥상  900m 러닝트랙 -1층 125개 상가 -저렴한 관리비 -확실한 브랜드 현대!  계약...\n",
            "0.41920555 [Web발신] (광고)당첨 진심으로 축하드립니다 cdfoo.com  고객만족도100%    무료거부:0805406547\n",
            "0.6985318 [Web발신] (광고)삼성로또 오늘이마지막 100일체험 3등안되면무효 등록하고1등되자 ☎무료거부0808621122\n",
            "0.1348063 [PAYCO] 상품명: 바디프랜드 484,200원 결제완료 익월총합산 968,400원 고객센터 070-7678-1234\n",
            "3.7178393e-06 [Web발신] (광고)[KT제휴] K-Deal 오픈 기념 타임 특가! 손연재 커블체어 단품, 2+1 최대 60% 할인 혜택!   단 하루! KT 고객만 즐기는 프리미엄 타임특가 찬스! 400만대 판매달성! 온가족 허리지킴이 손연재의 커블 체어 상품을 단독 특가로 만나보세요!   ▶K-Deal 이란? ① KT 회원만을 위한 프리미엄 쇼핑 서비스 ② 고객님 취향에 맞는 다양한 특가 상품 ③ 회원가입 없이도 구매 가능   ▶K-Deal 손연재 커블체어 특가 안내 - 혜택가: 39,800원~   ▶상품보기: https://bit.ly/3dDBRwI   ▶이용 문의 - 상품/교환/반품 문의: 가람포리아 고객센터 070-4794-8350 (평일 9시~18시) - 구매/취소/기타 문의: K-Deal 고객센터 1800-1011 (평일 9시 30분~18시 30분)   프리미엄 쇼핑 혜택 KT와 함께하세요!   무료 수신거부: 080-451-0114   [마음을 담다 KT]\n",
            "0.5826193 [Web발신] (광고)KMC 미확인 본인인증 12건 보기!  MyOTP유료가입:myotp.kr/C6BC9015  무료거부0808635591\n",
            "0.65041023 [Web발신] (광고)SIEG(지이크) 생일쿠폰10%X2매 CA155078 http://sw.co.kr/a/?m=03 무료거부0807002777\n",
            "0.38558173 [Web발신] [머니트리]&nbsp;&nbsp;487.000&nbsp;모바일&nbsp;&nbsp;소액결제완료&nbsp;익월합산청구예정&nb\n",
            "0.61428833 [Web발신] [웅상도서관]오늘저녁7시30분\"나는지방대시간강사다\"의 스타작가 김민섭특강 접수중\n",
            "0.014242342 [Web발신] LG생활건강 고객님은 2018년 12월 25일  광고수신동의하셨습니다 동의철회:080-863-5813\n",
            "0.61428833 [Web발신] 대상:연령무관 선착순10명 (양산시민) 접수:11/25(수)부터~12/6(일)까지\n",
            "0.00022618493 [Web발신] 안녕하세요, 아반토코리아입니다.  과학의 날 54주년을 맞이하며, 연구에 매진하고 계신 모든 과학자분들께 진심어린 감사 메세지를  전달드리고 싶습니다.  연구원 분들의 손을 안전하게 지켜주는 실험용 장갑들을 어떻게 선택해야 하는지를 확인할 수 있는 웨비나를 시청하시고 AKG 버즈 이어셋, 록시땅 핸드크림, 스타벅스 커피 등 푸짐한 경품을 제공하는 이벤트에 참여해보세요. https://cutt.ly/ovDDyjM  저희 아반토는 연구원 분들의 연구에 필요한 고순도 화학물질, 시약, 배지부터 실험장비 및  개인보호장비(PPE)에 이르기까지 고품질의 솔루션을 제공하는 신뢰할 수 있는 파트너가 되겠습니다.  전 세계 전문가들이 인정하고 사용 중인 아반토의 제품 및 서비스에 대해 궁금하신 사항이 있으시다면 언제든 아래 버튼을 눌러 상담 신청해주시길 바랍니다.  https://cutt.ly/BvDSmDK  더불어 4월 뉴스레터에서는 UHPLC/HPLC 분석법 개발 가속화와 크로마토그래피 선택 최적화를 위한 아반토 연구소 화이트페이퍼를 만나보실 수 있고, 아반토 NuSil의 솔루션이 어떻게 NASA 화성 탐사선의 대기권 진입을 도울 수 있었는지에 대한 컨텐츠도 확인할 수 있습니다. https://cutt.ly/4vDApJU  감사합니다.  수신 거부 이메일: ecommerce.korea@avantorsciences.com\n",
            "0.49293962 [Web발신] 현실리얼로맨스 로코연극[러브액츄얼리-시즌2]▶재관람이벤트1인9,000원/5.14~5.17☞선착순10명\n",
            "0.37834996 [국제발신]ooo님 해외인증 95*** USD799$ 결제완료 본인 아닌경우 한국 소비자원 문의:031-374-7405\n",
            "0.39242107 【JOYTEL】韩国免税店金卡免费领,乐天新罗等最高85折优惠,点击http://t.cn/EXlZj5a\n",
            "0.39242107 남성분들꼭보세요\n",
            "0.584226 -------- (광고)★리클라이너형 에어쇼파 2만원대 +무배 / ★여행 도난방지 벤처 슬링백 9,900원 무배 --------\n",
            "0.584226 ------------ (광고)nemo 녹물제거 샤워필터 5,900원 무배! / 종근당건강 추석선물세트 비밀특가 3만원대 -----------\n",
            "4.3270227e-08 (광고) [우리은행] [상품안내] [New] 운세 서비스 오픈!!  WON뱅킹에 신년운세, 토정비결, 타로카드 보러 오세요~  # 2021년 내 운세는? # 오늘의 운세는? # 무료서비스  ☞ 운세서비스 바로가기 : https://bit.ly/3qHxp4f  ※ 기타 문의 사항은 우리은행 고객센터(1588-5000)로 문의 바랍니다. ※  (유효기간 : 20210331 ) (무료)수신거부 080-257-2580 작성기준일:2020.12.11\n",
            "0.19328652 (광고) 한능검 2주 합격! 특별 이벤트 [Web발신] (광고)[교보문고] 한능검 2주 합격! 특별 이벤트 ★8/5(토) 한능검시험, 내일 접수마감★ 한국사능력검정 가산점 받고 스펙 UP! 빠른 심화 합격은 〈에듀윌 한국사〉 ★오늘부터 특별이벤트★ 지금 에듀윌 한능검 교재 구매 시 키워드훈련150제 + 수정테이프 증정! (선착순, 포인트 차감) 2주만에 심화 합격 '2주끝장' ☞ http://kyobobook.kr/060V16736465 심화 기출 600제 ☞ http://kyobobook.kr/060V26736465 한능검 우선순위 50 ☞ http://kyobobook.kr/060V36736465 무료수신거부: 080-012-1900\n",
            "0.34185308 [Web발신] BVLGARI COLORS 주얼리와 예술을 넘나드는 여정 이탈리아 럭셔리 브랜드 불가리에서 “불가리 컬러 전시회”를 개최합니다. 컬러의 대가 불가리의 이번 전시는 1930년대 초 부터 지금까지 불가리가 선보인 190여 점의 컬렉션을 바탕으로 주얼리에 생명력을 부여하는 컬러를 깊이 있게 다루며 불가리만의 다채로운 감정을 담아 냈습니다. 나아가 주얼리와 예술을 넘나들며 현대 미술의 저명한 국내 아티스트 7인과도 활발한 대화를 나누고자 합니다. 아름다운 젬스톤처럼 찬란하게 빛날 불가리의 여정을 함께 해보세요. 2021.07.20 - 2021.09.15 예술의전당 한가람디자인미술관 얼리버드 예매 링크 https://mms.bulgari.com/X2PmA - 전시회 티켓 수익금의 일부는 세이브더칠드런을 통해 도움이 필요한 국내 아동들에게 후원됩니다. - 얼리버드 티켓은 7/1-7/19 간 판매되며, 7/20-8/20 간 사용하실 수 있습니다. - 환불 규정, 취소 수수료는 각 예매처 사이트의 규정을 참고하시기 바랍니다. 롯데백화점 울산점 불가리 스토어 + 82-52-227-4116 광고 정보 수신을 원하지 않으시면 privacy@bulgari.com으로 메일 주시기 바랍니다.\n",
            "0.08736504 5마넌준다요 벳후환해요 개꿀.한국\n",
            "2.734563e-05 책대여점폐업...책판매 (광고)오책과비디오 마을 폐업 대여점 폐업으로 인해 모든 책을 싸게 판매하고있습니다 만화책과 환타지무협소설은 1000원부터 일반소설과 로맨스 소설은 3000원부터 판매 합니다 dvd는 3장 만원 판매합니다 *책 제목에따라 가격이 다릅니다* 오늘부터 5월 14일까지만 판매합니다 영업시간은 오전11시부터 오후10시까지 입니다 (일요일도 정상영업합니다) 주소: 도봉1동 611 신도봉시장 그동안 이용해 주신 여러분 감사합니다 좋은 하루 되세요 ^^ 무료거부0808883331\n",
            "0.584226 Your My Verify Service verification code is: 483329\n",
            "0.23920417 (광고)프린스 삼.성.동_패티쉬룸 셧츠&래깅스 홈P연결↓ bit.ly/철이__16 무료거부0808771049\n",
            "0.0862175 기사님모집-그동안등록제한되었던분 일시적으로 등록가능하며,지인분소개시 매달3만원지급이벤트\n",
            "0.1996199 [Web발신] [울산헌혈의집] 전혈,혈소판이벤트~7.8 이벤트확인☞ vo.la/fFeGn 생명을 살리는 사람,바로 우리\n",
            "0.00063150947 [Web발신] (대한적십자사) 전혈 헌혈 문화상품권 2매 또는 일반기념품 증정, 6.25.(금)~7.4.(일)\n",
            "4.188142e-05 [Web발신] (대한적십자사) - 전혈 헌혈 문화상품권 2매 또는 일반기념품 증정, 6.4.(금)~6.13.(일) - 6.6.(현충일) 헌혈의집 운영 안내 : https://vo.la/6sy8m  ※ 헌혈자 여러분들께서는 레드커넥트를 통해 간편하게 헌혈 예약 및 혈액검사결과를 확인하실 수 있습니다.\n",
            "0.65041023 [Web발신] [울산대헌혈의집] 5.10~14모든헌혈자대상 당첨100%행운권추첨! 전혈시기념품1+1까지 vo.la/D9Lf3\n"
          ],
          "name": "stdout"
        }
      ]
    },
    {
      "cell_type": "markdown",
      "metadata": {
        "id": "KaT97knZCONd"
      },
      "source": [
        "전처리 등 입력하는 데이터에 대해 신경을 쓰면 더욱 성능을 높일 수 있을 것 같습니다 :)"
      ]
    },
    {
      "cell_type": "code",
      "metadata": {
        "id": "6TZ2b03mCOgU"
      },
      "source": [
        ""
      ],
      "execution_count": null,
      "outputs": []
    }
  ]
}